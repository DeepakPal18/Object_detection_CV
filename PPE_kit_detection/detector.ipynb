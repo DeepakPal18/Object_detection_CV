{
 "cells": [
  {
   "cell_type": "code",
   "execution_count": null,
   "id": "5dcb6ac7",
   "metadata": {},
   "outputs": [],
   "source": [
    "# link for imglabel generator - \n",
    "# https://github.com/HumanSignal/labelImg/releases/tag/v1.8.1"
   ]
  },
  {
   "cell_type": "code",
   "execution_count": null,
   "id": "36ae1c48",
   "metadata": {},
   "outputs": [],
   "source": [
    "from ultralytics import YOLO\n",
    "import cv2\n",
    "import cvzone\n",
    "import math"
   ]
  },
  {
   "cell_type": "code",
   "execution_count": null,
   "id": "04724912",
   "metadata": {},
   "outputs": [],
   "source": [
    "# cap = cv2.VideoCapture(\"\") # video"
   ]
  },
  {
   "cell_type": "code",
   "execution_count": null,
   "id": "6e858ea6",
   "metadata": {},
   "outputs": [],
   "source": [
    "# import yolo model weights"
   ]
  },
  {
   "cell_type": "code",
   "execution_count": null,
   "id": "2f0e872f",
   "metadata": {},
   "outputs": [],
   "source": [
    "#!yolo task = detect mode = train model=yolo8n.pt data = \"your data\" epochs=100 imgsz = 640"
   ]
  },
  {
   "cell_type": "code",
   "execution_count": null,
   "id": "2e22fbab",
   "metadata": {},
   "outputs": [],
   "source": []
  },
  {
   "cell_type": "code",
   "execution_count": null,
   "id": "e7fc6228",
   "metadata": {},
   "outputs": [],
   "source": [
    "model = YOLO(\"ppe.pt\")"
   ]
  },
  {
   "cell_type": "code",
   "execution_count": null,
   "id": "ea86b64e",
   "metadata": {},
   "outputs": [],
   "source": [
    "classNames = ['Hardhat', 'Mask', 'NO-Hardhat', 'NO-Mask', 'NO-Safety Vest', 'Person', 'Safety Cone',\n",
    "              'Safety Vest', 'machinery', 'vehicle']"
   ]
  },
  {
   "cell_type": "code",
   "execution_count": null,
   "id": "a31ddc36",
   "metadata": {},
   "outputs": [],
   "source": [
    "myColor = (0, 0, 255)\n",
    "while True:\n",
    "    success, img = cap.read()\n",
    "    results = model(img, stream=True)\n",
    "    for r in results:\n",
    "        boxes = r.boxes\n",
    "        for box in boxes:\n",
    "            # Bounding Box\n",
    "            x1, y1, x2, y2 = box.xyxy[0]\n",
    "            x1, y1, x2, y2 = int(x1), int(y1), int(x2), int(y2)\n",
    "            # cv2.rectangle(img,(x1,y1),(x2,y2),(255,0,255),3)\n",
    "            w, h = x2 - x1, y2 - y1\n",
    "            # cvzone.cornerRect(img, (x1, y1, w, h))\n",
    " \n",
    "            # Confidence\n",
    "            conf = math.ceil((box.conf[0] * 100)) / 100\n",
    "            # Class Name\n",
    "            cls = int(box.cls[0])\n",
    "            currentClass = classNames[cls]\n",
    "            print(currentClass)\n",
    "            if conf>0.5:\n",
    "                if currentClass =='NO-Hardhat' or currentClass =='NO-Safety Vest' or currentClass == \"NO-Mask\":\n",
    "                    myColor = (0, 0,255)\n",
    "                elif currentClass =='Hardhat' or currentClass =='Safety Vest' or currentClass == \"Mask\":\n",
    "                    myColor =(0,255,0)\n",
    "                else:\n",
    "                    myColor = (255, 0, 0)\n",
    " \n",
    "                cvzone.putTextRect(img, f'{classNames[cls]} {conf}',\n",
    "                                   (max(0, x1), max(35, y1)), scale=1, thickness=1,colorB=myColor,\n",
    "                                   colorT=(255,255,255),colorR=myColor, offset=5)\n",
    "                cv2.rectangle(img, (x1, y1), (x2, y2), myColor, 3)\n",
    " \n",
    "    cv2.imshow(\"Image\", img)\n",
    "    cv2.waitKey(1)"
   ]
  },
  {
   "cell_type": "code",
   "execution_count": null,
   "id": "d191b59b",
   "metadata": {},
   "outputs": [],
   "source": []
  },
  {
   "cell_type": "code",
   "execution_count": null,
   "id": "d70608d3",
   "metadata": {},
   "outputs": [],
   "source": []
  }
 ],
 "metadata": {
  "kernelspec": {
   "display_name": "Python 3 (ipykernel)",
   "language": "python",
   "name": "python3"
  },
  "language_info": {
   "codemirror_mode": {
    "name": "ipython",
    "version": 3
   },
   "file_extension": ".py",
   "mimetype": "text/x-python",
   "name": "python",
   "nbconvert_exporter": "python",
   "pygments_lexer": "ipython3",
   "version": "3.11.5"
  }
 },
 "nbformat": 4,
 "nbformat_minor": 5
}
