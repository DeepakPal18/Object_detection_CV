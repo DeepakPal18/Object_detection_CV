{
 "cells": [
  {
   "cell_type": "code",
   "execution_count": null,
   "id": "e09bb7a5",
   "metadata": {},
   "outputs": [],
   "source": [
    "# dependencies for tracker - \n",
    "# !pip install filterpy\n",
    "# !pip install scikit-image\n",
    "# !pip install lap"
   ]
  },
  {
   "cell_type": "code",
   "execution_count": 1,
   "id": "8883e59e",
   "metadata": {},
   "outputs": [],
   "source": [
    "#tracking id - \n",
    "import sort # sort.py file containing tracker code\n",
    "from sort import *\n",
    "from ultralytics import YOLO\n",
    "import cv2\n",
    "import cvzone\n",
    "import time\n",
    "import math"
   ]
  },
  {
   "cell_type": "code",
   "execution_count": 2,
   "id": "47328870",
   "metadata": {},
   "outputs": [],
   "source": [
    "classNames = [\"person\", \"bicycle\", \"car\", \"motorbike\", \"aeroplane\", \"bus\", \"train\", \"truck\", \"boat\",\n",
    "              \"traffic light\", \"fire hydrant\", \"stop sign\", \"parking meter\", \"bench\", \"bird\", \"cat\",\n",
    "              \"dog\", \"horse\", \"sheep\", \"cow\", \"elephant\", \"bear\", \"zebra\", \"giraffe\", \"backpack\", \"umbrella\",\n",
    "              \"handbag\", \"tie\", \"suitcase\", \"frisbee\", \"skis\", \"snowboard\", \"sports ball\", \"kite\", \"baseball bat\",\n",
    "              \"baseball glove\", \"skateboard\", \"surfboard\", \"tennis racket\", \"bottle\", \"wine glass\", \"cup\",\n",
    "              \"fork\", \"knife\", \"spoon\", \"bowl\", \"banana\", \"apple\", \"sandwich\", \"orange\", \"broccoli\",\n",
    "              \"carrot\", \"hot dog\", \"pizza\", \"donut\", \"cake\", \"chair\", \"sofa\", \"pottedplant\", \"bed\",\n",
    "              \"diningtable\", \"toilet\", \"tvmonitor\", \"laptop\", \"mouse\", \"remote\", \"keyboard\", \"cell phone\",\n",
    "              \"microwave\", \"oven\", \"toaster\", \"sink\", \"refrigerator\", \"book\", \"clock\", \"vase\", \"scissors\",\n",
    "              \"teddy bear\", \"hair drier\", \"toothbrush\"\n",
    "              ]"
   ]
  },
  {
   "cell_type": "code",
   "execution_count": 30,
   "id": "8de6f80b",
   "metadata": {},
   "outputs": [],
   "source": [
    "# use canva to design your mask ,create design, load video in your design , press r to create boxes and mask , finally downlaod it"
   ]
  },
  {
   "cell_type": "code",
   "execution_count": 5,
   "id": "67f48271",
   "metadata": {},
   "outputs": [
    {
     "name": "stderr",
     "output_type": "stream",
     "text": [
      "\n",
      "0: 384x640 6 cars, 147.7ms\n",
      "Speed: 3.5ms preprocess, 147.7ms inference, 0.0ms postprocess per image at shape (1, 3, 384, 640)\n",
      "\n",
      "0: 384x640 5 cars, 237.3ms\n",
      "Speed: 27.1ms preprocess, 237.3ms inference, 16.6ms postprocess per image at shape (1, 3, 384, 640)\n",
      "\n",
      "0: 384x640 5 cars, 171.4ms\n",
      "Speed: 1.0ms preprocess, 171.4ms inference, 0.0ms postprocess per image at shape (1, 3, 384, 640)\n",
      "\n",
      "0: 384x640 5 cars, 149.0ms\n",
      "Speed: 3.1ms preprocess, 149.0ms inference, 0.0ms postprocess per image at shape (1, 3, 384, 640)\n",
      "\n",
      "0: 384x640 5 cars, 156.2ms\n",
      "Speed: 3.1ms preprocess, 156.2ms inference, 12.8ms postprocess per image at shape (1, 3, 384, 640)\n",
      "\n",
      "0: 384x640 6 cars, 140.0ms\n",
      "Speed: 3.9ms preprocess, 140.0ms inference, 0.0ms postprocess per image at shape (1, 3, 384, 640)\n",
      "\n",
      "0: 384x640 5 cars, 140.2ms\n",
      "Speed: 3.0ms preprocess, 140.2ms inference, 0.0ms postprocess per image at shape (1, 3, 384, 640)\n",
      "\n",
      "0: 384x640 5 cars, 166.1ms\n",
      "Speed: 2.9ms preprocess, 166.1ms inference, 0.0ms postprocess per image at shape (1, 3, 384, 640)\n",
      "\n",
      "0: 384x640 5 cars, 134.0ms\n",
      "Speed: 3.4ms preprocess, 134.0ms inference, 0.0ms postprocess per image at shape (1, 3, 384, 640)\n",
      "\n",
      "0: 384x640 5 cars, 140.4ms\n",
      "Speed: 1.0ms preprocess, 140.4ms inference, 16.8ms postprocess per image at shape (1, 3, 384, 640)\n",
      "\n",
      "0: 384x640 5 cars, 137.9ms\n",
      "Speed: 2.8ms preprocess, 137.9ms inference, 0.0ms postprocess per image at shape (1, 3, 384, 640)\n",
      "\n",
      "0: 384x640 5 cars, 158.3ms\n",
      "Speed: 2.3ms preprocess, 158.3ms inference, 0.0ms postprocess per image at shape (1, 3, 384, 640)\n",
      "\n",
      "0: 384x640 6 cars, 119.0ms\n",
      "Speed: 2.5ms preprocess, 119.0ms inference, 15.6ms postprocess per image at shape (1, 3, 384, 640)\n"
     ]
    }
   ],
   "source": [
    "cap = cv2.VideoCapture(r\"C:\\Users\\Dell\\Downloads\\Analysis\\project9-Object_detection\\vid.mp4\") # path\n",
    "model = YOLO(r'C:\\Users\\Dell\\Downloads\\Analysis\\project9-Object_detection\\yolov8n.pt')\n",
    "mask = cv2.imread('yy.png')\n",
    "# resize mask -\n",
    "mask = cv2.resize(mask, (int(cap.get(3)), int(cap.get(4))))\n",
    "while True:\n",
    "    success,img = cap.read()\n",
    "    # for masked background\n",
    "    imgRegion = cv2.bitwise_and(img,mask)\n",
    "    result = model(imgRegion ,stream=True)\n",
    "    for r in result:\n",
    "        boxes = r.boxes\n",
    "        for box in boxes:\n",
    "            #x1,y1,x2,y2 = box.xyxy[0]\n",
    "            #x1,y1,x2,y2 = int(x1),int(y1),int(x2),int(y2)\n",
    "            #cv2.rectangle(img(x1,y1),(x2,y2),(0,200,0),3) # img points,color,thickness of box\n",
    "            \n",
    "            # for bounding box (using cvzone) - \n",
    "            x1,y1,x2,y2 = box.xyxy[0]\n",
    "            x1,y1,x2,y2 = int(x1),int(y1),int(x2),int(y2)\n",
    "            w,h = x2-x1,y2-y1\n",
    "            #cvzone.cornerRect(img,(x1,y1,w,h))\n",
    "            # for confidence level - \n",
    "            conf = math.ceil((box.conf[0]*100))/100\n",
    "            # for class - \n",
    "            cls = int(box.cls[0])\n",
    "            currclass = classNames[cls]\n",
    "            if currclass ==\"car\" or currclass == 'truck' and conf > 0.4:\n",
    "                cvzone.putTextRect(img,f'{currclass} {conf}',(max(0,x1),max(25,y1)),\n",
    "                                  scale=0.6,thickness=1,offset=3)# ,scale=0.7,thickness=1\n",
    "                cvzone.cornerRect(img,(x1,y1,w,h),l=6,t=3,rt=1)\n",
    "                \n",
    "                \n",
    "            \n",
    "             \n",
    "            \n",
    "            \n",
    "    cv2.imshow('Image',img)\n",
    "    cv2.imshow('ImageRegion',imgRegion)\n",
    "    # Wait for a key press, and break the loop if any key is pressed\n",
    "    key = cv2.waitKey(1) & 0xFF\n",
    "    if key != 255:  # Check if any key is pressed (not equal to 255)\n",
    "        break\n",
    "\n",
    "# Release the camera and close all OpenCV windows\n",
    "cap.release()\n",
    "cv2.destroyAllWindows()"
   ]
  },
  {
   "cell_type": "code",
   "execution_count": null,
   "id": "4b3923d0",
   "metadata": {},
   "outputs": [],
   "source": []
  },
  {
   "cell_type": "code",
   "execution_count": 3,
   "id": "e603086f",
   "metadata": {},
   "outputs": [
    {
     "name": "stderr",
     "output_type": "stream",
     "text": [
      "\n",
      "0: 384x640 6 cars, 283.9ms\n",
      "Speed: 9.0ms preprocess, 283.9ms inference, 21.1ms postprocess per image at shape (1, 3, 384, 640)\n",
      "\n"
     ]
    },
    {
     "name": "stdout",
     "output_type": "stream",
     "text": [
      "[        695         342         801         410           6]\n",
      "[        666         244         734         296           5]\n",
      "[        505         273         589         343           4]\n",
      "[        661         301         744         382           3]\n",
      "[        472         302         568         380           2]\n",
      "[        694         316         803         409           1]\n"
     ]
    },
    {
     "name": "stderr",
     "output_type": "stream",
     "text": [
      "0: 384x640 5 cars, 230.7ms\n",
      "Speed: 5.8ms preprocess, 230.7ms inference, 0.0ms postprocess per image at shape (1, 3, 384, 640)\n",
      "\n",
      "0: 384x640 5 cars, 158.9ms\n"
     ]
    },
    {
     "name": "stdout",
     "output_type": "stream",
     "text": [
      "[     665.76      245.19      732.24      296.81           5]\n",
      "[     505.43      275.65      588.57      343.35           4]\n",
      "[        662         303         744         383           3]\n",
      "[     473.15      303.88      568.85      381.12           2]\n",
      "[     694.86      317.12      804.14      410.88           1]\n"
     ]
    },
    {
     "name": "stderr",
     "output_type": "stream",
     "text": [
      "Speed: 1.6ms preprocess, 158.9ms inference, 0.0ms postprocess per image at shape (1, 3, 384, 640)\n",
      "\n"
     ]
    },
    {
     "name": "stdout",
     "output_type": "stream",
     "text": [
      "[     665.74      245.48      733.08      298.52           5]\n",
      "[     504.64      275.91      588.42      343.27           4]\n",
      "[     661.34         304      743.78      384.06           3]\n",
      "[     472.57      305.69      568.61      382.31           2]\n",
      "[     695.74      319.17      805.26      413.71           1]\n"
     ]
    },
    {
     "name": "stderr",
     "output_type": "stream",
     "text": [
      "0: 384x640 5 cars, 178.6ms\n",
      "Speed: 1.0ms preprocess, 178.6ms inference, 8.7ms postprocess per image at shape (1, 3, 384, 640)\n",
      "\n",
      "0: 384x640 5 cars, 151.5ms\n",
      "Speed: 8.0ms preprocess, 151.5ms inference, 0.0ms postprocess per image at shape (1, 3, 384, 640)\n"
     ]
    },
    {
     "name": "stdout",
     "output_type": "stream",
     "text": [
      "[     666.23      245.03      734.48      300.12           5]\n",
      "[     504.26      276.13      588.63      343.85           4]\n",
      "[     661.15      305.84      743.79       385.9           3]\n",
      "[     471.67      305.97      568.47      382.48           2]\n",
      "[     697.42      320.35      806.42      415.02           1]\n"
     ]
    },
    {
     "name": "stderr",
     "output_type": "stream",
     "text": [
      "\n"
     ]
    },
    {
     "name": "stdout",
     "output_type": "stream",
     "text": [
      "[     666.55      244.58      735.41      300.79           5]\n",
      "[     502.77      276.17      588.55      344.78           4]\n",
      "[     661.08      307.05      743.83       387.1           3]\n",
      "[     470.77      306.85      569.11      383.97           2]\n",
      "[     698.25      321.71      807.03      415.69           1]\n"
     ]
    },
    {
     "name": "stderr",
     "output_type": "stream",
     "text": [
      "0: 384x640 6 cars, 178.8ms\n",
      "Speed: 11.5ms preprocess, 178.8ms inference, 3.6ms postprocess per image at shape (1, 3, 384, 640)\n",
      "\n",
      "0: 384x640 5 cars, 160.8ms\n"
     ]
    },
    {
     "name": "stdout",
     "output_type": "stream",
     "text": [
      "[     667.28      244.93      735.75      301.19           5]\n",
      "[     500.53      276.52      588.11      345.42           4]\n",
      "[     660.62      308.71      744.29      389.01           3]\n",
      "[     469.67       307.9      569.42      385.78           2]\n",
      "[      698.1      323.61      808.25      417.97           1]\n"
     ]
    },
    {
     "name": "stderr",
     "output_type": "stream",
     "text": [
      "Speed: 0.6ms preprocess, 160.8ms inference, 0.0ms postprocess per image at shape (1, 3, 384, 640)\n",
      "\n"
     ]
    },
    {
     "name": "stdout",
     "output_type": "stream",
     "text": [
      "[     668.22      245.18      736.54      301.85           5]\n",
      "[     500.06      276.85      588.45       346.1           4]\n",
      "[     661.01      309.36      745.34      390.13           3]\n",
      "[     469.17      309.57      569.69      387.82           2]\n",
      "[     698.62      325.43      809.43      419.53           1]\n"
     ]
    },
    {
     "name": "stderr",
     "output_type": "stream",
     "text": [
      "0: 384x640 5 cars, 214.8ms\n",
      "Speed: 8.3ms preprocess, 214.8ms inference, 5.4ms postprocess per image at shape (1, 3, 384, 640)\n",
      "\n"
     ]
    },
    {
     "name": "stdout",
     "output_type": "stream",
     "text": [
      "[     668.58      245.19      736.73      302.11           5]\n",
      "[      499.3      277.58      588.53      347.07           4]\n",
      "[     661.72      309.64      746.54      391.03           3]\n",
      "[     468.48      310.17      570.32      389.11           2]\n",
      "[     698.76      326.87      810.49      421.21           1]\n"
     ]
    },
    {
     "name": "stderr",
     "output_type": "stream",
     "text": [
      "0: 384x640 5 cars, 219.9ms\n",
      "Speed: 0.8ms preprocess, 219.9ms inference, 2.9ms postprocess per image at shape (1, 3, 384, 640)\n",
      "\n"
     ]
    },
    {
     "name": "stdout",
     "output_type": "stream",
     "text": [
      "[     668.86       246.7      736.59      302.72           5]\n",
      "[     498.06      277.72      588.88       347.5           4]\n",
      "[     662.04      309.72      747.57      391.94           3]\n",
      "[     467.93      311.67      570.19      390.92           2]\n",
      "[      700.6      328.32      813.12      423.48           1]\n"
     ]
    },
    {
     "name": "stderr",
     "output_type": "stream",
     "text": [
      "0: 384x640 5 cars, 181.2ms\n",
      "Speed: 0.2ms preprocess, 181.2ms inference, 0.0ms postprocess per image at shape (1, 3, 384, 640)\n",
      "\n"
     ]
    },
    {
     "name": "stdout",
     "output_type": "stream",
     "text": [
      "[     669.62      249.62      736.52      303.92           5]\n",
      "[     499.45      278.53      589.92      348.21           4]\n",
      "[     662.19      309.73      748.57      392.86           3]\n",
      "[     468.03      313.54      569.85      392.86           2]\n",
      "[     700.59      329.49         814      425.56           1]\n"
     ]
    },
    {
     "name": "stderr",
     "output_type": "stream",
     "text": [
      "0: 384x640 5 cars, 170.3ms\n",
      "Speed: 10.2ms preprocess, 170.3ms inference, 5.3ms postprocess per image at shape (1, 3, 384, 640)\n",
      "\n"
     ]
    },
    {
     "name": "stdout",
     "output_type": "stream",
     "text": [
      "[     670.01      251.44      736.34      304.25           5]\n",
      "[     500.59      280.02      590.39      349.26           4]\n",
      "[     662.73      311.26      749.77      395.63           3]\n",
      "[     468.63      315.04      569.86      394.68           2]\n",
      "[     701.11       330.4      815.07      427.05           1]\n"
     ]
    },
    {
     "name": "stderr",
     "output_type": "stream",
     "text": [
      "0: 384x640 5 cars, 218.1ms\n",
      "Speed: 1.0ms preprocess, 218.1ms inference, 11.4ms postprocess per image at shape (1, 3, 384, 640)\n",
      "\n",
      "0: 384x640 6 cars, 144.4ms\n"
     ]
    },
    {
     "name": "stdout",
     "output_type": "stream",
     "text": [
      "[     670.42      253.47      736.64      304.96           5]\n",
      "[     502.61      281.35      590.98      350.16           4]\n",
      "[     663.22      312.72      751.24      397.69           3]\n",
      "[     467.65      316.07      569.75      396.11           2]\n",
      "[     702.29      330.97       816.4      428.59           1]\n"
     ]
    },
    {
     "name": "stderr",
     "output_type": "stream",
     "text": [
      "Speed: 5.1ms preprocess, 144.4ms inference, 4.8ms postprocess per image at shape (1, 3, 384, 640)\n",
      "\n",
      "0: 384x640 5 cars, 150.3ms\n",
      "Speed: 3.6ms preprocess, 150.3ms inference, 0.0ms postprocess per image at shape (1, 3, 384, 640)\n"
     ]
    },
    {
     "name": "stdout",
     "output_type": "stream",
     "text": [
      "[     670.81      250.35      737.82      304.38           5]\n",
      "[     504.62      282.41      591.29      350.55           4]\n",
      "[     663.07      314.49      751.41      399.79           3]\n",
      "[     466.67         317      569.66      397.32           2]\n",
      "[     702.94      333.26      817.29      430.94           1]\n"
     ]
    },
    {
     "name": "stderr",
     "output_type": "stream",
     "text": [
      "\n",
      "0: 384x640 5 cars, 148.4ms\n"
     ]
    },
    {
     "name": "stdout",
     "output_type": "stream",
     "text": [
      "[     670.98      253.77      737.53      306.81           5]\n",
      "[     500.53      283.74      588.95      352.36           4]\n",
      "[     663.58      315.42      752.21      401.55           3]\n",
      "[     466.72      318.93      569.89      398.74           2]\n",
      "[     702.94      336.07      817.12      433.74           1]\n"
     ]
    },
    {
     "name": "stderr",
     "output_type": "stream",
     "text": [
      "Speed: 1.7ms preprocess, 148.4ms inference, 11.6ms postprocess per image at shape (1, 3, 384, 640)\n",
      "\n"
     ]
    },
    {
     "name": "stdout",
     "output_type": "stream",
     "text": [
      "[     671.16      257.33      737.29       308.7           5]\n",
      "[     498.64      283.84      588.41       353.4           4]\n",
      "[     664.09      316.71      753.47      403.16           3]\n",
      "[     466.22      320.51      569.86       400.3           2]\n",
      "[     703.14       338.2      817.46      435.57           1]\n"
     ]
    },
    {
     "name": "stderr",
     "output_type": "stream",
     "text": [
      "0: 384x640 6 cars, 175.2ms\n",
      "Speed: 3.7ms preprocess, 175.2ms inference, 5.5ms postprocess per image at shape (1, 3, 384, 640)\n",
      "\n"
     ]
    },
    {
     "name": "stdout",
     "output_type": "stream",
     "text": [
      "[     671.07      252.66      737.98      306.79           5]\n",
      "[     497.68      284.06      588.48      354.86           4]\n",
      "[     664.51      317.73      755.01      404.45           3]\n",
      "[     465.98      322.87      569.91      402.31           2]\n",
      "[      703.3      339.99       818.1      437.78           1]\n"
     ]
    },
    {
     "name": "stderr",
     "output_type": "stream",
     "text": [
      "0: 384x640 7 cars, 172.9ms\n",
      "Speed: 1.8ms preprocess, 172.9ms inference, 6.5ms postprocess per image at shape (1, 3, 384, 640)\n",
      "\n"
     ]
    },
    {
     "name": "stdout",
     "output_type": "stream",
     "text": [
      "[     671.51      252.01       738.4      307.54           5]\n",
      "[     499.13      285.11      589.34      356.36           4]\n",
      "[     665.66      318.66      757.85      405.62           3]\n",
      "[     465.51      324.77      570.32      404.61           2]\n",
      "[     703.62      341.83      819.34      439.96           1]\n"
     ]
    },
    {
     "name": "stderr",
     "output_type": "stream",
     "text": [
      "0: 384x640 6 cars, 172.2ms\n",
      "Speed: 3.8ms preprocess, 172.2ms inference, 4.3ms postprocess per image at shape (1, 3, 384, 640)\n",
      "\n",
      "0: 384x640 6 cars, 151.8ms\n"
     ]
    },
    {
     "name": "stdout",
     "output_type": "stream",
     "text": [
      "[     672.81      269.84      738.35       310.3           8]\n",
      "[     671.88      251.47      738.99      308.07           5]\n",
      "[     500.43      285.59      590.25      357.46           4]\n",
      "[     666.26      319.79      759.36      407.16           3]\n",
      "[     465.02       326.7      570.15      406.78           2]\n",
      "[     703.64       343.3      820.51      443.17           1]\n"
     ]
    },
    {
     "name": "stderr",
     "output_type": "stream",
     "text": [
      "Speed: 3.5ms preprocess, 151.8ms inference, 0.0ms postprocess per image at shape (1, 3, 384, 640)\n",
      "\n"
     ]
    },
    {
     "name": "stdout",
     "output_type": "stream",
     "text": [
      "[     672.69      269.89       738.5      311.34           8]\n",
      "[     672.43      251.93      739.43      309.55           5]\n",
      "[     501.01      286.29      590.52       358.6           4]\n",
      "[     666.63      320.62      761.06      409.22           3]\n",
      "[     465.21      328.55      570.37      409.65           2]\n",
      "[     703.83      344.61      822.03      445.47           1]\n"
     ]
    },
    {
     "name": "stderr",
     "output_type": "stream",
     "text": [
      "0: 384x640 5 cars, 203.7ms\n",
      "Speed: 13.9ms preprocess, 203.7ms inference, 1.9ms postprocess per image at shape (1, 3, 384, 640)\n",
      "\n",
      "0: 384x640 5 cars, 151.5ms\n"
     ]
    },
    {
     "name": "stdout",
     "output_type": "stream",
     "text": [
      "[     672.57      269.18       738.6      311.61           8]\n",
      "[     500.51      287.07      590.67      359.77           4]\n",
      "[     667.05      322.33      762.03      411.14           3]\n",
      "[     465.54      331.75      570.87      412.72           2]\n",
      "[     704.52      346.01      823.91      447.27           1]\n"
     ]
    },
    {
     "name": "stderr",
     "output_type": "stream",
     "text": [
      "Speed: 4.9ms preprocess, 151.5ms inference, 0.0ms postprocess per image at shape (1, 3, 384, 640)\n",
      "\n",
      "0: 384x640 5 cars, 152.6ms\n"
     ]
    },
    {
     "name": "stdout",
     "output_type": "stream",
     "text": [
      "[     499.76      287.75      590.64      360.44           4]\n",
      "[     668.51      323.78      763.01      412.94           3]\n",
      "[     464.87       332.9      571.21      413.82           2]\n",
      "[     704.27      348.37      825.08      449.93           1]\n"
     ]
    },
    {
     "name": "stderr",
     "output_type": "stream",
     "text": [
      "Speed: 4.8ms preprocess, 152.6ms inference, 0.0ms postprocess per image at shape (1, 3, 384, 640)\n",
      "\n",
      "0: 384x640 5 cars, 131.3ms\n",
      "Speed: 5.2ms preprocess, 131.3ms inference, 15.8ms postprocess per image at shape (1, 3, 384, 640)\n",
      "\n"
     ]
    },
    {
     "name": "stdout",
     "output_type": "stream",
     "text": [
      "[     498.88      288.63      590.57      361.31           4]\n",
      "[     670.23      325.26      764.12      415.22           3]\n",
      "[     464.27      333.96      571.03      414.81           2]\n",
      "[     704.55      349.52      826.41      451.87           1]\n",
      "[      671.7      253.33      739.35      311.43           5]\n",
      "[     498.42       289.6      590.68      362.27           4]\n",
      "[     670.87      327.38      765.15       417.7           3]\n",
      "[     463.15      335.67      571.21      417.68           2]\n",
      "[     705.08      350.79      827.75      454.26           1]\n"
     ]
    },
    {
     "name": "stderr",
     "output_type": "stream",
     "text": [
      "0: 384x640 5 cars, 162.1ms\n",
      "Speed: 2.5ms preprocess, 162.1ms inference, 0.0ms postprocess per image at shape (1, 3, 384, 640)\n",
      "\n",
      "0: 384x640 5 cars, 155.2ms\n"
     ]
    },
    {
     "name": "stdout",
     "output_type": "stream",
     "text": [
      "[     671.54      252.01      740.29      312.56           5]\n",
      "[     496.72       290.1      590.29      363.09           4]\n",
      "[     670.84      328.93      765.11      419.76           3]\n",
      "[     462.67      335.77         572      419.21           2]\n",
      "[     705.32      352.32      828.82       456.6           1]\n"
     ]
    },
    {
     "name": "stderr",
     "output_type": "stream",
     "text": [
      "Speed: 1.8ms preprocess, 155.2ms inference, 0.0ms postprocess per image at shape (1, 3, 384, 640)\n",
      "\n"
     ]
    },
    {
     "name": "stdout",
     "output_type": "stream",
     "text": [
      "[     671.47       250.8      741.29      313.68           5]\n",
      "[     495.38      291.04      590.19      364.56           4]\n",
      "[        671      329.85      765.52      420.76           3]\n",
      "[     461.52      337.63      572.62      422.43           2]\n",
      "[     706.24      353.06      830.95      458.52           1]\n"
     ]
    },
    {
     "name": "stderr",
     "output_type": "stream",
     "text": [
      "0: 384x640 5 cars, 155.4ms\n",
      "Speed: 4.2ms preprocess, 155.4ms inference, 0.0ms postprocess per image at shape (1, 3, 384, 640)\n",
      "\n",
      "0: 384x640 6 cars, 141.5ms\n",
      "Speed: 6.7ms preprocess, 141.5ms inference, 0.0ms postprocess per image at shape (1, 3, 384, 640)\n",
      "\n"
     ]
    },
    {
     "name": "stdout",
     "output_type": "stream",
     "text": [
      "[     670.85      250.85      741.59      314.86           5]\n",
      "[     493.91      291.92      590.48      365.84           4]\n",
      "[     671.84      331.44      766.81      422.41           3]\n",
      "[     460.89      340.24      572.41      426.21           2]\n",
      "[     707.21      355.04      833.05      461.35           1]\n",
      "[     671.13       251.8      742.48      316.32           5]\n",
      "[     493.51      292.54       591.1       367.3           4]\n",
      "[     673.08      333.29      768.94      424.31           3]\n",
      "[     460.15       343.2      572.18      429.48           2]\n",
      "[     708.19      357.07      835.14      464.28           1]\n"
     ]
    },
    {
     "name": "stderr",
     "output_type": "stream",
     "text": [
      "0: 384x640 6 cars, 142.9ms\n",
      "Speed: 4.0ms preprocess, 142.9ms inference, 0.0ms postprocess per image at shape (1, 3, 384, 640)\n",
      "\n",
      "0: 384x640 7 cars, 156.0ms\n"
     ]
    },
    {
     "name": "stdout",
     "output_type": "stream",
     "text": [
      "[     671.81      254.62      743.54      318.31           5]\n",
      "[     492.91      293.24      591.79      368.63           4]\n",
      "[     673.15      335.55       771.4      427.29           3]\n",
      "[     460.29      344.52      572.34       430.4           2]\n",
      "[     708.12      358.39      835.66      467.34           1]\n"
     ]
    },
    {
     "name": "stderr",
     "output_type": "stream",
     "text": [
      "Speed: 3.3ms preprocess, 156.0ms inference, 0.0ms postprocess per image at shape (1, 3, 384, 640)\n",
      "\n",
      "0: 384x640 7 cars, 138.3ms\n",
      "Speed: 2.0ms preprocess, 138.3ms inference, 0.0ms postprocess per image at shape (1, 3, 384, 640)\n",
      "\n"
     ]
    },
    {
     "name": "stdout",
     "output_type": "stream",
     "text": [
      "[     672.47      255.34      744.18      318.73           5]\n",
      "[     491.82      294.69      591.63      370.51           4]\n",
      "[     672.92      336.43       773.2      428.95           3]\n",
      "[     459.58       346.5      572.52      432.41           2]\n",
      "[     708.18      360.29      836.36      470.24           1]\n",
      "[      446.5      329.63      489.06      394.55          10]\n",
      "[     672.72      256.12       744.4      318.99           5]\n",
      "[     491.74      295.61       591.9      371.44           4]\n",
      "[     674.31      337.83      774.95      431.68           3]\n",
      "[     458.94      347.93      572.32      434.98           2]\n",
      "[     709.76      362.55      838.93      472.94           1]\n"
     ]
    },
    {
     "name": "stderr",
     "output_type": "stream",
     "text": [
      "0: 384x640 6 cars, 194.7ms\n",
      "Speed: 1.0ms preprocess, 194.7ms inference, 0.0ms postprocess per image at shape (1, 3, 384, 640)\n",
      "\n"
     ]
    },
    {
     "name": "stdout",
     "output_type": "stream",
     "text": [
      "[     445.46      330.27         488      396.76          10]\n",
      "[     673.47      258.09      745.11      319.99           5]\n",
      "[     493.91       296.6      593.74       372.4           4]\n",
      "[     674.95      339.19       776.1      433.73           3]\n",
      "[     458.17       349.7      572.13      437.86           2]\n",
      "[     711.29      363.93      840.88      474.61           1]\n"
     ]
    },
    {
     "name": "stderr",
     "output_type": "stream",
     "text": [
      "0: 384x640 6 cars, 175.9ms\n",
      "Speed: 3.3ms preprocess, 175.9ms inference, 0.0ms postprocess per image at shape (1, 3, 384, 640)\n",
      "\n",
      "0: 384x640 5 cars, 158.7ms\n",
      "Speed: 2.3ms preprocess, 158.7ms inference, 1.0ms postprocess per image at shape (1, 3, 384, 640)\n"
     ]
    },
    {
     "name": "stdout",
     "output_type": "stream",
     "text": [
      "[     444.98      328.99      486.39      390.79          10]\n",
      "[     673.76      259.63      745.35      320.84           5]\n",
      "[     496.66      297.81      595.13      373.82           4]\n",
      "[     675.44      340.55      777.54      436.18           3]\n",
      "[     457.73      351.53      572.22       441.6           2]\n",
      "[     712.04      365.81      843.35      477.03           1]\n"
     ]
    },
    {
     "name": "stderr",
     "output_type": "stream",
     "text": [
      "\n",
      "0: 384x640 6 cars, 158.6ms\n"
     ]
    },
    {
     "name": "stdout",
     "output_type": "stream",
     "text": [
      "[     674.23      260.96      746.36      321.68           5]\n",
      "[     496.53      298.37      594.87      374.85           4]\n",
      "[     676.86      342.44      778.74      438.23           3]\n",
      "[     456.89      354.53      571.63      445.15           2]\n",
      "[     712.45      367.87      844.74      479.74           1]\n"
     ]
    },
    {
     "name": "stderr",
     "output_type": "stream",
     "text": [
      "Speed: 3.1ms preprocess, 158.6ms inference, 2.0ms postprocess per image at shape (1, 3, 384, 640)\n",
      "\n",
      "0: 384x640 7 cars, 161.8ms\n"
     ]
    },
    {
     "name": "stdout",
     "output_type": "stream",
     "text": [
      "[     674.32      262.65      746.81      322.72           5]\n",
      "[     497.17      299.41      595.37      375.66           4]\n",
      "[     679.27      344.19      781.83      439.83           3]\n",
      "[     455.81      357.09      571.54      447.56           2]\n",
      "[     712.79      370.43      846.32      482.77           1]\n"
     ]
    },
    {
     "name": "stderr",
     "output_type": "stream",
     "text": [
      "Speed: 3.2ms preprocess, 161.8ms inference, 0.0ms postprocess per image at shape (1, 3, 384, 640)\n",
      "\n",
      "0: 384x640 7 cars, 143.2ms\n",
      "Speed: 3.3ms preprocess, 143.2ms inference, 1.0ms postprocess per image at shape (1, 3, 384, 640)\n",
      "\n"
     ]
    },
    {
     "name": "stdout",
     "output_type": "stream",
     "text": [
      "[     674.46      264.03       747.5      323.63           5]\n",
      "[      496.7      300.27      595.62      376.08           4]\n",
      "[     679.08      346.86      782.74      443.55           3]\n",
      "[     454.95       359.5      571.97      450.15           2]\n",
      "[     713.14      373.23      847.29      485.88           1]\n",
      "[     437.74      342.82      484.32      411.67          10]\n",
      "[     674.83      263.59      748.07      324.24           5]\n",
      "[     496.37      301.67      595.85      377.73           4]\n",
      "[     679.27      348.59       783.4      445.44           3]\n",
      "[     453.92      360.86       572.2      452.51           2]\n",
      "[      713.8      375.76      848.36      488.06           1]\n"
     ]
    },
    {
     "name": "stderr",
     "output_type": "stream",
     "text": [
      "0: 384x640 6 cars, 146.4ms\n",
      "Speed: 2.3ms preprocess, 146.4ms inference, 0.0ms postprocess per image at shape (1, 3, 384, 640)\n",
      "\n"
     ]
    },
    {
     "name": "stdout",
     "output_type": "stream",
     "text": [
      "[     437.95      336.41      483.89      388.91          11]\n",
      "[     674.93      262.74      748.31      324.44           5]\n",
      "[      496.8      303.62      596.68      380.13           4]\n",
      "[     680.25      349.52       785.3      447.07           3]\n",
      "[      449.7      362.06      570.26      453.88           2]\n",
      "[     715.17      378.02      850.85      490.06           1]\n"
     ]
    },
    {
     "name": "stderr",
     "output_type": "stream",
     "text": [
      "0: 384x640 7 cars, 188.4ms\n",
      "Speed: 3.9ms preprocess, 188.4ms inference, 9.7ms postprocess per image at shape (1, 3, 384, 640)\n",
      "\n",
      "0: 384x640 7 cars, 163.6ms\n"
     ]
    },
    {
     "name": "stdout",
     "output_type": "stream",
     "text": [
      "[     437.15      337.27      482.17      387.36          11]\n",
      "[     674.96      264.26      748.38      325.89           5]\n",
      "[     497.84      304.54      597.42       380.8           4]\n",
      "[      682.2       351.2      787.63      449.51           3]\n",
      "[     447.24      363.91      569.75      456.13           2]\n",
      "[     715.83      380.33      852.89      492.49           1]\n"
     ]
    },
    {
     "name": "stderr",
     "output_type": "stream",
     "text": [
      "Speed: 1.0ms preprocess, 163.6ms inference, 15.6ms postprocess per image at shape (1, 3, 384, 640)\n",
      "\n",
      "0: 384x640 7 cars, 152.2ms\n"
     ]
    },
    {
     "name": "stdout",
     "output_type": "stream",
     "text": [
      "[     435.82      340.68      480.63      389.64          11]\n",
      "[     674.95      265.01      748.41      326.87           5]\n",
      "[     496.59      305.71      597.36      382.11           4]\n",
      "[     684.32      352.67      790.33      452.09           3]\n",
      "[     444.59      365.31      569.36      458.12           2]\n",
      "[     716.63      382.33      855.01      495.41           1]\n"
     ]
    },
    {
     "name": "stderr",
     "output_type": "stream",
     "text": [
      "Speed: 2.0ms preprocess, 152.2ms inference, 0.0ms postprocess per image at shape (1, 3, 384, 640)\n",
      "\n",
      "0: 384x640 7 cars, 135.5ms\n"
     ]
    },
    {
     "name": "stdout",
     "output_type": "stream",
     "text": [
      "[     434.58       342.6      478.88      390.41          11]\n",
      "[     675.58      265.89      749.07      327.91           5]\n",
      "[     495.23      306.66      596.91      383.99           4]\n",
      "[     685.01      353.73      791.39      453.11           3]\n",
      "[     445.22      365.32      570.88      459.91           2]\n",
      "[     716.84      383.88      856.48      498.19           1]\n"
     ]
    },
    {
     "name": "stderr",
     "output_type": "stream",
     "text": [
      "Speed: 9.1ms preprocess, 135.5ms inference, 0.0ms postprocess per image at shape (1, 3, 384, 640)\n",
      "\n",
      "0: 384x640 7 cars, 143.0ms\n",
      "Speed: 4.7ms preprocess, 143.0ms inference, 0.0ms postprocess per image at shape (1, 3, 384, 640)\n"
     ]
    },
    {
     "name": "stdout",
     "output_type": "stream",
     "text": [
      "[      675.8      266.36      749.31      328.77           5]\n",
      "[      495.2      307.67      597.55      385.95           4]\n",
      "[     686.47       356.6      793.13      456.78           3]\n",
      "[     444.88       366.9      571.42      462.79           2]\n",
      "[     717.87      385.85      859.28      501.64           1]\n"
     ]
    },
    {
     "name": "stderr",
     "output_type": "stream",
     "text": [
      "\n"
     ]
    },
    {
     "name": "stdout",
     "output_type": "stream",
     "text": [
      "[     552.47      245.96      613.16       279.5          12]\n",
      "[      675.6      268.02      749.67      330.17           5]\n",
      "[      494.4      308.23      597.27      387.75           4]\n",
      "[     687.95      359.17       795.4       460.5           3]\n",
      "[      443.7      370.29      571.41      466.85           2]\n",
      "[     718.59      387.58      861.25      504.43           1]\n"
     ]
    },
    {
     "name": "stderr",
     "output_type": "stream",
     "text": [
      "0: 384x640 7 cars, 159.0ms\n",
      "Speed: 2.9ms preprocess, 159.0ms inference, 0.0ms postprocess per image at shape (1, 3, 384, 640)\n",
      "\n",
      "0: 384x640 7 cars, 164.3ms\n"
     ]
    },
    {
     "name": "stdout",
     "output_type": "stream",
     "text": [
      "[     552.29      246.24      613.09      280.55          12]\n",
      "[     430.56      355.33      477.01      429.35          10]\n",
      "[     675.43      270.27      749.88      331.64           5]\n",
      "[     493.56      308.65      597.04       388.8           4]\n",
      "[     689.08      360.51      798.21      462.72           3]\n",
      "[     442.43      373.35      570.96       470.4           2]\n",
      "[     721.04      389.77      864.31      507.07           1]\n"
     ]
    },
    {
     "name": "stderr",
     "output_type": "stream",
     "text": [
      "Speed: 4.4ms preprocess, 164.3ms inference, 0.0ms postprocess per image at shape (1, 3, 384, 640)\n",
      "\n",
      "0: 384x640 7 cars, 143.8ms\n",
      "Speed: 7.3ms preprocess, 143.8ms inference, 0.0ms postprocess per image at shape (1, 3, 384, 640)\n",
      "\n"
     ]
    },
    {
     "name": "stdout",
     "output_type": "stream",
     "text": [
      "[      551.6      246.36      612.92      281.56          12]\n",
      "[     430.46      355.75      477.39      430.55          10]\n",
      "[     675.29      272.36      750.02      332.88           5]\n",
      "[     494.07      310.17      597.43      391.03           4]\n",
      "[     689.01      362.41      799.04      464.66           3]\n",
      "[     441.52      375.57      571.25      473.81           2]\n",
      "[     722.48       392.6      866.18       510.5           1]\n",
      "[     550.82      246.23      612.68      282.02          12]\n",
      "[     429.25      356.41      475.49      430.37          10]\n",
      "[     675.65      272.79      750.29      332.98           5]\n",
      "[     494.48       311.7      598.02      392.81           4]\n",
      "[      689.8      364.92      801.07      468.05           3]\n",
      "[     440.52      377.63      571.39      477.01           2]\n",
      "[     723.65      395.16       868.8      514.09           1]\n"
     ]
    },
    {
     "name": "stderr",
     "output_type": "stream",
     "text": [
      "0: 384x640 7 cars, 149.6ms\n",
      "Speed: 0.0ms preprocess, 149.6ms inference, 0.0ms postprocess per image at shape (1, 3, 384, 640)\n",
      "\n",
      "0: 384x640 8 cars, 140.8ms\n",
      "Speed: 5.3ms preprocess, 140.8ms inference, 0.0ms postprocess per image at shape (1, 3, 384, 640)\n"
     ]
    },
    {
     "name": "stdout",
     "output_type": "stream",
     "text": [
      "[      550.4      250.57      610.66         284          12]\n",
      "[     427.81      356.52      473.84      428.35          10]\n",
      "[     675.97       272.7      750.85      333.22           5]\n",
      "[     494.61       313.5      598.26      394.79           4]\n",
      "[     691.33      367.15      803.78      471.19           3]\n",
      "[     440.42      380.29      571.85      480.76           2]\n",
      "[     724.73      398.04      870.37      517.95           1]\n"
     ]
    },
    {
     "name": "stderr",
     "output_type": "stream",
     "text": [
      "\n",
      "0: 384x640 7 cars, 140.9ms\n",
      "Speed: 3.4ms preprocess, 140.9ms inference, 0.0ms postprocess per image at shape (1, 3, 384, 640)\n",
      "\n"
     ]
    },
    {
     "name": "stdout",
     "output_type": "stream",
     "text": [
      "[     548.69      249.08      610.81       284.3          12]\n",
      "[      426.9      360.74       474.3      432.46          10]\n",
      "[      676.5      272.77      751.28      333.79           5]\n",
      "[     494.36      314.77      598.65      396.19           4]\n",
      "[      693.7      368.55      806.21      474.31           3]\n",
      "[     440.49      382.07       572.6      483.88           2]\n",
      "[     725.21      400.19      871.46      520.82           1]\n",
      "[     425.02      363.02      473.45      435.85          10]\n",
      "[     677.35      272.41      752.09      334.34           5]\n",
      "[     493.88       316.3      599.18      397.54           4]\n",
      "[     694.93      369.77      809.97      476.62           3]\n",
      "[      439.4      385.02      573.38      487.86           2]\n",
      "[     726.64       403.4      874.44      524.57           1]\n"
     ]
    },
    {
     "name": "stderr",
     "output_type": "stream",
     "text": [
      "0: 384x640 6 cars, 135.8ms\n",
      "Speed: 1.0ms preprocess, 135.8ms inference, 15.7ms postprocess per image at shape (1, 3, 384, 640)\n",
      "\n",
      "0: 384x640 6 cars, 157.6ms\n"
     ]
    },
    {
     "name": "stdout",
     "output_type": "stream",
     "text": [
      "[     678.32      272.28      753.03      335.15           5]\n",
      "[     493.97      318.55      599.75      400.22           4]\n",
      "[     695.67      372.44      811.68      479.73           3]\n",
      "[     436.45      388.78      572.31      491.79           2]\n",
      "[      727.9      407.89      877.39      529.74           1]\n"
     ]
    },
    {
     "name": "stderr",
     "output_type": "stream",
     "text": [
      "Speed: 3.8ms preprocess, 157.6ms inference, 0.0ms postprocess per image at shape (1, 3, 384, 640)\n",
      "\n",
      "0: 384x640 8 cars, 139.1ms\n"
     ]
    },
    {
     "name": "stdout",
     "output_type": "stream",
     "text": [
      "[     549.38      257.82      609.77      287.25          14]\n",
      "[      678.7       272.5      753.36      335.79           5]\n",
      "[     492.99      320.13      599.67      402.39           4]\n",
      "[     696.39      374.61      813.09      482.22           3]\n",
      "[     433.42      391.12      571.23      494.81           2]\n",
      "[     729.06      411.07      880.34      533.97           1]\n"
     ]
    },
    {
     "name": "stderr",
     "output_type": "stream",
     "text": [
      "Speed: 3.4ms preprocess, 139.1ms inference, 0.0ms postprocess per image at shape (1, 3, 384, 640)\n",
      "\n",
      "0: 384x640 7 cars, 161.6ms\n"
     ]
    },
    {
     "name": "stdout",
     "output_type": "stream",
     "text": [
      "[     548.35      258.21       609.8       288.1          14]\n",
      "[     679.02      273.14      753.92      336.74           5]\n",
      "[     491.34      321.41      598.96      404.39           4]\n",
      "[        698      377.56      815.46      484.82           3]\n",
      "[     431.75      393.03      570.72      498.04           2]\n",
      "[     730.16      413.68      883.32      537.91           1]\n"
     ]
    },
    {
     "name": "stderr",
     "output_type": "stream",
     "text": [
      "Speed: 3.1ms preprocess, 161.6ms inference, 0.0ms postprocess per image at shape (1, 3, 384, 640)\n",
      "\n"
     ]
    },
    {
     "name": "stdout",
     "output_type": "stream",
     "text": [
      "[     548.12      258.22       610.5      288.37          14]\n",
      "[     679.75      273.96      754.82      337.79           5]\n",
      "[     490.73      321.91      599.32      405.69           4]\n",
      "[     699.73      380.16      817.75      487.45           3]\n",
      "[     429.99      395.31       570.4      502.11           2]\n",
      "[     730.37      416.21       885.2      542.24           1]\n"
     ]
    },
    {
     "name": "stderr",
     "output_type": "stream",
     "text": [
      "0: 384x640 6 cars, 174.4ms\n",
      "Speed: 7.5ms preprocess, 174.4ms inference, 4.9ms postprocess per image at shape (1, 3, 384, 640)\n",
      "\n",
      "0: 384x640 6 cars, 133.0ms\n",
      "Speed: 1.0ms preprocess, 133.0ms inference, 15.6ms postprocess per image at shape (1, 3, 384, 640)\n",
      "\n"
     ]
    },
    {
     "name": "stdout",
     "output_type": "stream",
     "text": [
      "[     547.68      258.35       610.4      288.96          14]\n",
      "[     680.17      274.39      755.64      338.67           5]\n",
      "[     490.34      323.23      599.63      407.58           4]\n",
      "[        702      382.48      820.18      490.88           3]\n",
      "[     428.65      398.39      570.34      506.49           2]\n",
      "[     731.43      418.74      887.44      546.04           1]\n",
      "[     546.89      257.76      610.32      289.04          14]\n",
      "[     680.23       275.3      756.01      340.17           5]\n",
      "[     489.41      324.62      599.22      409.92           4]\n",
      "[     703.16      384.58         822      494.08           3]\n",
      "[     426.55      401.85      569.99      510.91           2]\n",
      "[     732.16       421.8      889.83      549.77           1]\n"
     ]
    },
    {
     "name": "stderr",
     "output_type": "stream",
     "text": [
      "0: 384x640 7 cars, 157.9ms\n",
      "Speed: 4.9ms preprocess, 157.9ms inference, 0.0ms postprocess per image at shape (1, 3, 384, 640)\n",
      "\n",
      "0: 384x640 7 cars, 1 truck, 154.9ms\n"
     ]
    },
    {
     "name": "stdout",
     "output_type": "stream",
     "text": [
      "[     545.78      256.55      610.45      289.32          14]\n",
      "[     680.85      275.51      756.84      340.83           5]\n",
      "[     489.17       326.7      599.61      412.43           4]\n",
      "[     704.46       386.6      824.34      497.18           3]\n",
      "[     424.64      405.06      569.07      515.07           2]\n",
      "[     732.84      424.41      892.85      553.45           1]\n"
     ]
    },
    {
     "name": "stderr",
     "output_type": "stream",
     "text": [
      "Speed: 3.9ms preprocess, 154.9ms inference, 12.0ms postprocess per image at shape (1, 3, 384, 640)\n",
      "\n",
      "0: 384x640 8 cars, 1 truck, 134.4ms\n",
      "Speed: 1.0ms preprocess, 134.4ms inference, 0.0ms postprocess per image at shape (1, 3, 384, 640)\n",
      "\n"
     ]
    },
    {
     "name": "stdout",
     "output_type": "stream",
     "text": [
      "[     681.22      276.15      757.65      341.78           5]\n",
      "[     489.16      328.85      600.34      415.18           4]\n",
      "[     706.03       388.6      826.65      500.24           3]\n",
      "[     422.65      408.17      568.07      519.15           2]\n",
      "[     732.34      427.18      894.64       558.1           1]\n",
      "[     410.76      382.33      467.72      453.08          10]\n",
      "[     681.73       276.5       758.2      342.63           5]\n",
      "[     488.55      330.55      600.58      417.86           4]\n",
      "[     707.65      390.11      829.66       503.1           3]\n",
      "[     422.23      410.86      568.07      522.25           2]\n",
      "[     731.45      429.39      895.93      561.11           1]\n"
     ]
    },
    {
     "name": "stderr",
     "output_type": "stream",
     "text": [
      "0: 384x640 8 cars, 1 truck, 145.4ms\n",
      "Speed: 3.2ms preprocess, 145.4ms inference, 0.0ms postprocess per image at shape (1, 3, 384, 640)\n",
      "\n",
      "0: 384x640 8 cars, 140.7ms\n",
      "Speed: 3.1ms preprocess, 140.7ms inference, 3.0ms postprocess per image at shape (1, 3, 384, 640)\n"
     ]
    },
    {
     "name": "stdout",
     "output_type": "stream",
     "text": [
      "[     542.72      251.42      609.55      293.25          12]\n",
      "[     409.37      387.98      466.76       463.8          10]\n",
      "[     682.09      276.71      758.87      343.49           5]\n",
      "[     488.18      332.46      600.81      420.76           4]\n",
      "[      709.3      393.27      832.28      506.67           3]\n",
      "[     420.88      413.78      567.34      526.57           2]\n",
      "[     732.37      432.98      898.98      565.84           1]\n"
     ]
    },
    {
     "name": "stderr",
     "output_type": "stream",
     "text": [
      "\n",
      "0: 384x640 8 cars, 147.2ms\n"
     ]
    },
    {
     "name": "stdout",
     "output_type": "stream",
     "text": [
      "[     682.75      277.23       759.9      345.83          15]\n",
      "[     649.77      251.91      717.16      306.69          13]\n",
      "[      542.3      250.79      609.56      294.48          12]\n",
      "[     406.49      387.12       464.9      461.55          10]\n",
      "[     487.49      333.89       600.8      422.36           4]\n",
      "[     710.73      395.63      834.97      509.32           3]\n",
      "[     417.78      416.86       565.8      531.25           2]\n",
      "[     734.54      437.13      902.14      570.52           1]\n"
     ]
    },
    {
     "name": "stderr",
     "output_type": "stream",
     "text": [
      "Speed: 2.0ms preprocess, 147.2ms inference, 0.0ms postprocess per image at shape (1, 3, 384, 640)\n",
      "\n",
      "0: 384x640 8 cars, 162.3ms\n"
     ]
    },
    {
     "name": "stdout",
     "output_type": "stream",
     "text": [
      "[      682.9       277.9      760.41      346.97          15]\n",
      "[     650.12      252.13      717.88      307.13          13]\n",
      "[     541.45      250.44      608.96      295.67          12]\n",
      "[      404.6      387.38      463.76      459.29          10]\n",
      "[     487.28      335.57       601.4      424.98           4]\n",
      "[     712.76      398.55      837.64      512.72           3]\n",
      "[     413.75      421.27      564.86      537.43           2]\n",
      "[     736.17      441.69      905.05      576.29           1]\n"
     ]
    },
    {
     "name": "stderr",
     "output_type": "stream",
     "text": [
      "Speed: 4.3ms preprocess, 162.3ms inference, 0.0ms postprocess per image at shape (1, 3, 384, 640)\n",
      "\n",
      "0: 384x640 7 cars, 156.7ms\n"
     ]
    },
    {
     "name": "stdout",
     "output_type": "stream",
     "text": [
      "[        651      252.33      719.35      307.81          13]\n",
      "[     541.14      250.04      608.75      296.35          12]\n",
      "[     402.82      389.43      463.16      457.63          10]\n",
      "[      486.4      337.67      601.13      428.32           4]\n",
      "[     714.31      401.62      841.03      516.45           3]\n",
      "[     412.26      425.05      566.49      543.34           2]\n",
      "[     736.99      444.11      908.47      580.18           1]\n"
     ]
    },
    {
     "name": "stderr",
     "output_type": "stream",
     "text": [
      "Speed: 5.7ms preprocess, 156.7ms inference, 0.0ms postprocess per image at shape (1, 3, 384, 640)\n",
      "\n",
      "0: 384x640 7 cars, 180.3ms\n"
     ]
    },
    {
     "name": "stdout",
     "output_type": "stream",
     "text": [
      "[     652.06      252.96       721.1      308.78          13]\n",
      "[     541.02      249.22      608.69      296.59          12]\n",
      "[     484.12      338.64      600.37      429.95           4]\n",
      "[     714.51      404.56      842.58      519.84           3]\n",
      "[     408.32      427.97      565.32      547.79           2]\n",
      "[      738.1      446.82      911.48      584.22           1]\n"
     ]
    },
    {
     "name": "stderr",
     "output_type": "stream",
     "text": [
      "Speed: 4.1ms preprocess, 180.3ms inference, 0.0ms postprocess per image at shape (1, 3, 384, 640)\n",
      "\n",
      "0: 384x640 8 cars, 169.0ms\n",
      "Speed: 3.2ms preprocess, 169.0ms inference, 0.0ms postprocess per image at shape (1, 3, 384, 640)\n"
     ]
    },
    {
     "name": "stdout",
     "output_type": "stream",
     "text": [
      "[     652.03      253.11      722.15      309.19          13]\n",
      "[     540.71      248.71      608.97      296.86          12]\n",
      "[     482.54      339.96      600.15      431.45           4]\n",
      "[     716.06      407.39      844.84      523.82           3]\n",
      "[     405.73      430.86      564.74      552.05           2]\n",
      "[      738.7         449      914.28      587.64           1]\n"
     ]
    },
    {
     "name": "stderr",
     "output_type": "stream",
     "text": [
      "\n",
      "0: 384x640 8 cars, 136.3ms\n",
      "Speed: 5.2ms preprocess, 136.3ms inference, 1.6ms postprocess per image at shape (1, 3, 384, 640)\n",
      "\n"
     ]
    },
    {
     "name": "stdout",
     "output_type": "stream",
     "text": [
      "[     652.28      252.65       722.9      309.18          13]\n",
      "[     540.15      249.04      608.22      297.71          12]\n",
      "[     481.71      342.05      600.32      434.23           4]\n",
      "[     719.55      411.26      848.55      528.23           3]\n",
      "[     402.19      434.43      561.27      556.83           2]\n",
      "[     740.74      452.13      917.35      591.64           1]\n",
      "[     652.72       252.1      723.45      309.51          13]\n",
      "[     539.69      248.58      608.21      297.94          12]\n",
      "[     684.07       280.6      763.21      349.87           5]\n",
      "[     479.82      344.34      600.02       437.6           4]\n",
      "[     722.09      413.85      851.24      531.21           3]\n",
      "[      402.2      439.38      561.31      562.66           2]\n",
      "[     741.65      456.23      919.57      597.21           1]\n"
     ]
    },
    {
     "name": "stderr",
     "output_type": "stream",
     "text": [
      "0: 384x640 8 cars, 154.7ms\n",
      "Speed: 3.2ms preprocess, 154.7ms inference, 0.0ms postprocess per image at shape (1, 3, 384, 640)\n",
      "\n",
      "0: 384x640 8 cars, 148.4ms\n"
     ]
    },
    {
     "name": "stdout",
     "output_type": "stream",
     "text": [
      "[     653.04      251.73      724.11      309.77          13]\n",
      "[     539.46      248.94      608.28      298.78          12]\n",
      "[     396.73      407.32      459.62      474.28          10]\n",
      "[     684.27      281.16      763.81      350.79           5]\n",
      "[     478.19      345.81      599.53      440.11           4]\n",
      "[     725.85      416.83      854.55      534.74           3]\n",
      "[     399.43      443.03      560.26      568.09           2]\n",
      "[     741.97      460.12      922.28       603.3           1]\n"
     ]
    },
    {
     "name": "stderr",
     "output_type": "stream",
     "text": [
      "Speed: 4.9ms preprocess, 148.4ms inference, 0.0ms postprocess per image at shape (1, 3, 384, 640)\n",
      "\n",
      "0: 384x640 7 cars, 136.9ms\n",
      "Speed: 1.0ms preprocess, 136.9ms inference, 0.0ms postprocess per image at shape (1, 3, 384, 640)\n",
      "\n"
     ]
    },
    {
     "name": "stdout",
     "output_type": "stream",
     "text": [
      "[     653.27      251.45      724.87      309.98          13]\n",
      "[     538.88      249.63      608.17      299.83          12]\n",
      "[     684.44      281.95      764.56      351.83           5]\n",
      "[     476.65      348.08      599.65      443.15           4]\n",
      "[     727.85      420.11      857.07      538.97           3]\n",
      "[     394.42      447.69      558.68      573.82           2]\n",
      "[     742.58      464.35      925.97      609.16           1]\n",
      "[      653.9      251.44      725.88      310.59          13]\n",
      "[     538.23      251.61      607.27      301.75          12]\n",
      "[     684.58      283.02       765.4      353.37           5]\n",
      "[      475.8       350.8      599.98      445.57           4]\n",
      "[     728.63      422.77      858.51      542.88           3]\n",
      "[     390.83      449.91       557.9      577.91           2]\n",
      "[     743.33      469.21       928.7      615.72           1]\n"
     ]
    },
    {
     "name": "stderr",
     "output_type": "stream",
     "text": [
      "0: 384x640 8 cars, 138.5ms\n",
      "Speed: 3.5ms preprocess, 138.5ms inference, 0.0ms postprocess per image at shape (1, 3, 384, 640)\n",
      "\n",
      "0: 384x640 8 cars, 146.5ms\n",
      "Speed: 3.3ms preprocess, 146.5ms inference, 9.6ms postprocess per image at shape (1, 3, 384, 640)\n"
     ]
    },
    {
     "name": "stdout",
     "output_type": "stream",
     "text": [
      "[      654.2      250.57      726.82      311.02          13]\n",
      "[     537.87       253.3      606.41      302.82          12]\n",
      "[     684.49      284.16      765.82      355.12           5]\n",
      "[     474.36      352.19      599.95      447.32           4]\n",
      "[     729.58      425.15      860.22      546.72           3]\n",
      "[     388.58      453.57      557.94      582.91           2]\n",
      "[     745.38      474.37      932.42      621.83           1]\n"
     ]
    },
    {
     "name": "stderr",
     "output_type": "stream",
     "text": [
      "\n",
      "0: 384x640 8 cars, 139.3ms\n"
     ]
    },
    {
     "name": "stdout",
     "output_type": "stream",
     "text": [
      "[     654.86      251.12      727.88      312.24          13]\n",
      "[     536.88      253.28      605.65      303.19          12]\n",
      "[     684.82      284.66      766.25      356.33           5]\n",
      "[     473.38      353.63      599.74      449.55           4]\n",
      "[     731.24      427.66       862.7       550.3           3]\n",
      "[     386.54      456.11      557.28      586.68           2]\n",
      "[     745.43      477.42       935.1      626.71           1]\n"
     ]
    },
    {
     "name": "stderr",
     "output_type": "stream",
     "text": [
      "Speed: 3.5ms preprocess, 139.3ms inference, 0.0ms postprocess per image at shape (1, 3, 384, 640)\n",
      "\n"
     ]
    },
    {
     "name": "stdout",
     "output_type": "stream",
     "text": [
      "[     536.38      273.68       604.5       303.5          14]\n",
      "[     655.49      251.41      728.52      313.26          13]\n",
      "[     536.87      254.12      606.33      303.75          12]\n",
      "[     685.29      284.88      767.35      357.35           5]\n",
      "[      472.7      355.66      599.36       452.7           4]\n",
      "[     733.63      430.29      865.67       553.7           3]\n",
      "[     384.98      459.01      555.95      591.79           2]\n",
      "[     745.97      480.28      938.09      631.17           1]\n"
     ]
    },
    {
     "name": "stderr",
     "output_type": "stream",
     "text": [
      "0: 384x640 9 cars, 188.9ms\n",
      "Speed: 2.3ms preprocess, 188.9ms inference, 0.0ms postprocess per image at shape (1, 3, 384, 640)\n",
      "\n",
      "0: 384x640 8 cars, 137.6ms\n",
      "Speed: 0.0ms preprocess, 137.6ms inference, 0.0ms postprocess per image at shape (1, 3, 384, 640)\n",
      "\n"
     ]
    },
    {
     "name": "stdout",
     "output_type": "stream",
     "text": [
      "[     537.03      272.29      605.55      303.41          14]\n",
      "[     655.71      252.87      728.75      315.53          13]\n",
      "[     535.74      254.48      605.13      303.89          12]\n",
      "[     685.54      285.26      768.31      358.04           5]\n",
      "[     471.95      358.59      599.08      456.17           4]\n",
      "[      735.3      434.22      869.16      559.05           3]\n",
      "[     383.02      463.69      554.96      598.39           2]\n",
      "[     747.28      484.24      940.62      636.25           1]\n",
      "[     536.09       274.4      604.56      304.62          14]\n",
      "[     656.08      254.87       728.5      317.54          13]\n",
      "[     535.71      255.75       605.6      304.72          12]\n",
      "[     686.15      285.98      769.44      358.99           5]\n",
      "[     470.67      361.68      598.69      459.94           4]\n",
      "[     738.17      437.52      873.34      563.64           3]\n",
      "[     378.25      469.27      552.83      605.98           2]\n",
      "[     749.71      488.99      943.43      643.16           1]\n"
     ]
    },
    {
     "name": "stderr",
     "output_type": "stream",
     "text": [
      "0: 384x640 8 cars, 172.0ms\n",
      "Speed: 1.0ms preprocess, 172.0ms inference, 0.0ms postprocess per image at shape (1, 3, 384, 640)\n",
      "\n",
      "0: 384x640 8 cars, 139.4ms\n",
      "Speed: 4.5ms preprocess, 139.4ms inference, 0.0ms postprocess per image at shape (1, 3, 384, 640)\n",
      "\n"
     ]
    },
    {
     "name": "stdout",
     "output_type": "stream",
     "text": [
      "[     535.76      275.96      604.17      305.57          14]\n",
      "[     657.33      256.26      729.87      318.94          13]\n",
      "[     535.63      256.48      605.87      305.41          12]\n",
      "[     686.27      286.37      769.95      359.82           5]\n",
      "[      469.6      364.91      598.52       463.1           4]\n",
      "[     739.81      442.17       876.2      568.96           3]\n",
      "[     374.94      475.77      551.66      613.36           2]\n",
      "[     752.22      493.54      946.72      649.29           1]\n",
      "[     535.61      275.21      604.08      305.26          14]\n",
      "[     658.42      256.76      731.04      319.45          13]\n",
      "[     535.18      256.94      605.12       306.1          12]\n",
      "[     686.42      287.26      770.65       361.3           5]\n",
      "[     467.84      367.56      598.53      465.99           4]\n",
      "[     740.79      446.25      878.08      574.33           3]\n",
      "[     372.91      481.02      551.45      618.97           2]\n",
      "[     753.15      497.53      950.47      655.61           1]\n"
     ]
    },
    {
     "name": "stderr",
     "output_type": "stream",
     "text": [
      "0: 384x640 7 cars, 130.2ms\n",
      "Speed: 3.4ms preprocess, 130.2ms inference, 0.0ms postprocess per image at shape (1, 3, 384, 640)\n",
      "\n",
      "0: 384x640 7 cars, 116.0ms\n",
      "Speed: 3.1ms preprocess, 116.0ms inference, 0.0ms postprocess per image at shape (1, 3, 384, 640)\n",
      "\n"
     ]
    },
    {
     "name": "stdout",
     "output_type": "stream",
     "text": [
      "[     534.74      272.46      604.23      304.93          14]\n",
      "[     658.98      256.64      731.96      319.91          13]\n",
      "[     686.55      288.12      771.47       362.6           5]\n",
      "[     465.38      369.48      597.09      468.63           4]\n",
      "[     741.31      448.95      879.81      578.26           3]\n",
      "[     370.37      485.34      549.98      624.36           2]\n",
      "[     753.13      500.72      954.76      661.92           1]\n",
      "[     534.43       271.4       604.3      305.44          14]\n",
      "[     659.57      256.68      732.53      320.61          13]\n",
      "[     686.47         289      771.87      363.79           5]\n",
      "[     464.48      370.84      597.21       470.8           4]\n",
      "[     742.72      451.14      882.37      581.62           3]\n",
      "[     367.22      488.51      548.45      629.14           2]\n",
      "[     753.84      504.15       958.8      667.03           1]\n"
     ]
    },
    {
     "name": "stderr",
     "output_type": "stream",
     "text": [
      "0: 384x640 7 cars, 163.5ms\n",
      "Speed: 3.4ms preprocess, 163.5ms inference, 0.0ms postprocess per image at shape (1, 3, 384, 640)\n",
      "\n",
      "0: 384x640 8 cars, 141.7ms\n",
      "Speed: 3.4ms preprocess, 141.7ms inference, 0.0ms postprocess per image at shape (1, 3, 384, 640)\n",
      "\n"
     ]
    },
    {
     "name": "stdout",
     "output_type": "stream",
     "text": [
      "[     533.62      270.88      603.72      306.37          14]\n",
      "[      659.5      257.84         733       322.3          13]\n",
      "[     686.53      289.44      772.57      364.74           5]\n",
      "[     462.86      372.18      596.62      473.27           4]\n",
      "[     744.39      454.17         886      586.35           3]\n",
      "[      365.5      492.19      548.51      635.37           2]\n",
      "[     756.05      510.55      963.48         676           1]\n",
      "[     533.05      273.68      602.49      308.27          14]\n",
      "[      660.2      258.83      734.37      323.66          13]\n",
      "[     687.08      290.61      773.57         366           5]\n",
      "[     461.44      374.19      595.93      475.82           4]\n",
      "[     744.62      458.18      887.64      591.58           3]\n",
      "[     362.09      496.63      547.49      642.23           2]\n",
      "[     753.83      503.05      966.87      679.24           1]\n"
     ]
    },
    {
     "name": "stderr",
     "output_type": "stream",
     "text": [
      "0: 384x640 8 cars, 151.0ms\n",
      "Speed: 1.0ms preprocess, 151.0ms inference, 0.0ms postprocess per image at shape (1, 3, 384, 640)\n",
      "\n",
      "0: 384x640 8 cars, 160.2ms\n"
     ]
    },
    {
     "name": "stdout",
     "output_type": "stream",
     "text": [
      "[     532.97      276.01      601.92      309.66          14]\n",
      "[      660.5      258.83      735.46       324.5          13]\n",
      "[     687.38      291.66      774.48      367.11           5]\n",
      "[      459.5      377.58      594.51      479.88           4]\n",
      "[     746.35      461.26      890.41      596.36           3]\n",
      "[     359.52      501.65      547.18      649.03           2]\n",
      "[     758.64      514.07      972.16      691.12           1]\n"
     ]
    },
    {
     "name": "stderr",
     "output_type": "stream",
     "text": [
      "Speed: 3.0ms preprocess, 160.2ms inference, 2.0ms postprocess per image at shape (1, 3, 384, 640)\n",
      "\n",
      "0: 384x640 8 cars, 147.5ms\n"
     ]
    },
    {
     "name": "stdout",
     "output_type": "stream",
     "text": [
      "[     532.59      277.21      601.42      310.47          14]\n",
      "[     661.13      259.13      736.63      325.13          13]\n",
      "[     531.93      264.08      602.54       310.5          12]\n",
      "[     687.38      292.87      774.92      368.64           5]\n",
      "[     457.94      380.36      594.19       483.7           4]\n",
      "[     748.72      464.82      893.53      601.42           3]\n",
      "[     357.67       507.2      548.05      656.15           2]\n",
      "[      761.8      520.77      975.96      698.71           1]\n"
     ]
    },
    {
     "name": "stderr",
     "output_type": "stream",
     "text": [
      "Speed: 4.0ms preprocess, 147.5ms inference, 5.4ms postprocess per image at shape (1, 3, 384, 640)\n",
      "\n",
      "0: 384x640 7 cars, 137.2ms\n",
      "Speed: 1.7ms preprocess, 137.2ms inference, 0.0ms postprocess per image at shape (1, 3, 384, 640)\n",
      "\n"
     ]
    },
    {
     "name": "stdout",
     "output_type": "stream",
     "text": [
      "[     531.99      278.08      601.06      311.63          14]\n",
      "[     661.15      259.34       737.9      325.87          13]\n",
      "[     530.71      261.47      602.51      309.99          12]\n",
      "[     687.94      294.17      775.79      369.61           5]\n",
      "[     455.86       383.3         593      487.67           4]\n",
      "[     751.39       468.6      896.73      606.56           3]\n",
      "[     356.51      512.64      548.94      664.35           2]\n",
      "[     760.34      518.62      977.94         704           1]\n",
      "[     531.24      275.76      601.48       311.4          14]\n",
      "[      661.3      259.78       739.5      326.41          13]\n",
      "[      529.6      260.49      602.52      311.05          12]\n",
      "[     688.09      295.81      776.16      370.74           5]\n",
      "[     454.48      386.11      592.54      491.24           4]\n",
      "[     752.81      474.42      899.36      613.67           3]\n",
      "[     762.63      529.99      982.24       713.1           1]\n"
     ]
    },
    {
     "name": "stderr",
     "output_type": "stream",
     "text": [
      "0: 384x640 6 cars, 201.8ms\n",
      "Speed: 4.1ms preprocess, 201.8ms inference, 6.2ms postprocess per image at shape (1, 3, 384, 640)\n",
      "\n"
     ]
    },
    {
     "name": "stdout",
     "output_type": "stream",
     "text": [
      "[     661.37      259.91      740.05       326.6          13]\n",
      "[     528.57      259.95      602.51      312.24          12]\n",
      "[     688.28      296.68      776.79      371.51           5]\n",
      "[     452.43      388.18         592      494.69           4]\n",
      "[     753.72      478.25      901.14      618.43           3]\n",
      "[     760.11      507.54      986.45      705.13           1]\n"
     ]
    },
    {
     "name": "stderr",
     "output_type": "stream",
     "text": [
      "0: 384x640 9 cars, 195.8ms\n",
      "Speed: 5.1ms preprocess, 195.8ms inference, 8.0ms postprocess per image at shape (1, 3, 384, 640)\n",
      "\n",
      "0: 384x640 7 cars, 134.9ms\n",
      "Speed: 5.6ms preprocess, 134.9ms inference, 0.0ms postprocess per image at shape (1, 3, 384, 640)\n",
      "\n"
     ]
    },
    {
     "name": "stdout",
     "output_type": "stream",
     "text": [
      "[     661.29      260.59      740.32      327.31          13]\n",
      "[     527.87      260.55      602.19      313.81          12]\n",
      "[     688.91      297.65      777.74       372.4           5]\n",
      "[     449.18      390.59      590.39      498.11           4]\n",
      "[     755.61      482.14      903.41      624.06           3]\n",
      "[     760.11      497.92      992.18      706.18           1]\n",
      "[     661.18      261.01      740.46      328.03          13]\n",
      "[     528.49       260.8      602.52      315.01          12]\n",
      "[     688.61      298.37      777.96      373.63           5]\n",
      "[     446.58      394.05      589.26      502.58           4]\n"
     ]
    },
    {
     "name": "stderr",
     "output_type": "stream",
     "text": [
      "0: 384x640 8 cars, 147.3ms\n",
      "Speed: 4.7ms preprocess, 147.3ms inference, 0.0ms postprocess per image at shape (1, 3, 384, 640)\n",
      "\n"
     ]
    },
    {
     "name": "stdout",
     "output_type": "stream",
     "text": [
      "[        662      261.95      740.92      329.44          13]\n",
      "[     528.34      261.36      602.41      316.27          12]\n",
      "[     688.39      299.37      778.12      375.27           5]\n",
      "[     444.45      396.59      588.74      506.13           4]\n",
      "[     337.64      541.75      543.12      708.23           2]\n"
     ]
    },
    {
     "name": "stderr",
     "output_type": "stream",
     "text": [
      "0: 384x640 7 cars, 201.2ms\n",
      "Speed: 4.6ms preprocess, 201.2ms inference, 3.0ms postprocess per image at shape (1, 3, 384, 640)\n",
      "\n"
     ]
    },
    {
     "name": "stdout",
     "output_type": "stream",
     "text": [
      "[     662.36      262.21         741      330.04          13]\n",
      "[      528.3      261.89      602.37      317.04          12]\n",
      "[     688.88      300.45      778.88      377.08           5]\n",
      "[     442.46      399.62       588.5      510.46           4]\n",
      "[     332.01      545.82      537.82      714.16           2]\n"
     ]
    },
    {
     "name": "stderr",
     "output_type": "stream",
     "text": [
      "0: 384x640 6 cars, 198.3ms\n",
      "Speed: 6.0ms preprocess, 198.3ms inference, 3.2ms postprocess per image at shape (1, 3, 384, 640)\n",
      "\n",
      "0: 384x640 7 cars, 160.2ms\n"
     ]
    },
    {
     "name": "stdout",
     "output_type": "stream",
     "text": [
      "[     663.38      263.34      742.08      331.15          13]\n",
      "[     527.64      262.22      601.72      317.82          12]\n",
      "[     689.19      301.54      779.68      378.98           5]\n",
      "[      440.6      401.96      587.62      513.99           4]\n",
      "[     327.48      550.32      533.77       718.3           2]\n"
     ]
    },
    {
     "name": "stderr",
     "output_type": "stream",
     "text": [
      "Speed: 5.3ms preprocess, 160.2ms inference, 0.0ms postprocess per image at shape (1, 3, 384, 640)\n",
      "\n"
     ]
    },
    {
     "name": "stdout",
     "output_type": "stream",
     "text": [
      "[     664.77      264.87      744.06      332.38          13]\n",
      "[     526.75       262.9      600.82      318.83          12]\n",
      "[      689.4      302.42      780.51      380.47           5]\n",
      "[     438.92      405.81      586.38       518.7           4]\n",
      "[     324.32      556.14      531.86      721.26           2]\n",
      "[     763.18      502.14      1020.9      713.69           1]\n"
     ]
    },
    {
     "name": "stderr",
     "output_type": "stream",
     "text": [
      "0: 384x640 6 cars, 190.8ms\n",
      "Speed: 9.6ms preprocess, 190.8ms inference, 4.3ms postprocess per image at shape (1, 3, 384, 640)\n",
      "\n"
     ]
    },
    {
     "name": "stdout",
     "output_type": "stream",
     "text": [
      "[     665.83      265.95      745.54      332.96          13]\n",
      "[     525.96      263.08      600.31      319.25          12]\n",
      "[     690.02      303.09      781.56      381.29           5]\n",
      "[     437.33       408.8      585.63      522.05           4]\n",
      "[     323.56      560.24       532.8      722.74           2]\n",
      "[      762.9      504.48      1028.8      713.57           1]\n"
     ]
    },
    {
     "name": "stderr",
     "output_type": "stream",
     "text": [
      "0: 384x640 6 cars, 1 truck, 203.4ms\n",
      "Speed: 0.0ms preprocess, 203.4ms inference, 3.3ms postprocess per image at shape (1, 3, 384, 640)\n",
      "\n"
     ]
    },
    {
     "name": "stdout",
     "output_type": "stream",
     "text": [
      "[     665.67      267.73      745.97      334.37          13]\n",
      "[     525.63      263.28      600.17      319.89          12]\n",
      "[     690.35      304.12      782.49      382.71           5]\n",
      "[     434.84       412.3      584.05      526.63           4]\n",
      "[     317.95      563.36       529.5      723.98           2]\n",
      "[     765.57      508.08      1038.7      715.25           1]\n"
     ]
    },
    {
     "name": "stderr",
     "output_type": "stream",
     "text": [
      "0: 384x640 6 cars, 1 truck, 206.6ms\n",
      "Speed: 8.5ms preprocess, 206.6ms inference, 6.7ms postprocess per image at shape (1, 3, 384, 640)\n",
      "\n"
     ]
    },
    {
     "name": "stdout",
     "output_type": "stream",
     "text": [
      "[     665.96      268.45      746.39      334.82          13]\n",
      "[     525.02      263.73      599.97      320.38          12]\n",
      "[        691      305.25      783.59       384.4           5]\n",
      "[     432.02      417.07      582.14      531.91           4]\n",
      "[      315.4      569.01      532.72      724.22           2]\n",
      "[     764.34       510.6      1045.1       714.6           1]\n"
     ]
    },
    {
     "name": "stderr",
     "output_type": "stream",
     "text": [
      "0: 384x640 6 cars, 1 truck, 200.6ms\n",
      "Speed: 4.7ms preprocess, 200.6ms inference, 0.0ms postprocess per image at shape (1, 3, 384, 640)\n",
      "\n"
     ]
    },
    {
     "name": "stdout",
     "output_type": "stream",
     "text": [
      "[     666.67      268.74       747.2      334.91          13]\n",
      "[     524.83      264.99      599.23      321.39          12]\n",
      "[      690.7       306.2      783.87      385.76           5]\n",
      "[     429.98      420.37      580.51      536.13           4]\n",
      "[     313.78      574.85      534.75      724.87           2]\n",
      "[     765.27      514.59      1051.9      716.42           1]\n"
     ]
    },
    {
     "name": "stderr",
     "output_type": "stream",
     "text": [
      "0: 384x640 5 cars, 207.2ms\n",
      "Speed: 3.9ms preprocess, 207.2ms inference, 2.8ms postprocess per image at shape (1, 3, 384, 640)\n",
      "\n"
     ]
    },
    {
     "name": "stdout",
     "output_type": "stream",
     "text": [
      "[     524.39      265.42      598.69      322.45          12]\n",
      "[     691.11      307.48      784.73      387.88           5]\n",
      "[     427.31      424.53      579.26      541.79           4]\n",
      "[     307.51      579.71      534.12      724.77           2]\n",
      "[     765.53      519.21        1055      717.79           1]\n"
     ]
    },
    {
     "name": "stderr",
     "output_type": "stream",
     "text": [
      "0: 384x640 5 cars, 213.6ms\n",
      "Speed: 4.1ms preprocess, 213.6ms inference, 1.0ms postprocess per image at shape (1, 3, 384, 640)\n",
      "\n"
     ]
    },
    {
     "name": "stdout",
     "output_type": "stream",
     "text": [
      "[      523.8       266.1      598.29       323.6          12]\n",
      "[     691.64      308.44       785.3      389.45           5]\n",
      "[     425.91      428.09      578.62      546.97           4]\n",
      "[     299.05      575.32      532.26      720.87           2]\n",
      "[     765.57      524.25        1056       718.8           1]\n"
     ]
    },
    {
     "name": "stderr",
     "output_type": "stream",
     "text": [
      "0: 384x640 5 cars, 1 truck, 201.4ms\n",
      "Speed: 4.3ms preprocess, 201.4ms inference, 3.7ms postprocess per image at shape (1, 3, 384, 640)\n",
      "\n"
     ]
    },
    {
     "name": "stdout",
     "output_type": "stream",
     "text": [
      "[     523.55      266.44      598.19      324.56          12]\n",
      "[        692      309.51      785.97      391.23           5]\n",
      "[     423.34      431.65      576.59      551.72           4]\n",
      "[     762.73      529.04      1053.2      718.13           1]\n"
     ]
    },
    {
     "name": "stderr",
     "output_type": "stream",
     "text": [
      "0: 384x640 4 cars, 1 truck, 199.3ms\n",
      "Speed: 7.1ms preprocess, 199.3ms inference, 4.9ms postprocess per image at shape (1, 3, 384, 640)\n",
      "\n"
     ]
    },
    {
     "name": "stdout",
     "output_type": "stream",
     "text": [
      "[     522.97      266.63         598      325.47          12]\n",
      "[     692.07      311.24      786.27      393.76           5]\n",
      "[     420.94      434.63      575.38      555.58           4]\n"
     ]
    },
    {
     "name": "stderr",
     "output_type": "stream",
     "text": [
      "0: 384x640 6 cars, 1 truck, 197.9ms\n",
      "Speed: 4.4ms preprocess, 197.9ms inference, 6.5ms postprocess per image at shape (1, 3, 384, 640)\n",
      "\n"
     ]
    },
    {
     "name": "stdout",
     "output_type": "stream",
     "text": [
      "[     691.21      313.07      786.51      396.37          18]\n",
      "[     522.07      267.95      597.34      326.49          12]\n",
      "[     692.04      312.57       786.4      395.94           5]\n",
      "[      418.1       439.6      573.69      561.46           4]\n",
      "[     767.54      546.57      940.64      714.16           3]\n"
     ]
    },
    {
     "name": "stderr",
     "output_type": "stream",
     "text": [
      "0: 384x640 3 cars, 1 truck, 225.5ms\n",
      "Speed: 5.4ms preprocess, 225.5ms inference, 3.4ms postprocess per image at shape (1, 3, 384, 640)\n",
      "\n"
     ]
    },
    {
     "name": "stdout",
     "output_type": "stream",
     "text": [
      "[     691.33         314      787.51      397.55          18]\n",
      "[     521.69      268.02      597.15      326.61          12]\n",
      "[     692.37      313.33      787.39      397.06           5]\n",
      "[     416.03      444.01      572.18       566.8           4]\n"
     ]
    },
    {
     "name": "stderr",
     "output_type": "stream",
     "text": [
      "0: 384x640 3 cars, 1 truck, 215.5ms\n",
      "Speed: 2.2ms preprocess, 215.5ms inference, 0.0ms postprocess per image at shape (1, 3, 384, 640)\n",
      "\n"
     ]
    },
    {
     "name": "stdout",
     "output_type": "stream",
     "text": [
      "[     691.33      315.29       787.9      398.24          18]\n",
      "[     520.88      268.67      596.46      327.29          12]\n",
      "[     692.56      314.17      788.33      398.17           5]\n",
      "[     412.49      447.27      569.89      571.57           4]\n"
     ]
    },
    {
     "name": "stderr",
     "output_type": "stream",
     "text": [
      "0: 384x640 5 cars, 2 trucks, 214.6ms\n",
      "Speed: 5.4ms preprocess, 214.6ms inference, 0.0ms postprocess per image at shape (1, 3, 384, 640)\n",
      "\n"
     ]
    },
    {
     "name": "stdout",
     "output_type": "stream",
     "text": [
      "[     692.05      316.62      789.29      399.54          18]\n",
      "[      520.1      269.73      596.05      328.66          12]\n",
      "[     692.94      315.25      788.99       399.7           5]\n",
      "[     409.87      451.57      568.45      577.24           4]\n"
     ]
    },
    {
     "name": "stderr",
     "output_type": "stream",
     "text": [
      "0: 384x640 5 cars, 2 trucks, 203.6ms\n",
      "Speed: 4.3ms preprocess, 203.6ms inference, 6.7ms postprocess per image at shape (1, 3, 384, 640)\n",
      "\n"
     ]
    },
    {
     "name": "stdout",
     "output_type": "stream",
     "text": [
      "[     691.78      317.54      790.32      401.49          18]\n",
      "[     519.29      270.25      595.79      329.67          12]\n",
      "[     693.02      315.92      789.28      401.25           5]\n",
      "[     407.41      454.72      566.87       582.2           4]\n"
     ]
    },
    {
     "name": "stderr",
     "output_type": "stream",
     "text": [
      "0: 384x640 4 cars, 1 truck, 218.6ms\n",
      "Speed: 4.4ms preprocess, 218.6ms inference, 4.9ms postprocess per image at shape (1, 3, 384, 640)\n",
      "\n"
     ]
    },
    {
     "name": "stdout",
     "output_type": "stream",
     "text": [
      "[     691.71      319.32       791.3      403.32          18]\n",
      "[     669.42      275.31      756.99      344.85          13]\n",
      "[      518.9      270.99       595.8      330.77          12]\n",
      "[     692.92      317.56      790.14      402.98           5]\n",
      "[     405.09      458.55      565.16      587.07           4]\n"
     ]
    },
    {
     "name": "stderr",
     "output_type": "stream",
     "text": [
      "0: 384x640 4 cars, 1 truck, 206.7ms\n",
      "Speed: 6.6ms preprocess, 206.7ms inference, 0.0ms postprocess per image at shape (1, 3, 384, 640)\n",
      "\n"
     ]
    },
    {
     "name": "stdout",
     "output_type": "stream",
     "text": [
      "[     691.51       320.6      791.81      404.61          18]\n",
      "[     669.68       276.5      758.22      346.07          13]\n",
      "[     518.05      271.65      595.23      331.41          12]\n",
      "[     693.17      319.43      790.81      404.92           5]\n",
      "[     402.28      460.63      563.94      591.29           4]\n"
     ]
    },
    {
     "name": "stderr",
     "output_type": "stream",
     "text": [
      "0: 384x640 4 cars, 1 truck, 212.8ms\n",
      "Speed: 4.1ms preprocess, 212.8ms inference, 3.2ms postprocess per image at shape (1, 3, 384, 640)\n",
      "\n"
     ]
    },
    {
     "name": "stdout",
     "output_type": "stream",
     "text": [
      "[     692.38      321.59         793      406.47          18]\n",
      "[      669.6      277.27      758.83      347.46          13]\n",
      "[     517.23      272.54      594.88      332.28          12]\n",
      "[     693.54      320.18      792.07      406.83           5]\n",
      "[     398.77      464.36      562.13      596.87           4]\n"
     ]
    },
    {
     "name": "stderr",
     "output_type": "stream",
     "text": [
      "0: 384x640 4 cars, 215.4ms\n",
      "Speed: 2.9ms preprocess, 215.4ms inference, 0.0ms postprocess per image at shape (1, 3, 384, 640)\n",
      "\n"
     ]
    },
    {
     "name": "stdout",
     "output_type": "stream",
     "text": [
      "[     669.73       278.1      758.86       348.7          13]\n",
      "[     515.74      273.04      594.01      333.05          12]\n",
      "[     694.15      321.26      793.34      409.29           5]\n",
      "[     395.16      468.31      560.57      602.73           4]\n"
     ]
    },
    {
     "name": "stderr",
     "output_type": "stream",
     "text": [
      "0: 384x640 4 cars, 1 truck, 211.7ms\n",
      "Speed: 5.0ms preprocess, 211.7ms inference, 8.0ms postprocess per image at shape (1, 3, 384, 640)\n",
      "\n"
     ]
    },
    {
     "name": "stdout",
     "output_type": "stream",
     "text": [
      "[     669.77      278.32      758.83      349.22          13]\n",
      "[     514.51      273.17      592.41      333.36          12]\n",
      "[     694.45      322.03      794.38      411.08           5]\n",
      "[     392.21      475.97      559.07      610.94           4]\n"
     ]
    },
    {
     "name": "stderr",
     "output_type": "stream",
     "text": [
      "0: 384x640 4 cars, 1 truck, 216.1ms\n",
      "Speed: 0.0ms preprocess, 216.1ms inference, 0.0ms postprocess per image at shape (1, 3, 384, 640)\n",
      "\n",
      "0: 384x640 4 cars, 167.9ms\n"
     ]
    },
    {
     "name": "stdout",
     "output_type": "stream",
     "text": [
      "[     669.97      278.32      759.25      349.44          13]\n",
      "[     514.14      273.82      591.75      334.14          12]\n",
      "[     694.89      324.07      795.07      413.84           5]\n",
      "[     389.57       479.6      557.54      616.32           4]\n"
     ]
    },
    {
     "name": "stderr",
     "output_type": "stream",
     "text": [
      "Speed: 1.9ms preprocess, 167.9ms inference, 0.0ms postprocess per image at shape (1, 3, 384, 640)\n",
      "\n",
      "0: 384x640 4 cars, 128.9ms\n",
      "Speed: 3.5ms preprocess, 128.9ms inference, 0.0ms postprocess per image at shape (1, 3, 384, 640)\n",
      "\n"
     ]
    },
    {
     "name": "stdout",
     "output_type": "stream",
     "text": [
      "[     694.49      324.96      797.18      414.81          18]\n",
      "[     670.46      278.72      759.62      349.72          13]\n",
      "[     512.86      274.02      591.37      334.44          12]\n",
      "[     385.58      483.87      554.85      621.06           4]\n",
      "[     672.04      278.61      760.29      350.04          13]\n",
      "[     512.05      274.24      590.94      335.01          12]\n",
      "[      382.7      491.51      554.02      629.61           4]\n"
     ]
    },
    {
     "name": "stderr",
     "output_type": "stream",
     "text": [
      "0: 384x640 4 cars, 145.9ms\n",
      "Speed: 4.0ms preprocess, 145.9ms inference, 0.0ms postprocess per image at shape (1, 3, 384, 640)\n",
      "\n",
      "0: 384x640 4 cars, 131.6ms\n",
      "Speed: 2.9ms preprocess, 131.6ms inference, 0.0ms postprocess per image at shape (1, 3, 384, 640)\n",
      "\n"
     ]
    },
    {
     "name": "stdout",
     "output_type": "stream",
     "text": [
      "[     672.98      278.74      760.83      349.95          13]\n",
      "[     511.05      274.71       590.2      335.46          12]\n",
      "[     380.28      495.34      552.56      634.89           4]\n",
      "[     674.03      280.03      761.61       351.9          13]\n",
      "[     509.98       274.8      589.35      336.33          12]\n",
      "[     696.81      331.52      800.24      422.33           5]\n",
      "[      377.2       499.1      551.04      640.81           4]\n"
     ]
    },
    {
     "name": "stderr",
     "output_type": "stream",
     "text": [
      "0: 384x640 4 cars, 146.0ms\n",
      "Speed: 0.0ms preprocess, 146.0ms inference, 0.0ms postprocess per image at shape (1, 3, 384, 640)\n",
      "\n",
      "0: 384x640 4 cars, 146.4ms\n",
      "Speed: 3.8ms preprocess, 146.4ms inference, 0.0ms postprocess per image at shape (1, 3, 384, 640)\n",
      "\n"
     ]
    },
    {
     "name": "stdout",
     "output_type": "stream",
     "text": [
      "[     674.93      280.85      762.01      352.92          13]\n",
      "[     509.28       275.5      589.37      337.91          12]\n",
      "[     697.34      332.99      801.43      424.05           5]\n",
      "[      373.4      503.63      548.65      647.47           4]\n",
      "[     675.53      282.22      762.52      354.16          13]\n",
      "[     508.44      276.44      589.33      339.76          12]\n",
      "[     696.64         334      802.08      426.11           5]\n",
      "[     368.26       509.4      545.06      654.79           4]\n"
     ]
    },
    {
     "name": "stderr",
     "output_type": "stream",
     "text": [
      "0: 384x640 4 cars, 150.8ms\n",
      "Speed: 6.1ms preprocess, 150.8ms inference, 0.0ms postprocess per image at shape (1, 3, 384, 640)\n",
      "\n",
      "0: 384x640 3 cars, 180.3ms\n"
     ]
    },
    {
     "name": "stdout",
     "output_type": "stream",
     "text": [
      "[     676.41      283.39      763.33      355.24          13]\n",
      "[     507.55      276.61      589.28       340.6          12]\n",
      "[     697.53      335.48      803.09       428.3           5]\n",
      "[     365.65      515.45      543.85      662.53           4]\n"
     ]
    },
    {
     "name": "stderr",
     "output_type": "stream",
     "text": [
      "Speed: 3.4ms preprocess, 180.3ms inference, 0.0ms postprocess per image at shape (1, 3, 384, 640)\n",
      "\n",
      "0: 384x640 3 cars, 141.5ms\n",
      "Speed: 1.0ms preprocess, 141.5ms inference, 0.0ms postprocess per image at shape (1, 3, 384, 640)\n",
      "\n"
     ]
    },
    {
     "name": "stdout",
     "output_type": "stream",
     "text": [
      "[     676.74       284.1       763.6      355.33          13]\n",
      "[     507.09       277.2      589.43      341.66          12]\n",
      "[     697.56      337.44      803.74      430.24           5]\n",
      "[     677.05      284.64      764.14      355.69          13]\n",
      "[     506.18      277.31      588.95      342.13          12]\n",
      "[     697.91      338.98      804.27      432.03           5]\n"
     ]
    },
    {
     "name": "stderr",
     "output_type": "stream",
     "text": [
      "0: 384x640 4 cars, 127.8ms\n",
      "Speed: 1.0ms preprocess, 127.8ms inference, 0.0ms postprocess per image at shape (1, 3, 384, 640)\n",
      "\n",
      "0: 384x640 4 cars, 118.7ms\n",
      "Speed: 5.7ms preprocess, 118.7ms inference, 15.7ms postprocess per image at shape (1, 3, 384, 640)\n",
      "\n"
     ]
    },
    {
     "name": "stdout",
     "output_type": "stream",
     "text": [
      "[     677.67      285.51      765.76      356.43          13]\n",
      "[     505.78      277.28      588.86      342.34          12]\n",
      "[     698.72      340.21      806.36      434.57           5]\n",
      "[     678.09      286.01      767.45      357.13          13]\n",
      "[     504.56      277.67      587.32      342.62          12]\n",
      "[     698.54      341.97      807.61      436.74           5]\n"
     ]
    },
    {
     "name": "stderr",
     "output_type": "stream",
     "text": [
      "0: 384x640 5 cars, 156.0ms\n",
      "Speed: 2.8ms preprocess, 156.0ms inference, 0.0ms postprocess per image at shape (1, 3, 384, 640)\n",
      "\n"
     ]
    },
    {
     "name": "stdout",
     "output_type": "stream",
     "text": [
      "[     678.19      286.15      768.76      357.41          13]\n",
      "[     503.99      279.12      586.22         344          12]\n",
      "[     698.65      343.55      808.51      439.15           5]\n"
     ]
    },
    {
     "name": "stderr",
     "output_type": "stream",
     "text": [
      "0: 384x640 4 cars, 189.4ms\n",
      "Speed: 2.0ms preprocess, 189.4ms inference, 1.0ms postprocess per image at shape (1, 3, 384, 640)\n",
      "\n",
      "0: 384x640 4 cars, 159.1ms\n"
     ]
    },
    {
     "name": "stdout",
     "output_type": "stream",
     "text": [
      "[     657.55      253.75      738.79      319.15          20]\n",
      "[     678.66      286.81       770.1      358.17          13]\n",
      "[     503.42      280.32      585.55      345.14          12]\n",
      "[     697.61      345.44      808.59      441.93           5]\n"
     ]
    },
    {
     "name": "stderr",
     "output_type": "stream",
     "text": [
      "Speed: 2.2ms preprocess, 159.1ms inference, 0.0ms postprocess per image at shape (1, 3, 384, 640)\n",
      "\n",
      "0: 384x640 4 cars, 148.1ms\n"
     ]
    },
    {
     "name": "stdout",
     "output_type": "stream",
     "text": [
      "[     656.68      254.52      739.76      320.92          20]\n",
      "[      679.5      287.02      771.85      358.45          13]\n",
      "[     502.78      281.14      585.11      346.47          12]\n",
      "[     697.18      346.79      809.26       444.2           5]\n"
     ]
    },
    {
     "name": "stderr",
     "output_type": "stream",
     "text": [
      "Speed: 3.2ms preprocess, 148.1ms inference, 15.6ms postprocess per image at shape (1, 3, 384, 640)\n",
      "\n",
      "0: 384x640 4 cars, 155.2ms\n"
     ]
    },
    {
     "name": "stdout",
     "output_type": "stream",
     "text": [
      "[     656.21      255.44      740.18      322.22          20]\n",
      "[      680.1      287.26      772.85      359.01          13]\n",
      "[     502.52      282.65         585      348.34          12]\n",
      "[     698.12      349.04      810.99      447.12           5]\n"
     ]
    },
    {
     "name": "stderr",
     "output_type": "stream",
     "text": [
      "Speed: 4.1ms preprocess, 155.2ms inference, 0.0ms postprocess per image at shape (1, 3, 384, 640)\n",
      "\n",
      "0: 384x640 4 cars, 145.4ms\n",
      "Speed: 1.0ms preprocess, 145.4ms inference, 0.0ms postprocess per image at shape (1, 3, 384, 640)\n",
      "\n"
     ]
    },
    {
     "name": "stdout",
     "output_type": "stream",
     "text": [
      "[     655.17      255.87      739.74      323.18          20]\n",
      "[     680.24      287.27      773.27      359.25          13]\n",
      "[     501.77      283.13      584.34      349.09          12]\n",
      "[     699.17      350.57      812.88       449.4           5]\n",
      "[     655.13       257.1      740.62      324.46          20]\n",
      "[     680.59      288.24      774.39      360.95          13]\n",
      "[     500.83      283.44      583.48      349.86          12]\n",
      "[     700.15      353.55      815.58      452.96           5]\n"
     ]
    },
    {
     "name": "stderr",
     "output_type": "stream",
     "text": [
      "0: 384x640 5 cars, 137.4ms\n",
      "Speed: 3.3ms preprocess, 137.4ms inference, 0.0ms postprocess per image at shape (1, 3, 384, 640)\n",
      "\n",
      "0: 384x640 5 cars, 139.8ms\n"
     ]
    },
    {
     "name": "stdout",
     "output_type": "stream",
     "text": [
      "[     655.38      258.01      742.03      325.07          20]\n",
      "[     680.09      290.15      774.75      363.94          13]\n",
      "[     499.56      283.44      582.81      350.21          12]\n",
      "[     700.86      356.03      817.54      456.11           5]\n"
     ]
    },
    {
     "name": "stderr",
     "output_type": "stream",
     "text": [
      "Speed: 1.0ms preprocess, 139.8ms inference, 15.6ms postprocess per image at shape (1, 3, 384, 640)\n",
      "\n",
      "0: 384x640 5 cars, 166.3ms\n"
     ]
    },
    {
     "name": "stdout",
     "output_type": "stream",
     "text": [
      "[     655.12      258.41       742.2      325.15          20]\n",
      "[     680.39      291.12      775.65      365.43          13]\n",
      "[     498.34      284.66      582.02      351.68          12]\n",
      "[     701.54      358.09      819.12      458.66           5]\n"
     ]
    },
    {
     "name": "stderr",
     "output_type": "stream",
     "text": [
      "Speed: 2.0ms preprocess, 166.3ms inference, 0.0ms postprocess per image at shape (1, 3, 384, 640)\n",
      "\n"
     ]
    },
    {
     "name": "stdout",
     "output_type": "stream",
     "text": [
      "[     654.76       258.7      743.18      325.65          20]\n",
      "[     680.85      292.04      776.26       366.7          13]\n",
      "[     497.82      285.71      581.82      352.91          12]\n",
      "[     701.79      359.29      820.33      461.04           5]\n"
     ]
    },
    {
     "name": "stderr",
     "output_type": "stream",
     "text": [
      "0: 384x640 5 cars, 194.7ms\n",
      "Speed: 1.0ms preprocess, 194.7ms inference, 8.0ms postprocess per image at shape (1, 3, 384, 640)\n",
      "\n",
      "0: 384x640 4 cars, 166.6ms\n"
     ]
    },
    {
     "name": "stdout",
     "output_type": "stream",
     "text": [
      "[        570      244.12      639.94      276.73          21]\n",
      "[     652.92      259.36      740.55      325.89          20]\n",
      "[     681.62      292.48      777.15      367.68          13]\n",
      "[     496.67      286.71      581.44      354.03          12]\n",
      "[     702.72       360.5      822.52      463.66           5]\n"
     ]
    },
    {
     "name": "stderr",
     "output_type": "stream",
     "text": [
      "Speed: 3.4ms preprocess, 166.6ms inference, 0.0ms postprocess per image at shape (1, 3, 384, 640)\n",
      "\n",
      "0: 384x640 4 cars, 149.5ms\n",
      "Speed: 4.0ms preprocess, 149.5ms inference, 0.0ms postprocess per image at shape (1, 3, 384, 640)\n",
      "\n"
     ]
    },
    {
     "name": "stdout",
     "output_type": "stream",
     "text": [
      "[      651.5      259.74      736.96      325.79          20]\n",
      "[        683      293.19      778.33      368.77          13]\n",
      "[     495.65      287.41      581.27      355.39          12]\n",
      "[     704.96      361.02      825.96      465.76           5]\n",
      "[     650.81      260.64       733.8      326.27          20]\n",
      "[     684.19      293.36      779.37      369.22          13]\n",
      "[     494.95      288.19      580.91      356.64          12]\n",
      "[     704.48      362.65      826.59      468.27           5]\n"
     ]
    },
    {
     "name": "stderr",
     "output_type": "stream",
     "text": [
      "0: 384x640 4 cars, 143.7ms\n",
      "Speed: 1.8ms preprocess, 143.7ms inference, 0.0ms postprocess per image at shape (1, 3, 384, 640)\n",
      "\n",
      "0: 384x640 4 cars, 150.0ms\n"
     ]
    },
    {
     "name": "stdout",
     "output_type": "stream",
     "text": [
      "[     651.47      261.03      732.38      326.36          20]\n",
      "[     685.02         294      780.65      370.07          13]\n",
      "[     493.72      289.03      580.48      357.82          12]\n",
      "[     705.36      364.74       828.3      471.53           5]\n"
     ]
    },
    {
     "name": "stderr",
     "output_type": "stream",
     "text": [
      "Speed: 2.9ms preprocess, 150.0ms inference, 0.0ms postprocess per image at shape (1, 3, 384, 640)\n",
      "\n",
      "0: 384x640 4 cars, 124.1ms\n",
      "Speed: 1.0ms preprocess, 124.1ms inference, 0.0ms postprocess per image at shape (1, 3, 384, 640)\n",
      "\n"
     ]
    },
    {
     "name": "stdout",
     "output_type": "stream",
     "text": [
      "[     652.24      261.37      732.03      326.81          20]\n",
      "[     684.77      294.83      780.99      371.06          13]\n",
      "[     492.48      289.73      579.81      358.48          12]\n",
      "[     707.76      367.23      830.74      474.87           5]\n",
      "[     653.52       261.8       732.9      327.96          20]\n",
      "[     684.55      295.75       781.2      372.09          13]\n",
      "[     491.75      290.63      579.22      359.35          12]\n",
      "[     708.46      369.43      833.12         478           5]\n"
     ]
    },
    {
     "name": "stderr",
     "output_type": "stream",
     "text": [
      "0: 384x640 4 cars, 170.3ms\n",
      "Speed: 2.3ms preprocess, 170.3ms inference, 0.0ms postprocess per image at shape (1, 3, 384, 640)\n",
      "\n",
      "0: 384x640 4 cars, 155.5ms\n"
     ]
    },
    {
     "name": "stdout",
     "output_type": "stream",
     "text": [
      "[     653.57      262.51      731.73      329.11          20]\n",
      "[     685.03       296.7      781.98      373.12          13]\n",
      "[     491.28      291.14      578.57      360.11          12]\n",
      "[     709.79      373.13      834.84      482.07           5]\n"
     ]
    },
    {
     "name": "stderr",
     "output_type": "stream",
     "text": [
      "Speed: 4.0ms preprocess, 155.5ms inference, 0.0ms postprocess per image at shape (1, 3, 384, 640)\n",
      "\n",
      "0: 384x640 4 cars, 156.4ms\n"
     ]
    },
    {
     "name": "stdout",
     "output_type": "stream",
     "text": [
      "[     654.12      263.83      730.77      330.43          20]\n",
      "[     685.97      298.06      783.44      375.08          13]\n",
      "[     490.69      291.64      578.14      361.34          12]\n",
      "[     711.69      375.89      837.29      485.37           5]\n"
     ]
    },
    {
     "name": "stderr",
     "output_type": "stream",
     "text": [
      "Speed: 2.0ms preprocess, 156.4ms inference, 0.0ms postprocess per image at shape (1, 3, 384, 640)\n",
      "\n",
      "0: 384x640 4 cars, 153.6ms\n",
      "Speed: 2.0ms preprocess, 153.6ms inference, 0.0ms postprocess per image at shape (1, 3, 384, 640)\n"
     ]
    },
    {
     "name": "stdout",
     "output_type": "stream",
     "text": [
      "[     654.42      264.97      729.68      331.55          20]\n",
      "[     687.06      299.09      785.17      376.56          13]\n",
      "[      489.8      292.33      577.37      362.56          12]\n",
      "[     713.67      378.62      840.79      489.35           5]\n"
     ]
    },
    {
     "name": "stderr",
     "output_type": "stream",
     "text": [
      "\n",
      "0: 384x640 4 cars, 146.3ms\n"
     ]
    },
    {
     "name": "stdout",
     "output_type": "stream",
     "text": [
      "[     654.99      265.66      729.49      331.68          20]\n",
      "[     687.34      300.68      785.92      378.47          13]\n",
      "[     489.66      292.47      577.58      363.09          12]\n",
      "[     715.61      380.68      844.11       492.3           5]\n"
     ]
    },
    {
     "name": "stderr",
     "output_type": "stream",
     "text": [
      "Speed: 3.2ms preprocess, 146.3ms inference, 0.0ms postprocess per image at shape (1, 3, 384, 640)\n",
      "\n",
      "0: 384x640 4 cars, 166.5ms\n"
     ]
    },
    {
     "name": "stdout",
     "output_type": "stream",
     "text": [
      "[     655.16      266.65      728.82      332.26          20]\n",
      "[     687.99      302.23      786.92      380.79          13]\n",
      "[     489.11      293.26      577.55      364.45          12]\n",
      "[     716.72      383.18      846.21      495.46           5]\n"
     ]
    },
    {
     "name": "stderr",
     "output_type": "stream",
     "text": [
      "Speed: 1.0ms preprocess, 166.5ms inference, 0.0ms postprocess per image at shape (1, 3, 384, 640)\n",
      "\n",
      "0: 384x640 5 cars, 137.1ms\n",
      "Speed: 4.0ms preprocess, 137.1ms inference, 0.0ms postprocess per image at shape (1, 3, 384, 640)\n",
      "\n"
     ]
    },
    {
     "name": "stdout",
     "output_type": "stream",
     "text": [
      "[     655.38      267.73      728.44      333.04          20]\n",
      "[     688.79      303.68      787.99      383.35          13]\n",
      "[     488.17      293.91         577      365.23          12]\n",
      "[     717.29      384.31      848.06      497.61           5]\n",
      "[     655.58      268.63      728.19      333.44          20]\n",
      "[      689.7      304.74      789.06       384.4          13]\n",
      "[     487.77      294.95      576.87      366.63          12]\n",
      "[     717.61       388.4      849.86      502.45           5]\n"
     ]
    },
    {
     "name": "stderr",
     "output_type": "stream",
     "text": [
      "0: 384x640 4 cars, 145.9ms\n",
      "Speed: 3.5ms preprocess, 145.9ms inference, 15.6ms postprocess per image at shape (1, 3, 384, 640)\n",
      "\n"
     ]
    },
    {
     "name": "stdout",
     "output_type": "stream",
     "text": [
      "[     655.26      269.03      727.85       333.5          20]\n",
      "[     691.18      306.04      791.54      387.08          13]\n",
      "[     487.13       295.9       576.7      367.85          12]\n",
      "[     718.46      390.76      852.34      505.92           5]\n"
     ]
    },
    {
     "name": "stderr",
     "output_type": "stream",
     "text": [
      "0: 384x640 4 cars, 179.6ms\n",
      "Speed: 1.0ms preprocess, 179.6ms inference, 5.8ms postprocess per image at shape (1, 3, 384, 640)\n",
      "\n",
      "0: 384x640 4 cars, 149.5ms\n"
     ]
    },
    {
     "name": "stdout",
     "output_type": "stream",
     "text": [
      "[     656.16      268.72      729.33      333.28          20]\n",
      "[     692.03      307.19       792.8      388.68          13]\n",
      "[     485.89      297.03      576.36      369.46          12]\n",
      "[     717.71      393.99      853.59      509.96           5]\n"
     ]
    },
    {
     "name": "stderr",
     "output_type": "stream",
     "text": [
      "Speed: 1.0ms preprocess, 149.5ms inference, 0.0ms postprocess per image at shape (1, 3, 384, 640)\n",
      "\n",
      "0: 384x640 5 cars, 140.6ms\n"
     ]
    },
    {
     "name": "stdout",
     "output_type": "stream",
     "text": [
      "[     657.15      269.01      731.88      333.39          20]\n",
      "[     692.91      308.16      793.96      389.97          13]\n",
      "[     483.69      298.37      575.38      371.71          12]\n",
      "[     719.74      397.43      856.24      513.68           5]\n"
     ]
    },
    {
     "name": "stderr",
     "output_type": "stream",
     "text": [
      "Speed: 11.1ms preprocess, 140.6ms inference, 0.0ms postprocess per image at shape (1, 3, 384, 640)\n",
      "\n",
      "0: 384x640 4 cars, 145.6ms\n",
      "Speed: 8.9ms preprocess, 145.6ms inference, 0.0ms postprocess per image at shape (1, 3, 384, 640)\n"
     ]
    },
    {
     "name": "stdout",
     "output_type": "stream",
     "text": [
      "[     658.05         269      734.27      334.17          20]\n",
      "[     693.35      309.09      794.89      391.13          13]\n",
      "[      482.2      298.88      575.06      373.15          12]\n",
      "[      721.1       398.5      859.18       515.8           5]\n"
     ]
    },
    {
     "name": "stderr",
     "output_type": "stream",
     "text": [
      "\n",
      "0: 384x640 5 cars, 140.3ms\n",
      "Speed: 4.1ms preprocess, 140.3ms inference, 15.7ms postprocess per image at shape (1, 3, 384, 640)\n",
      "\n"
     ]
    },
    {
     "name": "stdout",
     "output_type": "stream",
     "text": [
      "[     658.48      269.02      736.39      335.07          20]\n",
      "[     693.78      310.38      796.23      393.16          13]\n",
      "[     480.34      299.53      574.31      374.48          12]\n",
      "[     722.76      401.54      862.31      520.97           5]\n",
      "[     658.47      269.36       736.7      335.69          20]\n",
      "[     693.85      310.88      798.08      394.49          13]\n",
      "[        479      299.62      574.05      375.07          12]\n",
      "[     726.64      405.51      866.68      526.46           5]\n"
     ]
    },
    {
     "name": "stderr",
     "output_type": "stream",
     "text": [
      "0: 384x640 4 cars, 174.7ms\n",
      "Speed: 0.1ms preprocess, 174.7ms inference, 15.7ms postprocess per image at shape (1, 3, 384, 640)\n",
      "\n",
      "0: 384x640 4 cars, 128.6ms\n",
      "Speed: 3.3ms preprocess, 128.6ms inference, 17.1ms postprocess per image at shape (1, 3, 384, 640)\n",
      "\n"
     ]
    },
    {
     "name": "stdout",
     "output_type": "stream",
     "text": [
      "[     658.94      269.58      738.29      336.45          20]\n",
      "[      694.2      312.01       799.7      395.93          13]\n",
      "[     477.49       300.2      573.05         376          12]\n",
      "[     729.95      408.89      870.31      530.41           5]\n",
      "[      659.1      269.55      739.54      336.82          20]\n",
      "[     694.35      313.39      800.24      398.07          13]\n",
      "[     476.66      301.18      572.32      377.49          12]\n",
      "[     732.12      412.77      873.27      534.99           5]\n"
     ]
    },
    {
     "name": "stderr",
     "output_type": "stream",
     "text": [
      "0: 384x640 4 cars, 168.0ms\n",
      "Speed: 1.0ms preprocess, 168.0ms inference, 0.0ms postprocess per image at shape (1, 3, 384, 640)\n",
      "\n",
      "0: 384x640 4 cars, 128.1ms\n",
      "Speed: 2.5ms preprocess, 128.1ms inference, 0.0ms postprocess per image at shape (1, 3, 384, 640)\n",
      "\n"
     ]
    },
    {
     "name": "stdout",
     "output_type": "stream",
     "text": [
      "[     658.95      269.64       740.2      337.48          20]\n",
      "[      695.6      314.96      801.81         401          13]\n",
      "[     475.71      302.73      571.43      379.42          12]\n",
      "[     733.29      416.08      875.86      539.91           5]\n",
      "[     658.92      269.74      741.05      338.28          20]\n",
      "[     696.18      316.12      802.89      403.43          13]\n",
      "[     474.25      303.88      570.28      380.85          12]\n",
      "[     734.28      419.84      878.13      544.29           5]\n"
     ]
    },
    {
     "name": "stderr",
     "output_type": "stream",
     "text": [
      "0: 384x640 4 cars, 161.8ms\n",
      "Speed: 2.3ms preprocess, 161.8ms inference, 0.0ms postprocess per image at shape (1, 3, 384, 640)\n",
      "\n",
      "0: 384x640 4 cars, 136.1ms\n",
      "Speed: 4.2ms preprocess, 136.1ms inference, 0.0ms postprocess per image at shape (1, 3, 384, 640)\n",
      "\n"
     ]
    },
    {
     "name": "stdout",
     "output_type": "stream",
     "text": [
      "[     658.56      270.31      741.04      339.34          20]\n",
      "[     696.68      316.93      804.28       405.2          13]\n",
      "[      473.2      304.88      569.74      382.05          12]\n",
      "[     736.98      422.36      881.76      547.26           5]\n",
      "[     658.18      271.55      740.61      340.64          20]\n",
      "[     697.51      317.41      806.06      406.91          13]\n",
      "[     471.62      305.38      568.81      382.98          12]\n",
      "[      738.8      425.65      884.83      551.71           5]\n"
     ]
    },
    {
     "name": "stderr",
     "output_type": "stream",
     "text": [
      "0: 384x640 4 cars, 173.8ms\n",
      "Speed: 2.0ms preprocess, 173.8ms inference, 0.0ms postprocess per image at shape (1, 3, 384, 640)\n",
      "\n",
      "0: 384x640 5 cars, 168.1ms\n"
     ]
    },
    {
     "name": "stdout",
     "output_type": "stream",
     "text": [
      "[     658.02      272.18      740.43      341.59          20]\n",
      "[     699.42      318.54      808.34      407.83          13]\n",
      "[     469.82      306.31      567.76      384.49          12]\n",
      "[     740.88      429.12      888.38      556.85           5]\n"
     ]
    },
    {
     "name": "stderr",
     "output_type": "stream",
     "text": [
      "Speed: 3.9ms preprocess, 168.1ms inference, 2.0ms postprocess per image at shape (1, 3, 384, 640)\n",
      "\n",
      "0: 384x640 5 cars, 129.4ms\n",
      "Speed: 3.7ms preprocess, 129.4ms inference, 0.0ms postprocess per image at shape (1, 3, 384, 640)\n",
      "\n"
     ]
    },
    {
     "name": "stdout",
     "output_type": "stream",
     "text": [
      "[     658.53       272.8      741.75      342.19          20]\n",
      "[     700.42      320.83      810.18       410.8          13]\n",
      "[     469.04      308.02      567.52      386.89          12]\n",
      "[     743.23       433.1       892.6      561.78           5]\n",
      "[     658.26      273.56      742.69      343.81          20]\n",
      "[     700.35      322.18      811.26      412.66          13]\n",
      "[     468.67      309.36      567.55      389.01          12]\n",
      "[     745.67      436.22      896.42       566.4           5]\n"
     ]
    },
    {
     "name": "stderr",
     "output_type": "stream",
     "text": [
      "0: 384x640 5 cars, 153.6ms\n",
      "Speed: 3.4ms preprocess, 153.6ms inference, 0.0ms postprocess per image at shape (1, 3, 384, 640)\n",
      "\n",
      "0: 384x640 5 cars, 146.3ms\n",
      "Speed: 1.0ms preprocess, 146.3ms inference, 0.0ms postprocess per image at shape (1, 3, 384, 640)\n",
      "\n"
     ]
    },
    {
     "name": "stdout",
     "output_type": "stream",
     "text": [
      "[     600.15      246.17      683.03      296.73          21]\n",
      "[      658.3      274.04      744.19       345.5          20]\n",
      "[     701.21      323.22      812.67      414.05          13]\n",
      "[      467.1      310.34      567.09      390.57          12]\n",
      "[      747.5      441.31      900.09      573.16           5]\n",
      "[     600.29      246.16      682.39      297.08          21]\n",
      "[     657.78      274.45      745.27      346.52          20]\n",
      "[     702.44      324.15      814.85      415.25          13]\n",
      "[     465.42      311.87      566.76      392.53          12]\n",
      "[     750.43      445.54      904.31      577.75           5]\n"
     ]
    },
    {
     "name": "stderr",
     "output_type": "stream",
     "text": [
      "0: 384x640 5 cars, 143.3ms\n",
      "Speed: 1.0ms preprocess, 143.3ms inference, 0.0ms postprocess per image at shape (1, 3, 384, 640)\n",
      "\n",
      "0: 384x640 5 cars, 154.8ms\n"
     ]
    },
    {
     "name": "stdout",
     "output_type": "stream",
     "text": [
      "[     600.57      246.25      682.49      297.74          21]\n",
      "[     657.39      275.35      745.21      348.08          20]\n",
      "[     702.88      325.45      816.28      417.29          13]\n",
      "[     464.37      313.38      566.44      394.89          12]\n",
      "[     752.54      448.46      907.37      581.21           5]\n"
     ]
    },
    {
     "name": "stderr",
     "output_type": "stream",
     "text": [
      "Speed: 2.9ms preprocess, 154.8ms inference, 0.0ms postprocess per image at shape (1, 3, 384, 640)\n",
      "\n",
      "0: 384x640 4 cars, 155.2ms\n",
      "Speed: 4.0ms preprocess, 155.2ms inference, 0.0ms postprocess per image at shape (1, 3, 384, 640)\n"
     ]
    },
    {
     "name": "stdout",
     "output_type": "stream",
     "text": [
      "[     601.49      246.37       683.6      298.54          21]\n",
      "[      658.3      276.21      746.06      349.42          20]\n",
      "[     703.23       326.6      817.89      419.26          13]\n",
      "[     463.41      314.61      566.28         397          12]\n",
      "[     755.68      451.81      911.25      586.56           5]\n"
     ]
    },
    {
     "name": "stderr",
     "output_type": "stream",
     "text": [
      "\n",
      "0: 384x640 4 cars, 140.8ms\n",
      "Speed: 4.3ms preprocess, 140.8ms inference, 0.0ms postprocess per image at shape (1, 3, 384, 640)\n",
      "\n"
     ]
    },
    {
     "name": "stdout",
     "output_type": "stream",
     "text": [
      "[     659.59      276.71      746.73       349.7          20]\n",
      "[     703.29      328.62      819.14       421.6          13]\n",
      "[     462.29      315.53      565.73      398.57          12]\n",
      "[     758.26      455.57      915.74      592.39           5]\n",
      "[     660.36      276.45      747.33      349.55          20]\n",
      "[     703.73      329.66      820.45      423.42          13]\n",
      "[     461.42      316.65      564.72      399.61          12]\n",
      "[     760.52      459.12      919.92      597.44           5]\n"
     ]
    },
    {
     "name": "stderr",
     "output_type": "stream",
     "text": [
      "0: 384x640 5 cars, 149.5ms\n",
      "Speed: 1.0ms preprocess, 149.5ms inference, 16.7ms postprocess per image at shape (1, 3, 384, 640)\n",
      "\n",
      "0: 384x640 6 cars, 155.9ms\n",
      "Speed: 3.9ms preprocess, 155.9ms inference, 1.0ms postprocess per image at shape (1, 3, 384, 640)\n",
      "\n"
     ]
    },
    {
     "name": "stdout",
     "output_type": "stream",
     "text": [
      "[     660.67      276.96      747.51      350.15          20]\n",
      "[     704.09      331.18      821.99      425.51          13]\n",
      "[     460.21       317.7      563.95       400.6          12]\n",
      "[     762.35       464.1      924.27      604.63           5]\n",
      "[     660.99      277.12      748.01      350.37          20]\n",
      "[     705.56      331.99      823.78      427.27          13]\n",
      "[     459.04      319.29      563.12      402.97          12]\n",
      "[     763.46      467.79      928.59      610.51           5]\n"
     ]
    },
    {
     "name": "stderr",
     "output_type": "stream",
     "text": [
      "0: 384x640 5 cars, 156.9ms\n",
      "Speed: 1.0ms preprocess, 156.9ms inference, 0.0ms postprocess per image at shape (1, 3, 384, 640)\n",
      "\n",
      "0: 384x640 6 cars, 151.0ms\n"
     ]
    },
    {
     "name": "stdout",
     "output_type": "stream",
     "text": [
      "[     660.88       277.8      747.75      351.09          20]\n",
      "[     706.22      332.93      824.95      429.17          13]\n",
      "[     458.38      320.57      562.43      405.07          12]\n",
      "[     764.74      472.61      932.46       616.9           5]\n"
     ]
    },
    {
     "name": "stderr",
     "output_type": "stream",
     "text": [
      "Speed: 8.1ms preprocess, 151.0ms inference, 15.7ms postprocess per image at shape (1, 3, 384, 640)\n",
      "\n",
      "0: 384x640 6 cars, 151.1ms\n",
      "Speed: 1.0ms preprocess, 151.1ms inference, 0.0ms postprocess per image at shape (1, 3, 384, 640)\n"
     ]
    },
    {
     "name": "stdout",
     "output_type": "stream",
     "text": [
      "[     661.04       278.5      748.07      351.54          20]\n",
      "[     706.73      334.64      826.36      431.05          13]\n",
      "[      457.7      321.51         562      406.62          12]\n",
      "[     766.37      477.29      936.52      622.71           5]\n"
     ]
    },
    {
     "name": "stderr",
     "output_type": "stream",
     "text": [
      "\n",
      "0: 384x640 6 cars, 146.1ms\n"
     ]
    },
    {
     "name": "stdout",
     "output_type": "stream",
     "text": [
      "[     535.61       244.3       617.7      278.65          22]\n",
      "[     661.53      278.98       748.4      352.11          20]\n",
      "[     707.57      336.62      828.15      434.25          13]\n",
      "[     456.31      323.02      561.06      408.58          12]\n",
      "[     766.78      481.53      940.05      628.06           5]\n"
     ]
    },
    {
     "name": "stderr",
     "output_type": "stream",
     "text": [
      "Speed: 3.6ms preprocess, 146.1ms inference, 15.6ms postprocess per image at shape (1, 3, 384, 640)\n",
      "\n",
      "0: 384x640 6 cars, 157.2ms\n",
      "Speed: 1.0ms preprocess, 157.2ms inference, 0.0ms postprocess per image at shape (1, 3, 384, 640)\n"
     ]
    },
    {
     "name": "stdout",
     "output_type": "stream",
     "text": [
      "[     535.17      244.41      617.71      279.56          22]\n",
      "[     610.49      245.49      690.56      303.36          21]\n",
      "[     661.45      279.77      748.76      352.98          20]\n",
      "[     709.46      338.42      830.45      436.92          13]\n",
      "[     455.08      324.32      560.15      410.47          12]\n",
      "[     771.49      485.55      945.15      633.92           5]\n"
     ]
    },
    {
     "name": "stderr",
     "output_type": "stream",
     "text": [
      "\n",
      "0: 384x640 5 cars, 139.2ms\n",
      "Speed: 3.3ms preprocess, 139.2ms inference, 0.0ms postprocess per image at shape (1, 3, 384, 640)\n",
      "\n"
     ]
    },
    {
     "name": "stdout",
     "output_type": "stream",
     "text": [
      "[     535.11      244.32      617.67      279.91          22]\n",
      "[     612.58      245.37      692.42       303.8          21]\n",
      "[     661.06      280.69      749.24      353.96          20]\n",
      "[     710.73      340.48      832.01      439.07          13]\n",
      "[     453.93      325.97      559.24      412.56          12]\n",
      "[     774.99      491.36      949.76      641.36           5]\n",
      "[      534.9      244.56      617.89      281.15          22]\n",
      "[      661.4      281.19      750.23      354.79          20]\n",
      "[     711.76      342.61      833.27      442.35          13]\n",
      "[     452.56      327.77      558.58      414.68          12]\n",
      "[     778.09      496.95      954.77      648.99           5]\n"
     ]
    },
    {
     "name": "stderr",
     "output_type": "stream",
     "text": [
      "0: 384x640 5 cars, 139.9ms\n",
      "Speed: 2.0ms preprocess, 139.9ms inference, 0.0ms postprocess per image at shape (1, 3, 384, 640)\n",
      "\n",
      "0: 384x640 5 cars, 127.0ms\n",
      "Speed: 4.9ms preprocess, 127.0ms inference, 0.0ms postprocess per image at shape (1, 3, 384, 640)\n",
      "\n"
     ]
    },
    {
     "name": "stdout",
     "output_type": "stream",
     "text": [
      "[     535.26      244.53      617.55      281.66          22]\n",
      "[     661.87      281.31      750.89      355.14          20]\n",
      "[     712.27         344      834.22      444.85          13]\n",
      "[      451.2      328.72      558.58      416.43          12]\n",
      "[     780.41      500.99      959.91      656.19           5]\n",
      "[     534.68      244.76      616.78      282.93          22]\n",
      "[     662.38      282.41      752.08      356.13          20]\n",
      "[     712.27      345.84      835.34      446.98          13]\n",
      "[     450.29      330.21      558.37      418.49          12]\n",
      "[     784.83      506.78      964.64      662.84           5]\n"
     ]
    },
    {
     "name": "stderr",
     "output_type": "stream",
     "text": [
      "0: 384x640 5 cars, 159.5ms\n",
      "Speed: 4.0ms preprocess, 159.5ms inference, 0.0ms postprocess per image at shape (1, 3, 384, 640)\n",
      "\n",
      "0: 384x640 6 cars, 145.9ms\n"
     ]
    },
    {
     "name": "stdout",
     "output_type": "stream",
     "text": [
      "[      534.6      244.66      616.38      283.55          22]\n",
      "[     662.63      282.36      753.11      356.28          20]\n",
      "[     712.23      347.74      836.39      449.08          13]\n",
      "[     448.91      331.19      558.08      420.71          12]\n",
      "[      788.5      512.11      968.81      669.09           5]\n"
     ]
    },
    {
     "name": "stderr",
     "output_type": "stream",
     "text": [
      "Speed: 4.8ms preprocess, 145.9ms inference, 0.0ms postprocess per image at shape (1, 3, 384, 640)\n",
      "\n",
      "0: 384x640 5 cars, 124.6ms\n",
      "Speed: 3.9ms preprocess, 124.6ms inference, 0.0ms postprocess per image at shape (1, 3, 384, 640)\n",
      "\n"
     ]
    },
    {
     "name": "stdout",
     "output_type": "stream",
     "text": [
      "[     534.45      244.68      615.71      284.35          22]\n",
      "[     663.05      282.75      753.81      356.54          20]\n",
      "[     712.45       349.4      837.13      451.43          13]\n",
      "[     448.41      332.14      558.65      422.84          12]\n",
      "[     791.28      516.52      973.36      675.28           5]\n",
      "[     533.88      245.21      614.66      285.42          22]\n",
      "[     662.86      283.09      754.39      357.06          20]\n",
      "[     712.98      351.34      838.87      454.16          13]\n",
      "[     447.15       334.2      558.69      425.77          12]\n",
      "[     793.77      522.11      978.01      683.82           5]\n"
     ]
    },
    {
     "name": "stderr",
     "output_type": "stream",
     "text": [
      "0: 384x640 6 cars, 153.6ms\n",
      "Speed: 2.8ms preprocess, 153.6ms inference, 15.7ms postprocess per image at shape (1, 3, 384, 640)\n",
      "\n",
      "0: 384x640 6 cars, 157.5ms\n",
      "Speed: 1.0ms preprocess, 157.5ms inference, 0.0ms postprocess per image at shape (1, 3, 384, 640)\n"
     ]
    },
    {
     "name": "stdout",
     "output_type": "stream",
     "text": [
      "[     533.27      244.68      612.69      285.19          22]\n",
      "[     662.46      283.17      754.26      357.27          20]\n",
      "[     713.59      352.72      840.36      456.38          13]\n",
      "[     445.71      336.56       557.1      428.46          12]\n",
      "[     797.23      528.31      983.57      692.44           5]\n"
     ]
    },
    {
     "name": "stderr",
     "output_type": "stream",
     "text": [
      "\n"
     ]
    },
    {
     "name": "stdout",
     "output_type": "stream",
     "text": [
      "[     532.05      244.09      610.98      285.46          22]\n",
      "[     662.05      282.89      753.79      357.62          20]\n",
      "[     714.39      354.53       842.9      459.09          13]\n",
      "[      444.1      338.93      555.65      430.52          12]\n",
      "[      799.2      533.42      988.72      700.45           5]\n"
     ]
    },
    {
     "name": "stderr",
     "output_type": "stream",
     "text": [
      "0: 384x640 6 cars, 178.6ms\n",
      "Speed: 1.0ms preprocess, 178.6ms inference, 0.0ms postprocess per image at shape (1, 3, 384, 640)\n",
      "\n",
      "0: 384x640 6 cars, 129.5ms\n",
      "Speed: 3.0ms preprocess, 129.5ms inference, 0.0ms postprocess per image at shape (1, 3, 384, 640)\n",
      "\n"
     ]
    },
    {
     "name": "stdout",
     "output_type": "stream",
     "text": [
      "[     531.73      244.38      610.23      286.35          22]\n",
      "[     621.81      244.84      705.81      310.47          21]\n",
      "[     661.89      282.85       753.6      358.32          20]\n",
      "[     714.82      356.96      844.32      462.17          13]\n",
      "[     443.22      341.51      555.43      433.43          12]\n",
      "[     803.95      541.03      994.93      709.86           5]\n",
      "[     531.91      244.35      610.36      286.79          22]\n",
      "[     626.64       244.4      718.38      310.92          21]\n",
      "[     661.36      282.87      753.33      359.16          20]\n",
      "[     714.78      358.36         845      464.03          13]\n",
      "[     442.06      343.86      555.57      436.31          12]\n",
      "[     806.24       545.2      998.53      715.05           5]\n"
     ]
    },
    {
     "name": "stderr",
     "output_type": "stream",
     "text": [
      "0: 384x640 6 cars, 139.9ms\n",
      "Speed: 6.5ms preprocess, 139.9ms inference, 16.7ms postprocess per image at shape (1, 3, 384, 640)\n",
      "\n",
      "0: 384x640 6 cars, 146.9ms\n",
      "Speed: 3.4ms preprocess, 146.9ms inference, 0.0ms postprocess per image at shape (1, 3, 384, 640)\n",
      "\n"
     ]
    },
    {
     "name": "stdout",
     "output_type": "stream",
     "text": [
      "[     532.29      244.46      610.13      287.47          22]\n",
      "[     624.12      244.39      714.34      311.57          21]\n",
      "[     660.63      283.75      753.08      361.19          20]\n",
      "[     715.45      360.24      846.46      466.53          13]\n",
      "[     440.38       344.8       554.3      437.89          12]\n",
      "[     808.64      547.81      1002.7      717.57           5]\n",
      "[     532.54      244.58      609.96      288.29          22]\n",
      "[     623.82      244.46       712.7      312.38          21]\n",
      "[     660.61      283.78      754.02      362.89          20]\n",
      "[     715.72      362.28      847.59      469.29          13]\n",
      "[     439.24      346.94      553.73       440.5          12]\n",
      "[     811.26      553.51      1006.9      720.64           5]\n"
     ]
    },
    {
     "name": "stderr",
     "output_type": "stream",
     "text": [
      "0: 384x640 6 cars, 154.4ms\n",
      "Speed: 2.9ms preprocess, 154.4ms inference, 0.0ms postprocess per image at shape (1, 3, 384, 640)\n",
      "\n",
      "0: 384x640 7 cars, 146.8ms\n"
     ]
    },
    {
     "name": "stdout",
     "output_type": "stream",
     "text": [
      "[     532.72      244.67      609.85      289.18          22]\n",
      "[     625.66       244.5      715.26       313.3          21]\n",
      "[        660      284.39      754.32       364.2          20]\n",
      "[     716.03      364.17      849.06       471.7          13]\n",
      "[        438      348.63      553.73       443.1          12]\n",
      "[     814.86      558.51      1014.2      722.52           5]\n"
     ]
    },
    {
     "name": "stderr",
     "output_type": "stream",
     "text": [
      "Speed: 2.8ms preprocess, 146.8ms inference, 0.0ms postprocess per image at shape (1, 3, 384, 640)\n",
      "\n",
      "0: 384x640 6 cars, 171.1ms\n",
      "Speed: 5.3ms preprocess, 171.1ms inference, 0.0ms postprocess per image at shape (1, 3, 384, 640)\n"
     ]
    },
    {
     "name": "stdout",
     "output_type": "stream",
     "text": [
      "[     532.87      244.56      609.75      289.64          22]\n",
      "[     626.76      244.57      715.75      314.23          21]\n",
      "[     659.25      285.43      753.65      365.16          20]\n",
      "[     717.58      365.94      852.03      474.69          13]\n",
      "[     436.96      351.03      553.04      446.13          12]\n",
      "[     818.55      564.71      1021.5      723.17           5]\n"
     ]
    },
    {
     "name": "stderr",
     "output_type": "stream",
     "text": [
      "\n",
      "0: 384x640 6 cars, 144.5ms\n",
      "Speed: 1.0ms preprocess, 144.5ms inference, 1.0ms postprocess per image at shape (1, 3, 384, 640)\n",
      "\n"
     ]
    },
    {
     "name": "stdout",
     "output_type": "stream",
     "text": [
      "[     532.99       244.4      609.67      289.91          22]\n",
      "[     627.23      244.82       715.8      315.64          21]\n",
      "[     659.68      286.75      753.31      365.87          20]\n",
      "[     718.27      367.83       854.3      477.75          13]\n",
      "[     434.95      352.79      551.85      448.91          12]\n",
      "[      821.6      571.81        1029       724.2           5]\n",
      "[     532.42       245.1      608.96      291.19          22]\n",
      "[     631.08      244.97      723.82      317.41          21]\n",
      "[     660.26      288.46      752.77      366.84          20]\n",
      "[     718.49      370.43      855.13      481.45          13]\n",
      "[     432.21      354.88      550.81      452.32          12]\n",
      "[     823.51      579.31      1034.7      725.35           5]\n"
     ]
    },
    {
     "name": "stderr",
     "output_type": "stream",
     "text": [
      "0: 384x640 6 cars, 230.7ms\n",
      "Speed: 3.0ms preprocess, 230.7ms inference, 2.1ms postprocess per image at shape (1, 3, 384, 640)\n",
      "\n",
      "0: 384x640 6 cars, 146.3ms\n"
     ]
    },
    {
     "name": "stdout",
     "output_type": "stream",
     "text": [
      "[     532.23      245.44      608.69      292.23          22]\n",
      "[      631.8      244.77      727.53      318.31          21]\n",
      "[     660.68       289.4      752.36      367.52          20]\n",
      "[     718.83      372.93      856.43      484.48          13]\n",
      "[     430.91      356.23      550.75      454.89          12]\n",
      "[     825.49      585.34      1038.6      725.54           5]\n"
     ]
    },
    {
     "name": "stderr",
     "output_type": "stream",
     "text": [
      "Speed: 2.4ms preprocess, 146.3ms inference, 0.0ms postprocess per image at shape (1, 3, 384, 640)\n",
      "\n"
     ]
    },
    {
     "name": "stdout",
     "output_type": "stream",
     "text": [
      "[     531.72      245.43      608.39      292.74          22]\n",
      "[      631.5      244.51       729.4      318.81          21]\n",
      "[     660.99      290.44      752.06      368.36          20]\n",
      "[     720.25      375.67      858.83      487.61          13]\n",
      "[     430.98      358.52      550.87      457.23          12]\n",
      "[     826.08      590.84        1042      725.36           5]\n"
     ]
    },
    {
     "name": "stderr",
     "output_type": "stream",
     "text": [
      "0: 384x640 6 cars, 195.0ms\n",
      "Speed: 2.6ms preprocess, 195.0ms inference, 4.8ms postprocess per image at shape (1, 3, 384, 640)\n",
      "\n",
      "0: 384x640 6 cars, 140.0ms\n"
     ]
    },
    {
     "name": "stdout",
     "output_type": "stream",
     "text": [
      "[     531.02       245.5      608.14      293.48          22]\n",
      "[     632.46      244.43      734.15      319.61          21]\n",
      "[     661.12      291.03      752.58      369.09          20]\n",
      "[     721.43      378.53      860.99      490.74          13]\n",
      "[     430.57      361.46      550.77      460.48          12]\n",
      "[     831.94      596.77      1047.8      725.06           5]\n"
     ]
    },
    {
     "name": "stderr",
     "output_type": "stream",
     "text": [
      "Speed: 4.5ms preprocess, 140.0ms inference, 0.0ms postprocess per image at shape (1, 3, 384, 640)\n",
      "\n",
      "0: 384x640 6 cars, 125.6ms\n",
      "Speed: 3.8ms preprocess, 125.6ms inference, 0.0ms postprocess per image at shape (1, 3, 384, 640)\n",
      "\n"
     ]
    },
    {
     "name": "stdout",
     "output_type": "stream",
     "text": [
      "[     530.23       245.4      607.94      293.87          22]\n",
      "[     630.33      244.29      731.17      319.99          21]\n",
      "[     661.37      292.32      752.56       370.2          20]\n",
      "[     722.78      381.45      862.78      493.86          13]\n",
      "[     429.65      363.75      550.89         463          12]\n",
      "[     836.43      603.12      1052.7      725.78           5]\n",
      "[     529.84      245.45      607.99      294.56          22]\n",
      "[     631.02       244.5      732.35      321.16          21]\n",
      "[     661.52      293.47      752.51      371.22          20]\n",
      "[     723.64      383.67       863.7      497.04          13]\n",
      "[     428.95      365.36      550.69      465.04          12]\n",
      "[     846.89      613.99        1060      728.41           5]\n"
     ]
    },
    {
     "name": "stderr",
     "output_type": "stream",
     "text": [
      "0: 384x640 6 cars, 159.8ms\n",
      "Speed: 1.0ms preprocess, 159.8ms inference, 0.0ms postprocess per image at shape (1, 3, 384, 640)\n",
      "\n",
      "0: 384x640 6 cars, 153.8ms\n",
      "Speed: 4.1ms preprocess, 153.8ms inference, 0.0ms postprocess per image at shape (1, 3, 384, 640)\n"
     ]
    },
    {
     "name": "stdout",
     "output_type": "stream",
     "text": [
      "[     529.15      245.53      607.91      295.38          22]\n",
      "[     632.28      244.57      735.64      322.24          21]\n",
      "[     661.15      294.56      752.26      372.21          20]\n",
      "[     724.68      385.57      865.87      499.65          13]\n",
      "[     427.98      367.78      550.06      467.78          12]\n",
      "[     851.22      622.99      1061.4      728.82           5]\n"
     ]
    },
    {
     "name": "stderr",
     "output_type": "stream",
     "text": [
      "\n",
      "0: 384x640 6 cars, 137.8ms\n",
      "Speed: 2.4ms preprocess, 137.8ms inference, 0.0ms postprocess per image at shape (1, 3, 384, 640)\n",
      "\n"
     ]
    },
    {
     "name": "stdout",
     "output_type": "stream",
     "text": [
      "[      528.8      245.42      607.99      295.81          22]\n",
      "[     631.91      243.95      737.01      322.62          21]\n",
      "[     660.78      294.89      751.73      373.27          20]\n",
      "[     726.33      387.58      868.62      502.45          13]\n",
      "[     426.63      369.14      549.55       470.2          12]\n",
      "[     857.38      630.67      1067.6      728.33           5]\n",
      "[     528.15      245.28      607.91      296.05          22]\n",
      "[     630.76      244.21      735.18      323.55          21]\n",
      "[     661.25      295.59      752.88       373.7          20]\n",
      "[     726.45      389.24      870.08      504.42          13]\n",
      "[     425.54      371.09      549.33      473.46          12]\n",
      "[     863.02      637.09      1072.3      727.62           5]\n"
     ]
    },
    {
     "name": "stderr",
     "output_type": "stream",
     "text": [
      "0: 384x640 6 cars, 130.9ms\n",
      "Speed: 4.4ms preprocess, 130.9ms inference, 0.0ms postprocess per image at shape (1, 3, 384, 640)\n",
      "\n",
      "0: 384x640 5 cars, 147.3ms\n",
      "Speed: 4.8ms preprocess, 147.3ms inference, 0.0ms postprocess per image at shape (1, 3, 384, 640)\n"
     ]
    },
    {
     "name": "stdout",
     "output_type": "stream",
     "text": [
      "[     527.81      245.33      607.99      296.67          22]\n",
      "[     628.72         244      730.13      323.53          21]\n",
      "[     660.92       296.9      752.52      375.36          20]\n",
      "[     727.61      391.62      871.41      507.83          13]\n",
      "[     424.25       373.2      549.52       477.1          12]\n",
      "[     869.56      642.57      1077.2      725.98           5]\n"
     ]
    },
    {
     "name": "stderr",
     "output_type": "stream",
     "text": [
      "\n",
      "0: 384x640 5 cars, 139.9ms\n",
      "Speed: 3.0ms preprocess, 139.9ms inference, 0.0ms postprocess per image at shape (1, 3, 384, 640)\n",
      "\n"
     ]
    },
    {
     "name": "stdout",
     "output_type": "stream",
     "text": [
      "[     527.14      245.43      607.93      297.45          22]\n",
      "[     630.14      244.05      731.85      324.02          21]\n",
      "[     660.97      298.08      752.86      377.88          20]\n",
      "[        729      393.49      873.49      511.26          13]\n",
      "[     423.27      376.09      550.14      480.82          12]\n",
      "[     526.32      245.52      607.84      298.33          22]\n",
      "[     630.61      243.98      732.52      324.27          21]\n",
      "[     661.05      299.35      754.22      379.91          20]\n",
      "[     729.93      395.99      875.75       515.2          13]\n",
      "[     422.18      378.92      550.48      484.26          12]\n"
     ]
    },
    {
     "name": "stderr",
     "output_type": "stream",
     "text": [
      "0: 384x640 5 cars, 147.7ms\n",
      "Speed: 1.0ms preprocess, 147.7ms inference, 0.0ms postprocess per image at shape (1, 3, 384, 640)\n",
      "\n",
      "0: 384x640 5 cars, 153.9ms\n"
     ]
    },
    {
     "name": "stdout",
     "output_type": "stream",
     "text": [
      "[     525.89       245.6      607.94      299.25          22]\n",
      "[      629.5      244.11       728.8      324.85          21]\n",
      "[     660.77      299.67       755.7      380.78          20]\n",
      "[     730.12      398.09      877.99      518.64          13]\n",
      "[     421.35      380.66      550.42      486.71          12]\n"
     ]
    },
    {
     "name": "stderr",
     "output_type": "stream",
     "text": [
      "Speed: 2.8ms preprocess, 153.9ms inference, 0.0ms postprocess per image at shape (1, 3, 384, 640)\n",
      "\n",
      "0: 384x640 5 cars, 160.3ms\n",
      "Speed: 2.9ms preprocess, 160.3ms inference, 0.0ms postprocess per image at shape (1, 3, 384, 640)\n"
     ]
    },
    {
     "name": "stdout",
     "output_type": "stream",
     "text": [
      "[     525.64      245.66      608.08      300.19          22]\n",
      "[     630.37      244.52      728.02      325.34          21]\n",
      "[     660.63      299.48      756.29       380.7          20]\n",
      "[      729.8         401      879.15      522.24          13]\n",
      "[     419.72      383.91      550.45      490.76          12]\n"
     ]
    },
    {
     "name": "stderr",
     "output_type": "stream",
     "text": [
      "\n",
      "0: 384x640 5 cars, 135.8ms\n",
      "Speed: 5.8ms preprocess, 135.8ms inference, 0.0ms postprocess per image at shape (1, 3, 384, 640)\n",
      "\n"
     ]
    },
    {
     "name": "stdout",
     "output_type": "stream",
     "text": [
      "[     525.32      246.18      607.73      301.34          22]\n",
      "[     631.81      244.84      728.54      325.99          21]\n",
      "[     659.98      299.55      756.44      381.13          20]\n",
      "[     731.26      405.35       882.5      527.38          13]\n",
      "[     419.29      386.62      550.97      494.59          12]\n",
      "[     525.22      246.26       607.6      301.87          22]\n",
      "[     632.89      245.08      729.49      326.75          21]\n",
      "[     659.21      299.68      755.71      381.78          20]\n",
      "[     732.85      408.55      886.57      530.87          13]\n",
      "[     418.06      389.32      550.96      498.11          12]\n"
     ]
    },
    {
     "name": "stderr",
     "output_type": "stream",
     "text": [
      "0: 384x640 5 cars, 147.6ms\n",
      "Speed: 5.8ms preprocess, 147.6ms inference, 0.0ms postprocess per image at shape (1, 3, 384, 640)\n",
      "\n",
      "0: 384x640 5 cars, 150.6ms\n",
      "Speed: 1.0ms preprocess, 150.6ms inference, 0.0ms postprocess per image at shape (1, 3, 384, 640)\n",
      "\n"
     ]
    },
    {
     "name": "stdout",
     "output_type": "stream",
     "text": [
      "[     525.39      246.19      608.01      302.14          22]\n",
      "[     636.02      245.41      735.59      328.08          21]\n",
      "[     659.28       299.8      756.37      382.56          20]\n",
      "[     732.98      412.24      888.49      534.76          13]\n",
      "[     416.28      392.27      550.35      501.93          12]\n",
      "[     525.24       246.1      607.74      302.28          22]\n",
      "[     637.24      245.53      739.79      329.22          21]\n",
      "[     659.11      300.06      757.47      383.89          20]\n",
      "[     733.31      415.38      890.15      538.88          13]\n",
      "[     414.77      395.11      549.69       505.4          12]\n"
     ]
    },
    {
     "name": "stderr",
     "output_type": "stream",
     "text": [
      "0: 384x640 5 cars, 160.3ms\n",
      "Speed: 3.5ms preprocess, 160.3ms inference, 15.7ms postprocess per image at shape (1, 3, 384, 640)\n",
      "\n"
     ]
    },
    {
     "name": "stdout",
     "output_type": "stream",
     "text": [
      "[     524.75      245.55      607.44      302.17          22]\n",
      "[     638.47      245.22      743.17      329.33          21]\n",
      "[      659.2      301.45      759.04      386.33          20]\n",
      "[      733.9      418.36      892.84      543.68          13]\n",
      "[     413.58       397.6      549.44       509.7          12]\n"
     ]
    },
    {
     "name": "stderr",
     "output_type": "stream",
     "text": [
      "0: 384x640 5 cars, 186.0ms\n",
      "Speed: 0.0ms preprocess, 186.0ms inference, 0.0ms postprocess per image at shape (1, 3, 384, 640)\n",
      "\n"
     ]
    },
    {
     "name": "stdout",
     "output_type": "stream",
     "text": [
      "[     524.24      245.43      607.66      302.67          22]\n",
      "[      638.8      245.03      744.52      329.42          21]\n",
      "[     659.44      303.08      760.07      388.71          20]\n",
      "[     734.29      421.03      895.56      547.69          13]\n",
      "[     412.08      400.09      549.14      513.53          12]\n"
     ]
    },
    {
     "name": "stderr",
     "output_type": "stream",
     "text": [
      "0: 384x640 5 cars, 177.4ms\n",
      "Speed: 3.9ms preprocess, 177.4ms inference, 0.0ms postprocess per image at shape (1, 3, 384, 640)\n",
      "\n",
      "0: 384x640 5 cars, 142.9ms\n",
      "Speed: 3.2ms preprocess, 142.9ms inference, 0.0ms postprocess per image at shape (1, 3, 384, 640)\n",
      "\n"
     ]
    },
    {
     "name": "stdout",
     "output_type": "stream",
     "text": [
      "[     523.47      245.46      607.69      303.43          22]\n",
      "[     640.18      245.84      746.97      331.81          21]\n",
      "[     659.95      303.53      761.98      389.72          20]\n",
      "[     734.92      424.99      897.33      552.59          13]\n",
      "[     411.33      403.32      549.26      517.74          12]\n",
      "[     522.58      245.33      607.65      303.83          22]\n",
      "[     640.49      246.06      748.04      333.44          21]\n",
      "[     659.71      303.77      762.48      390.63          20]\n",
      "[     736.68      427.92      899.65      556.74          13]\n",
      "[      409.8      407.36      548.62      522.21          12]\n"
     ]
    },
    {
     "name": "stderr",
     "output_type": "stream",
     "text": [
      "0: 384x640 5 cars, 162.9ms\n",
      "Speed: 3.2ms preprocess, 162.9ms inference, 0.0ms postprocess per image at shape (1, 3, 384, 640)\n",
      "\n",
      "0: 384x640 5 cars, 136.6ms\n",
      "Speed: 2.8ms preprocess, 136.6ms inference, 0.0ms postprocess per image at shape (1, 3, 384, 640)\n",
      "\n"
     ]
    },
    {
     "name": "stdout",
     "output_type": "stream",
     "text": [
      "[     522.58      245.19      607.97      304.06          22]\n",
      "[     640.35       245.7      747.32      333.82          21]\n",
      "[     660.32      303.06      763.91      390.41          20]\n",
      "[     737.58      430.39      901.51      560.66          13]\n",
      "[     408.89      410.15      548.11      526.38          12]\n",
      "[     522.05      244.78      607.98      304.48          22]\n",
      "[     642.51      245.61      749.33      334.54          21]\n",
      "[     661.05      303.52      765.23      391.49          20]\n",
      "[     739.58      433.77      905.04      565.38          13]\n",
      "[     408.04      413.47      547.81      530.73          12]\n"
     ]
    },
    {
     "name": "stderr",
     "output_type": "stream",
     "text": [
      "0: 384x640 5 cars, 136.3ms\n",
      "Speed: 1.0ms preprocess, 136.3ms inference, 0.0ms postprocess per image at shape (1, 3, 384, 640)\n",
      "\n",
      "0: 384x640 5 cars, 165.8ms\n"
     ]
    },
    {
     "name": "stdout",
     "output_type": "stream",
     "text": [
      "[     521.58      244.67      607.63      305.23          22]\n",
      "[     643.97      245.43      748.74      334.92          21]\n",
      "[     660.84      305.14      764.89      393.02          20]\n",
      "[     740.87      436.67       907.7      569.25          13]\n",
      "[     406.72      417.24      547.44      535.53          12]\n"
     ]
    },
    {
     "name": "stderr",
     "output_type": "stream",
     "text": [
      "Speed: 1.1ms preprocess, 165.8ms inference, 15.7ms postprocess per image at shape (1, 3, 384, 640)\n",
      "\n",
      "0: 384x640 5 cars, 166.5ms\n"
     ]
    },
    {
     "name": "stdout",
     "output_type": "stream",
     "text": [
      "[     520.47      244.93      607.13      305.86          22]\n",
      "[     646.16      246.27      751.37      336.75          21]\n",
      "[     660.68      306.13      765.47      394.48          20]\n",
      "[        741      440.57      909.63      573.59          13]\n",
      "[      405.4      421.12      546.85      541.24          12]\n"
     ]
    },
    {
     "name": "stderr",
     "output_type": "stream",
     "text": [
      "Speed: 2.3ms preprocess, 166.5ms inference, 0.0ms postprocess per image at shape (1, 3, 384, 640)\n",
      "\n",
      "0: 384x640 5 cars, 149.7ms\n"
     ]
    },
    {
     "name": "stdout",
     "output_type": "stream",
     "text": [
      "[     519.93      245.53      607.07      307.54          22]\n",
      "[     648.47      246.87      753.44      337.78          21]\n",
      "[     660.67      307.32      766.27      395.47          20]\n",
      "[     740.77      445.03      911.83      579.21          13]\n",
      "[     403.69      424.97      545.93      546.69          12]\n"
     ]
    },
    {
     "name": "stderr",
     "output_type": "stream",
     "text": [
      "Speed: 3.3ms preprocess, 149.7ms inference, 0.0ms postprocess per image at shape (1, 3, 384, 640)\n",
      "\n",
      "0: 384x640 5 cars, 130.0ms\n",
      "Speed: 1.0ms preprocess, 130.0ms inference, 15.6ms postprocess per image at shape (1, 3, 384, 640)\n",
      "\n"
     ]
    },
    {
     "name": "stdout",
     "output_type": "stream",
     "text": [
      "[     519.19      245.74      606.96      308.82          22]\n",
      "[     649.74         247      755.06      338.24          21]\n",
      "[     661.36      308.43      767.81      396.43          20]\n",
      "[     740.68      448.38      913.23      583.39          13]\n",
      "[     401.54      428.63      545.17      551.56          12]\n",
      "[     518.17      245.44      606.36      309.02          22]\n",
      "[     650.85      246.33      755.61       337.8          21]\n",
      "[     661.84      309.03      769.47      397.21          20]\n",
      "[     741.82      451.92      915.75      588.35          13]\n",
      "[     399.68      431.67      544.02      555.45          12]\n"
     ]
    },
    {
     "name": "stderr",
     "output_type": "stream",
     "text": [
      "0: 384x640 5 cars, 168.2ms\n",
      "Speed: 5.2ms preprocess, 168.2ms inference, 0.0ms postprocess per image at shape (1, 3, 384, 640)\n",
      "\n",
      "0: 384x640 5 cars, 155.7ms\n",
      "Speed: 2.9ms preprocess, 155.7ms inference, 0.0ms postprocess per image at shape (1, 3, 384, 640)\n",
      "\n"
     ]
    },
    {
     "name": "stdout",
     "output_type": "stream",
     "text": [
      "[     517.07      245.41      605.57      309.63          22]\n",
      "[     651.06       246.4      755.96      338.58          21]\n",
      "[     661.61      309.86      769.82      398.16          20]\n",
      "[     742.61      454.32      917.57      592.86          13]\n",
      "[      398.4      434.89      543.56      559.84          12]\n",
      "[     516.61      245.47      605.33      310.43          22]\n",
      "[     652.19      246.48      756.92      339.45          21]\n",
      "[     660.76      310.96      769.39      399.63          20]\n",
      "[     743.26         458      919.77       598.1          13]\n",
      "[     396.42      439.89      542.98      565.99          12]\n"
     ]
    },
    {
     "name": "stderr",
     "output_type": "stream",
     "text": [
      "0: 384x640 5 cars, 162.4ms\n",
      "Speed: 3.4ms preprocess, 162.4ms inference, 2.1ms postprocess per image at shape (1, 3, 384, 640)\n",
      "\n"
     ]
    },
    {
     "name": "stdout",
     "output_type": "stream",
     "text": [
      "[     515.48      245.35      604.91      310.85          22]\n",
      "[     653.06      246.95      757.42      341.27          21]\n",
      "[     661.18      312.13      770.41      401.33          20]\n",
      "[     744.69      461.81      922.59      603.31          13]\n",
      "[     394.53       443.9      542.65      570.55          12]\n"
     ]
    },
    {
     "name": "stderr",
     "output_type": "stream",
     "text": [
      "0: 384x640 5 cars, 183.1ms\n",
      "Speed: 2.5ms preprocess, 183.1ms inference, 1.0ms postprocess per image at shape (1, 3, 384, 640)\n",
      "\n",
      "0: 384x640 5 cars, 182.3ms\n"
     ]
    },
    {
     "name": "stdout",
     "output_type": "stream",
     "text": [
      "[     514.29      246.04      604.24      312.21          22]\n",
      "[     653.72       247.6      757.21      342.12          21]\n",
      "[      661.5       313.3      770.61      403.15          20]\n",
      "[     746.33       466.9      926.39      610.55          13]\n",
      "[     392.25      447.92      541.54      576.06          12]\n"
     ]
    },
    {
     "name": "stderr",
     "output_type": "stream",
     "text": [
      "Speed: 3.8ms preprocess, 182.3ms inference, 0.0ms postprocess per image at shape (1, 3, 384, 640)\n",
      "\n",
      "0: 384x640 5 cars, 162.6ms\n",
      "Speed: 1.1ms preprocess, 162.6ms inference, 0.0ms postprocess per image at shape (1, 3, 384, 640)\n"
     ]
    },
    {
     "name": "stdout",
     "output_type": "stream",
     "text": [
      "[     513.76      246.37      604.09      313.29          22]\n",
      "[     654.55       247.6      757.13      341.99          21]\n",
      "[      661.9      313.99      770.39      404.84          20]\n",
      "[     747.19      471.14      928.79      616.61          13]\n",
      "[     390.76      451.21      541.16      580.71          12]\n",
      "[     513.51      246.54      604.11      314.28          22]\n",
      "[     655.93      247.62      757.28      341.91          21]\n",
      "[     662.81      314.69      770.83      406.28          20]\n",
      "[     748.91       476.2      934.09      623.04          13]\n",
      "[     388.63      453.96      540.68      585.29          12]\n"
     ]
    }
   ],
   "source": [
    "cap = cv2.VideoCapture(r\"C:\\Users\\Dell\\Downloads\\Analysis\\project9-Object_detection\\vid.mp4\") # path\n",
    "model = YOLO(r'C:\\Users\\Dell\\Downloads\\Analysis\\project9-Object_detection\\yolov8n.pt')\n",
    "mask = cv2.imread('yy.png')\n",
    "# resize mask -\n",
    "mask = cv2.resize(mask, (int(cap.get(3)), int(cap.get(4))))\n",
    "tracker = Sort(max_age=20,min_hits=3,iou_threshold=0.3)\n",
    "limits = [450,480,850,480]\n",
    "totalCount = []\n",
    "while True:\n",
    "    success, img = cap.read()\n",
    "    imgRegion = cv2.bitwise_and(img, mask)\n",
    "    results = model(imgRegion, stream=True)\n",
    " \n",
    "    detections = np.empty((0, 5))\n",
    " \n",
    "    for r in results:\n",
    "        boxes = r.boxes\n",
    "        for box in boxes:\n",
    "            # Bounding Box\n",
    "            x1, y1, x2, y2 = box.xyxy[0]\n",
    "            x1, y1, x2, y2 = int(x1), int(y1), int(x2), int(y2)\n",
    "            # cv2.rectangle(img,(x1,y1),(x2,y2),(255,0,255),3)\n",
    "            w, h = x2 - x1, y2 - y1\n",
    " \n",
    "            # Confidence\n",
    "            conf = math.ceil((box.conf[0] * 100)) / 100\n",
    "            # Class Name\n",
    "            cls = int(box.cls[0])\n",
    "            currentClass = classNames[cls]\n",
    " \n",
    "            if currentClass == \"car\" or currentClass == \"truck\" or currentClass == \"bus\" \\\n",
    "                    or currentClass == \"motorbike\" and conf > 0.3:\n",
    "                # cvzone.putTextRect(img, f'{currentClass} {conf}', (max(0, x1), max(35, y1)),\n",
    "                #                    scale=0.6, thickness=1, offset=3)\n",
    "                # cvzone.cornerRect(img, (x1, y1, w, h), l=9, rt=5)\n",
    "                currentArray = np.array([x1, y1, x2, y2, conf])\n",
    "                detections = np.vstack((detections, currentArray))\n",
    " \n",
    "    resultsTracker = tracker.update(detections)\n",
    " \n",
    "    cv2.line(img, (limits[0], limits[1]), (limits[2], limits[3]), (0, 0, 255), 5)\n",
    "    for result in resultsTracker:\n",
    "        x1, y1, x2, y2, id = result\n",
    "        x1, y1, x2, y2 = int(x1), int(y1), int(x2), int(y2)\n",
    "        print(result)\n",
    "        w, h = x2 - x1, y2 - y1\n",
    "        cvzone.cornerRect(img, (x1, y1, w, h), l=9, rt=2, colorR=(255, 0, 255))\n",
    "        cvzone.putTextRect(img, f' {int(id)}', (max(0, x1), max(35, y1)),\n",
    "                           scale=2, thickness=3, offset=10)\n",
    "        # circle denoting centre point , when these touch the line then only count\n",
    "        cx, cy = x1 + w // 2, y1 + h // 2\n",
    "        cv2.circle(img, (cx, cy), 5, (255, 0, 255), cv2.FILLED)\n",
    "        # if point detected in this region , count\n",
    "        if limits[0] < cx < limits[2] and limits[1] - 15 < cy < limits[1] + 15:\n",
    "            if totalCount.count(id) == 0:\n",
    "                totalCount.append(id)\n",
    "                cv2.line(img, (limits[0], limits[1]), (limits[2], limits[3]), (0, 255, 0), 5)\n",
    " \n",
    "    # cvzone.putTextRect(img, f' Count: {len(totalCount)}', (50, 50))\n",
    "    cv2.putText(img,f'count : {str(len(totalCount))}',(255,100),cv2.FONT_HERSHEY_PLAIN,4,(50,50,255),8)\n",
    " \n",
    "    cv2.imshow(\"Image\", img)\n",
    "    # cv2.imshow(\"ImageRegion\", imgRegion)\n",
    "    key = cv2.waitKey(1) & 0xFF\n",
    "    if key != 255:  # Check if any key is pressed (not equal to 255)\n",
    "        break\n",
    "\n",
    "# Release the camera and close all OpenCV windows\n",
    "cap.release()\n",
    "cv2.destroyAllWindows()"
   ]
  },
  {
   "cell_type": "code",
   "execution_count": null,
   "id": "9f60873d",
   "metadata": {},
   "outputs": [],
   "source": []
  },
  {
   "cell_type": "code",
   "execution_count": 6,
   "id": "f0c4a764",
   "metadata": {},
   "outputs": [
    {
     "name": "stderr",
     "output_type": "stream",
     "text": [
      "\n",
      "0: 384x640 6 cars, 1 truck, 236.4ms\n",
      "Speed: 5.9ms preprocess, 236.4ms inference, 0.0ms postprocess per image at shape (1, 3, 384, 640)\n",
      "\n"
     ]
    },
    {
     "name": "stdout",
     "output_type": "stream",
     "text": [
      "[        339         251         371         287          76]\n",
      "[        330         290         360         310          75]\n",
      "[        377         280         402         301          74]\n",
      "[        306         277         332         294          73]\n",
      "[        267         299         294         319          72]\n",
      "[        356         300         390         329          71]\n",
      "[        284         323         322         355          70]\n"
     ]
    },
    {
     "name": "stderr",
     "output_type": "stream",
     "text": [
      "0: 384x640 7 cars, 1 truck, 300.7ms\n",
      "Speed: 29.4ms preprocess, 300.7ms inference, 4.2ms postprocess per image at shape (1, 3, 384, 640)\n",
      "\n"
     ]
    },
    {
     "name": "stdout",
     "output_type": "stream",
     "text": [
      "[        376         279         404         307          77]\n",
      "[     336.04      249.96      370.96      289.04          76]\n",
      "[     330.18      289.89      362.82      311.11          75]\n",
      "[     377.74      280.23      402.26      301.77          74]\n",
      "[     306.12      276.92      332.88      294.08          73]\n",
      "[     266.84      299.12      294.16      319.88          72]\n",
      "[      356.4      301.68       390.6      329.32          71]\n",
      "[     281.86      323.12      320.14      355.88          70]\n"
     ]
    },
    {
     "name": "stderr",
     "output_type": "stream",
     "text": [
      "0: 384x640 7 cars, 1 truck, 270.9ms\n",
      "Speed: 7.2ms preprocess, 270.9ms inference, 3.7ms postprocess per image at shape (1, 3, 384, 640)\n",
      "\n"
     ]
    },
    {
     "name": "stdout",
     "output_type": "stream",
     "text": [
      "[        304         281         334         298          78]\n",
      "[     333.54      250.27      369.52      291.61          76]\n",
      "[     324.64      294.64      353.48      313.95          75]\n",
      "[     376.57      281.55       401.6      302.39          74]\n",
      "[     304.02      274.73      337.86      297.21          73]\n",
      "[     260.13      303.08      288.64      325.39          72]\n",
      "[     354.29      306.71      388.06      333.82          71]\n",
      "[     274.15      328.08      314.44      363.22          70]\n"
     ]
    },
    {
     "name": "stderr",
     "output_type": "stream",
     "text": [
      "0: 384x640 6 cars, 1 truck, 182.2ms\n",
      "Speed: 6.0ms preprocess, 182.2ms inference, 3.4ms postprocess per image at shape (1, 3, 384, 640)\n",
      "\n"
     ]
    },
    {
     "name": "stdout",
     "output_type": "stream",
     "text": [
      "[     332.87      251.77       372.1      296.53          76]\n",
      "[     320.77      300.06      351.25      320.86          75]\n",
      "[     251.83      306.89      282.91      330.86          72]\n",
      "[     352.17       314.3       385.1      340.57          71]\n",
      "[     265.98      334.17      308.47      371.98          70]\n"
     ]
    },
    {
     "name": "stderr",
     "output_type": "stream",
     "text": [
      "0: 384x640 6 cars, 1 truck, 169.4ms\n",
      "Speed: 5.1ms preprocess, 169.4ms inference, 18.0ms postprocess per image at shape (1, 3, 384, 640)\n",
      "\n",
      "0: 384x640 5 cars, 1 truck, 146.0ms\n"
     ]
    },
    {
     "name": "stdout",
     "output_type": "stream",
     "text": [
      "[     329.53         252      370.59      298.62          76]\n",
      "[     315.49      304.88      346.78      325.98          75]\n",
      "[     245.39      311.83      276.77      336.59          72]\n",
      "[     349.17      319.17      383.81      347.65          71]\n",
      "[     256.75       340.9      302.81      381.94          70]\n"
     ]
    },
    {
     "name": "stderr",
     "output_type": "stream",
     "text": [
      "Speed: 8.6ms preprocess, 146.0ms inference, 0.0ms postprocess per image at shape (1, 3, 384, 640)\n",
      "\n",
      "0: 384x640 5 cars, 1 truck, 169.7ms\n"
     ]
    },
    {
     "name": "stdout",
     "output_type": "stream",
     "text": [
      "[     289.65      285.53      327.08      306.32          78]\n",
      "[     329.59      249.95      377.24      300.44          76]\n",
      "[     310.72      308.83      343.06      331.29          75]\n",
      "[     236.73      316.03      269.55      341.91          72]\n",
      "[     345.05      325.15      381.64      355.16          71]\n",
      "[     246.76      348.57      295.52       392.1          70]\n"
     ]
    },
    {
     "name": "stderr",
     "output_type": "stream",
     "text": [
      "Speed: 5.3ms preprocess, 169.7ms inference, 0.0ms postprocess per image at shape (1, 3, 384, 640)\n",
      "\n",
      "0: 384x640 6 cars, 1 bus, 1 truck, 144.9ms\n",
      "Speed: 9.3ms preprocess, 144.9ms inference, 0.0ms postprocess per image at shape (1, 3, 384, 640)\n",
      "\n"
     ]
    },
    {
     "name": "stdout",
     "output_type": "stream",
     "text": [
      "[     323.93      250.24      378.08      304.91          76]\n",
      "[     304.29      313.63      337.81      337.69          75]\n",
      "[      227.7      321.52      261.75      348.43          72]\n",
      "[     341.95      330.36      380.71      363.17          71]\n",
      "[     236.57      357.41      287.76      403.52          70]\n",
      "[     321.18      249.77      381.24      308.31          76]\n",
      "[     297.66      318.98      332.42      344.17          75]\n",
      "[     218.05       327.4      253.59      355.36          72]\n",
      "[     337.32      337.66      378.58      372.48          71]\n",
      "[     225.68      364.72      278.43      408.84          70]\n"
     ]
    },
    {
     "name": "stderr",
     "output_type": "stream",
     "text": [
      "0: 384x640 6 cars, 1 truck, 160.7ms\n",
      "Speed: 4.0ms preprocess, 160.7ms inference, 15.7ms postprocess per image at shape (1, 3, 384, 640)\n",
      "\n",
      "0: 384x640 5 cars, 1 truck, 156.0ms\n",
      "Speed: 5.9ms preprocess, 156.0ms inference, 0.0ms postprocess per image at shape (1, 3, 384, 640)\n",
      "\n"
     ]
    },
    {
     "name": "stdout",
     "output_type": "stream",
     "text": [
      "[     315.29      250.98      375.65      310.76          76]\n",
      "[     290.79      324.25      327.18      350.93          75]\n",
      "[     207.05      333.82      243.75      363.38          72]\n",
      "[      332.6      345.79       375.6      382.78          71]\n",
      "[     216.93         374      268.96      411.61          70]\n",
      "[     352.29      320.29      388.47      346.38          80]\n",
      "[     267.59      299.22      302.27      319.41          78]\n",
      "[     282.78      329.34      321.02      358.61          75]\n",
      "[     194.46      340.81      233.78      372.73          72]\n",
      "[     326.62      355.35      372.21      394.97          71]\n"
     ]
    },
    {
     "name": "stderr",
     "output_type": "stream",
     "text": [
      "0: 384x640 6 cars, 1 truck, 151.8ms\n",
      "Speed: 7.7ms preprocess, 151.8ms inference, 0.0ms postprocess per image at shape (1, 3, 384, 640)\n",
      "\n",
      "0: 384x640 6 cars, 1 truck, 154.6ms\n"
     ]
    },
    {
     "name": "stdout",
     "output_type": "stream",
     "text": [
      "[      348.3      325.51      385.79       353.2          80]\n",
      "[     262.27      302.21      295.61      323.38          78]\n",
      "[     274.16      336.11       314.1      367.53          75]\n",
      "[      180.7      349.21      222.39      383.34          72]\n",
      "[     320.15      365.87      368.74      408.02          71]\n"
     ]
    },
    {
     "name": "stderr",
     "output_type": "stream",
     "text": [
      "Speed: 5.3ms preprocess, 154.6ms inference, 0.0ms postprocess per image at shape (1, 3, 384, 640)\n",
      "\n",
      "0: 384x640 6 cars, 1 truck, 131.8ms\n",
      "Speed: 2.7ms preprocess, 131.8ms inference, 0.0ms postprocess per image at shape (1, 3, 384, 640)\n",
      "\n"
     ]
    },
    {
     "name": "stdout",
     "output_type": "stream",
     "text": [
      "[     345.03      331.35      384.21      360.89          80]\n",
      "[     256.39      306.29      289.43      328.36          78]\n",
      "[     265.52      344.71      307.38      377.69          75]\n",
      "[     303.29      261.59      359.06      320.28          73]\n",
      "[     165.85       358.3       209.2      393.52          72]\n",
      "[     313.02       376.7       364.4      418.03          71]\n",
      "[     341.33      338.62       382.2      369.72          80]\n",
      "[      362.1      312.68      392.92      336.32          79]\n",
      "[     249.87      309.87      283.18      333.25          78]\n",
      "[     256.53      353.97      300.44      388.95          75]\n",
      "[      298.9      261.44      357.93      326.23          73]\n"
     ]
    },
    {
     "name": "stderr",
     "output_type": "stream",
     "text": [
      "0: 384x640 5 cars, 1 truck, 146.4ms\n",
      "Speed: 3.5ms preprocess, 146.4ms inference, 0.0ms postprocess per image at shape (1, 3, 384, 640)\n",
      "\n",
      "0: 384x640 6 cars, 1 truck, 120.9ms\n",
      "Speed: 3.2ms preprocess, 120.9ms inference, 0.0ms postprocess per image at shape (1, 3, 384, 640)\n",
      "\n"
     ]
    },
    {
     "name": "stdout",
     "output_type": "stream",
     "text": [
      "[      336.1      345.69      378.68      378.17          80]\n",
      "[     359.75      317.35      391.96      342.26          79]\n",
      "[     242.41      314.53       276.3      339.49          78]\n",
      "[     244.54      363.64      291.68      401.73          75]\n",
      "[     291.14      267.58      350.31      334.14          73]\n",
      "[     330.34      354.01      373.97      388.55          80]\n",
      "[     357.21      322.41      389.95      348.35          79]\n",
      "[     234.46      319.38      268.68      345.74          78]\n",
      "[     234.56       373.1      283.09       408.8          75]\n",
      "[     287.56      266.79      347.42      337.49          73]\n"
     ]
    },
    {
     "name": "stderr",
     "output_type": "stream",
     "text": [
      "0: 384x640 5 cars, 1 truck, 138.7ms\n",
      "Speed: 5.4ms preprocess, 138.7ms inference, 0.0ms postprocess per image at shape (1, 3, 384, 640)\n",
      "\n",
      "0: 384x640 7 cars, 1 truck, 124.4ms\n",
      "Speed: 5.0ms preprocess, 124.4ms inference, 0.0ms postprocess per image at shape (1, 3, 384, 640)\n",
      "\n"
     ]
    },
    {
     "name": "stdout",
     "output_type": "stream",
     "text": [
      "[      254.7      306.19      285.93      331.26          82]\n",
      "[     324.82      363.46      370.48      400.26          80]\n",
      "[     353.73      328.04      387.78      356.04          79]\n",
      "[     225.76      325.36      261.37      352.92          78]\n",
      "[     283.64      267.76      345.64      343.96          73]\n",
      "[     248.02      309.73      280.23      335.38          82]\n",
      "[     318.78      374.07      366.07         413          80]\n",
      "[     350.08      334.14      385.41       363.3          79]\n",
      "[     215.95      330.64      253.05      360.23          78]\n",
      "[     359.01      298.38      391.01      323.35          74]\n",
      "[     277.52      269.09      342.42      350.59          73]\n"
     ]
    },
    {
     "name": "stderr",
     "output_type": "stream",
     "text": [
      "0: 384x640 6 cars, 2 trucks, 167.6ms\n",
      "Speed: 2.4ms preprocess, 167.6ms inference, 0.0ms postprocess per image at shape (1, 3, 384, 640)\n",
      "\n",
      "0: 384x640 5 cars, 2 trucks, 144.8ms\n",
      "Speed: 4.1ms preprocess, 144.8ms inference, 0.0ms postprocess per image at shape (1, 3, 384, 640)\n",
      "\n"
     ]
    },
    {
     "name": "stdout",
     "output_type": "stream",
     "text": [
      "[     241.06      313.96      275.05      341.28          82]\n",
      "[     310.23      383.67      359.65      420.14          80]\n",
      "[     345.69      341.89         383       372.9          79]\n",
      "[     205.23      337.41      243.54      368.44          78]\n",
      "[     356.84       302.7      389.75      328.24          74]\n",
      "[     269.91      272.89      337.38      359.53          73]\n",
      "[     232.65      318.55      267.85      346.81          82]\n",
      "[     340.85      349.81      380.11      382.42          79]\n",
      "[     193.39       345.6      233.74      378.07          78]\n",
      "[     354.08      307.16      388.01      333.71          74]\n",
      "[     262.68      275.48      334.01      367.51          73]\n"
     ]
    },
    {
     "name": "stderr",
     "output_type": "stream",
     "text": [
      "0: 384x640 4 cars, 2 trucks, 155.5ms\n",
      "Speed: 3.7ms preprocess, 155.5ms inference, 2.2ms postprocess per image at shape (1, 3, 384, 640)\n",
      "\n",
      "0: 384x640 5 cars, 2 trucks, 129.5ms\n",
      "Speed: 4.5ms preprocess, 129.5ms inference, 0.0ms postprocess per image at shape (1, 3, 384, 640)\n",
      "\n"
     ]
    },
    {
     "name": "stdout",
     "output_type": "stream",
     "text": [
      "[     223.29      324.28      260.46      353.98          82]\n",
      "[     320.28      255.34      360.96      310.45          81]\n",
      "[     335.71      358.53      377.19      393.79          79]\n",
      "[     180.32      354.52      223.36      388.69          78]\n",
      "[     352.75      312.76      387.07      340.25          74]\n",
      "[     253.46      286.35       326.9      380.14          73]\n",
      "[     214.15      329.67      251.81      360.36          82]\n",
      "[     317.54      256.16      361.99      314.85          81]\n",
      "[     328.73      368.95      372.71      407.04          79]\n",
      "[     165.33       362.2      210.96      396.55          78]\n",
      "[     349.93      318.26      385.19      347.05          74]\n",
      "[     244.61      285.07      323.17       387.5          73]\n"
     ]
    },
    {
     "name": "stderr",
     "output_type": "stream",
     "text": [
      "0: 384x640 4 cars, 1 bus, 1 truck, 153.0ms\n",
      "Speed: 3.4ms preprocess, 153.0ms inference, 1.0ms postprocess per image at shape (1, 3, 384, 640)\n",
      "\n",
      "0: 384x640 4 cars, 1 bus, 1 truck, 137.6ms\n",
      "Speed: 2.5ms preprocess, 137.6ms inference, 0.0ms postprocess per image at shape (1, 3, 384, 640)\n",
      "\n"
     ]
    },
    {
     "name": "stdout",
     "output_type": "stream",
     "text": [
      "[     203.09      336.19      241.38      367.88          82]\n",
      "[     322.42      378.93      368.29      416.73          79]\n",
      "[     347.65      323.96      383.81      353.68          74]\n",
      "[     235.76      287.34      319.59      397.76          73]\n",
      "[     191.97      343.29      231.05      376.31          82]\n",
      "[     344.85      330.33      382.04      361.59          74]\n",
      "[     228.09      290.25      315.56      405.25          73]\n"
     ]
    },
    {
     "name": "stderr",
     "output_type": "stream",
     "text": [
      "0: 384x640 6 cars, 1 bus, 1 truck, 145.6ms\n",
      "Speed: 3.8ms preprocess, 145.6ms inference, 15.6ms postprocess per image at shape (1, 3, 384, 640)\n",
      "\n",
      "0: 384x640 3 cars, 1 bus, 1 truck, 141.0ms\n",
      "Speed: 3.6ms preprocess, 141.0ms inference, 0.0ms postprocess per image at shape (1, 3, 384, 640)\n",
      "\n"
     ]
    },
    {
     "name": "stdout",
     "output_type": "stream",
     "text": [
      "[      357.3      315.61      387.63      341.35          85]\n",
      "[     179.64      351.35      219.99      386.27          82]\n",
      "[     340.63      336.59      380.05      369.68          74]\n",
      "[     199.01      294.67      297.43      410.11          86]\n",
      "[     354.75      322.32      385.16      347.99          85]\n",
      "[     335.98      343.45      377.88      378.47          74]\n"
     ]
    },
    {
     "name": "stderr",
     "output_type": "stream",
     "text": [
      "0: 384x640 4 cars, 1 bus, 1 truck, 143.7ms\n",
      "Speed: 1.0ms preprocess, 143.7ms inference, 0.0ms postprocess per image at shape (1, 3, 384, 640)\n",
      "\n",
      "0: 384x640 6 cars, 1 bus, 2 trucks, 130.3ms\n",
      "Speed: 3.5ms preprocess, 130.3ms inference, 0.0ms postprocess per image at shape (1, 3, 384, 640)\n",
      "\n"
     ]
    },
    {
     "name": "stdout",
     "output_type": "stream",
     "text": [
      "[      183.7      299.48      288.51      409.71          86]\n",
      "[      350.7      327.51      383.48      355.26          85]\n",
      "[     289.83      269.47      339.74      339.95          81]\n",
      "[     330.91      352.03      375.23      389.29          74]\n",
      "[     361.63      308.64       392.7      333.62          89]\n",
      "[     169.29       306.6      279.42       411.1          86]\n",
      "[     346.75      333.68      381.48      362.67          85]\n",
      "[      283.6      272.56      335.61      347.36          81]\n",
      "[     325.86      361.06      371.61      400.39          74]\n"
     ]
    },
    {
     "name": "stderr",
     "output_type": "stream",
     "text": [
      "0: 384x640 5 cars, 1 bus, 2 trucks, 139.9ms\n",
      "Speed: 3.1ms preprocess, 139.9ms inference, 0.0ms postprocess per image at shape (1, 3, 384, 640)\n",
      "\n",
      "0: 384x640 3 cars, 1 truck, 134.6ms\n",
      "Speed: 3.5ms preprocess, 134.6ms inference, 0.0ms postprocess per image at shape (1, 3, 384, 640)\n",
      "\n"
     ]
    },
    {
     "name": "stdout",
     "output_type": "stream",
     "text": [
      "[     357.43       312.3      391.64      339.76          89]\n",
      "[     150.44      313.61       267.9      409.55          86]\n",
      "[     343.03      340.15      379.19      370.85          85]\n",
      "[     275.94      276.51      331.03      356.42          81]\n",
      "[     319.33      370.93      367.13      411.54          74]\n",
      "[     355.07      316.68      389.66      344.59          89]\n",
      "[     337.46      347.66      375.99      380.38          85]\n",
      "[     266.95      279.36      325.78      364.86          81]\n",
      "[     311.17       380.2      362.14      419.05          74]\n"
     ]
    },
    {
     "name": "stderr",
     "output_type": "stream",
     "text": [
      "0: 384x640 5 cars, 2 trucks, 137.6ms\n",
      "Speed: 4.3ms preprocess, 137.6ms inference, 0.0ms postprocess per image at shape (1, 3, 384, 640)\n",
      "\n",
      "0: 384x640 6 cars, 2 trucks, 154.8ms\n",
      "Speed: 2.7ms preprocess, 154.8ms inference, 0.0ms postprocess per image at shape (1, 3, 384, 640)\n",
      "\n"
     ]
    },
    {
     "name": "stdout",
     "output_type": "stream",
     "text": [
      "[      352.8      322.32       389.3      351.54          89]\n",
      "[     331.99      355.43      373.08      391.16          85]\n",
      "[      256.8      283.19      320.94      374.28          81]\n",
      "[      349.7      327.55      388.22      359.31          89]\n",
      "[     326.76      363.97       370.1      402.35          85]\n",
      "[     245.92      287.99       316.6      385.41          81]\n"
     ]
    },
    {
     "name": "stderr",
     "output_type": "stream",
     "text": [
      "0: 384x640 6 cars, 1 truck, 154.3ms\n",
      "Speed: 4.1ms preprocess, 154.3ms inference, 0.0ms postprocess per image at shape (1, 3, 384, 640)\n",
      "\n",
      "0: 384x640 7 cars, 1 truck, 151.2ms\n",
      "Speed: 2.4ms preprocess, 151.2ms inference, 0.0ms postprocess per image at shape (1, 3, 384, 640)\n",
      "\n"
     ]
    },
    {
     "name": "stdout",
     "output_type": "stream",
     "text": [
      "[     346.55       334.9      385.94      367.82          89]\n",
      "[     372.12      270.12      401.04      302.02          87]\n",
      "[     319.88      374.44       365.5      414.67          85]\n",
      "[     236.28      292.37       311.6      395.33          81]\n",
      "[     203.75      323.33      227.22       361.6          92]\n",
      "[     343.66      342.23      384.33      376.64          89]\n",
      "[     312.29      384.04      361.09      420.97          85]\n",
      "[     225.29      295.45      304.26      400.66          81]\n"
     ]
    },
    {
     "name": "stderr",
     "output_type": "stream",
     "text": [
      "0: 384x640 5 cars, 2 trucks, 132.1ms\n",
      "Speed: 5.2ms preprocess, 132.1ms inference, 0.0ms postprocess per image at shape (1, 3, 384, 640)\n",
      "\n",
      "0: 384x640 1 car, 1 truck, 175.5ms\n"
     ]
    },
    {
     "name": "stdout",
     "output_type": "stream",
     "text": [
      "[     341.98      273.23      364.08      295.92          94]\n",
      "[     192.16       331.5      213.83      369.84          92]\n",
      "[     339.43      350.36       381.7      386.76          89]\n",
      "[     212.82      299.68      296.37      405.87          81]\n"
     ]
    },
    {
     "name": "stderr",
     "output_type": "stream",
     "text": [
      "Speed: 1.7ms preprocess, 175.5ms inference, 0.0ms postprocess per image at shape (1, 3, 384, 640)\n",
      "\n",
      "0: 384x640 4 cars, 1 bus, 2 trucks, 148.8ms\n",
      "Speed: 3.8ms preprocess, 148.8ms inference, 15.6ms postprocess per image at shape (1, 3, 384, 640)\n"
     ]
    },
    {
     "name": "stdout",
     "output_type": "stream",
     "text": [
      "[     334.23      359.81      378.53      398.29          89]\n",
      "[     197.07      304.25      289.07      409.82          81]\n"
     ]
    },
    {
     "name": "stderr",
     "output_type": "stream",
     "text": [
      "\n",
      "0: 384x640 4 cars, 2 trucks, 140.8ms\n",
      "Speed: 3.2ms preprocess, 140.8ms inference, 0.0ms postprocess per image at shape (1, 3, 384, 640)\n",
      "\n"
     ]
    },
    {
     "name": "stdout",
     "output_type": "stream",
     "text": [
      "[     328.73         370      374.44      410.71          89]\n",
      "[     179.17      308.19      279.01       410.8          81]\n",
      "[     323.13       379.5      370.02      418.43          89]\n"
     ]
    },
    {
     "name": "stderr",
     "output_type": "stream",
     "text": [
      "0: 384x640 4 cars, 1 bus, 1 truck, 134.7ms\n",
      "Speed: 3.0ms preprocess, 134.7ms inference, 0.0ms postprocess per image at shape (1, 3, 384, 640)\n",
      "\n",
      "0: 384x640 7 cars, 1 truck, 122.3ms\n",
      "Speed: 3.3ms preprocess, 122.3ms inference, 0.0ms postprocess per image at shape (1, 3, 384, 640)\n",
      "\n"
     ]
    },
    {
     "name": "stdout",
     "output_type": "stream",
     "text": [
      "[     250.46      261.87      303.26      322.48          97]\n",
      "[     328.89      285.54      353.99      309.41          94]\n",
      "[     323.82      257.98      351.79       277.3          91]\n",
      "[     360.59      284.47      393.55      322.28          87]\n",
      "[     244.48      264.74      296.41       325.5          97]\n",
      "[     325.64      288.81      352.18       313.6          94]\n",
      "[     320.04      260.38       348.7      280.17          91]\n",
      "[     357.32       287.3      391.78      326.77          87]\n"
     ]
    },
    {
     "name": "stderr",
     "output_type": "stream",
     "text": [
      "0: 384x640 6 cars, 1 truck, 139.6ms\n",
      "Speed: 3.7ms preprocess, 139.6ms inference, 0.0ms postprocess per image at shape (1, 3, 384, 640)\n",
      "\n"
     ]
    },
    {
     "name": "stdout",
     "output_type": "stream",
     "text": [
      "[     236.43      267.76       288.6       330.6          97]\n",
      "[     321.44      292.19      348.66      318.09          94]\n",
      "[     355.08      290.88      390.25      331.67          87]\n"
     ]
    },
    {
     "name": "stderr",
     "output_type": "stream",
     "text": [
      "0: 384x640 7 cars, 1 truck, 183.6ms\n",
      "Speed: 2.0ms preprocess, 183.6ms inference, 4.0ms postprocess per image at shape (1, 3, 384, 640)\n",
      "\n",
      "0: 384x640 7 cars, 1 truck, 137.4ms\n",
      "Speed: 3.0ms preprocess, 137.4ms inference, 0.0ms postprocess per image at shape (1, 3, 384, 640)\n",
      "\n"
     ]
    },
    {
     "name": "stdout",
     "output_type": "stream",
     "text": [
      "[     228.14      271.08      282.22      337.53          97]\n",
      "[     316.17      296.12      344.58      323.52          94]\n",
      "[     352.97      294.15      389.06      337.32          87]\n",
      "[     197.38      346.25      236.19      375.66         102]\n",
      "[     391.41      252.24      413.48      275.55         101]\n",
      "[     311.91      270.61      335.64      286.68         100]\n",
      "[     219.74      274.25         275      343.88          97]\n",
      "[     311.46      299.61      340.71      328.59          94]\n",
      "[     350.33      298.33       387.3      343.52          87]\n"
     ]
    },
    {
     "name": "stderr",
     "output_type": "stream",
     "text": [
      "0: 384x640 4 cars, 1 bus, 1 truck, 149.3ms\n",
      "Speed: 4.4ms preprocess, 149.3ms inference, 1.0ms postprocess per image at shape (1, 3, 384, 640)\n",
      "\n",
      "0: 384x640 6 cars, 1 truck, 140.8ms\n",
      "Speed: 3.8ms preprocess, 140.8ms inference, 0.0ms postprocess per image at shape (1, 3, 384, 640)\n",
      "\n"
     ]
    },
    {
     "name": "stdout",
     "output_type": "stream",
     "text": [
      "[      261.6      301.67       288.4      329.03         103]\n",
      "[     185.49      354.29      226.11      385.34         102]\n",
      "[     210.59      277.66       268.2      351.77          97]\n",
      "[      304.8      304.49      335.76      335.95          94]\n",
      "[     346.96      302.61      385.18      350.16          87]\n",
      "[     254.36         305      282.86      333.91         103]\n",
      "[     171.09      363.28      213.99      395.07         102]\n",
      "[     200.84      280.43      260.53      358.21          97]\n",
      "[     298.48      309.58       330.7      342.46          94]\n",
      "[     343.75      307.55      383.15      357.64          87]\n"
     ]
    },
    {
     "name": "stderr",
     "output_type": "stream",
     "text": [
      "0: 384x640 8 cars, 2 trucks, 166.2ms\n",
      "Speed: 4.0ms preprocess, 166.2ms inference, 15.7ms postprocess per image at shape (1, 3, 384, 640)\n",
      "\n",
      "0: 384x640 8 cars, 2 trucks, 136.6ms\n",
      "Speed: 3.7ms preprocess, 136.6ms inference, 0.0ms postprocess per image at shape (1, 3, 384, 640)\n",
      "\n"
     ]
    },
    {
     "name": "stdout",
     "output_type": "stream",
     "text": [
      "[     245.82      309.62       276.2      340.31         103]\n",
      "[     189.32       284.8      252.12      366.96          97]\n",
      "[     291.06      314.95      324.85      349.76          94]\n",
      "[     301.49      271.58      331.32      292.25          91]\n",
      "[     339.97      312.51      380.48      364.99          87]\n",
      "[     238.73      315.02      269.54      346.05         103]\n",
      "[     297.33      282.14       322.7      297.01         100]\n",
      "[      177.2      288.31      244.08      375.33          97]\n",
      "[     282.86      321.09       319.1      358.62          94]\n",
      "[     297.85       272.8      330.12      294.91          91]\n",
      "[     334.23      318.56      377.37      374.47          87]\n"
     ]
    },
    {
     "name": "stderr",
     "output_type": "stream",
     "text": [
      "0: 384x640 7 cars, 2 trucks, 151.5ms\n",
      "Speed: 3.3ms preprocess, 151.5ms inference, 0.0ms postprocess per image at shape (1, 3, 384, 640)\n",
      "\n",
      "0: 384x640 8 cars, 2 trucks, 175.9ms\n"
     ]
    },
    {
     "name": "stdout",
     "output_type": "stream",
     "text": [
      "[     230.45      319.88      262.47      352.34         103]\n",
      "[     293.12      283.46      320.68      299.97         100]\n",
      "[     163.35      292.51      234.39      382.53          97]\n",
      "[     273.67      328.14      311.48      367.45          94]\n",
      "[     293.85      273.51      328.53      297.51          91]\n",
      "[      328.3      325.91      374.18      385.16          87]\n"
     ]
    },
    {
     "name": "stderr",
     "output_type": "stream",
     "text": [
      "Speed: 4.6ms preprocess, 175.9ms inference, 0.0ms postprocess per image at shape (1, 3, 384, 640)\n",
      "\n",
      "0: 384x640 6 cars, 2 trucks, 143.1ms\n",
      "Speed: 3.7ms preprocess, 143.1ms inference, 0.0ms postprocess per image at shape (1, 3, 384, 640)\n",
      "\n"
     ]
    },
    {
     "name": "stdout",
     "output_type": "stream",
     "text": [
      "[     318.36      333.12      372.19      403.39         107]\n",
      "[     221.06      325.62      254.61      359.77         103]\n",
      "[     288.72      283.45      318.35      301.99         100]\n",
      "[     148.24      298.06      224.06      391.48          97]\n",
      "[     263.54       335.6      303.76      377.49          94]\n",
      "[     290.25      276.35      327.55      301.06          91]\n",
      "[     353.46      267.48      374.77      284.36          90]\n",
      "[     321.46      339.88      370.53      399.31          87]\n",
      "[     310.67      341.22      367.87      414.77         107]\n",
      "[     209.97      332.68      245.07      367.96         103]\n",
      "[     284.05      283.32       316.1      304.01         100]\n",
      "[     132.99      302.49      213.21      397.43          97]\n",
      "[     251.54      344.15      295.57      388.98          94]\n",
      "[     285.34      278.62         325      305.02          91]\n",
      "[     315.17      344.01      367.12      407.46          87]\n"
     ]
    },
    {
     "name": "stderr",
     "output_type": "stream",
     "text": [
      "0: 384x640 5 cars, 3 trucks, 167.2ms\n",
      "Speed: 3.5ms preprocess, 167.2ms inference, 1.9ms postprocess per image at shape (1, 3, 384, 640)\n",
      "\n",
      "0: 384x640 6 cars, 1 truck, 155.7ms\n",
      "Speed: 4.7ms preprocess, 155.7ms inference, 1.0ms postprocess per image at shape (1, 3, 384, 640)\n",
      "\n"
     ]
    },
    {
     "name": "stdout",
     "output_type": "stream",
     "text": [
      "[     304.41      348.16      363.53      421.03         107]\n",
      "[     197.32      340.14       233.9      377.12         103]\n",
      "[     114.83      307.38      199.79      399.38          97]\n",
      "[     239.18      353.75      285.57      401.01          94]\n",
      "[     280.47      279.81      321.31      304.75          91]\n",
      "[     308.49      350.37      363.12      415.19          87]\n",
      "[     271.54      357.69      314.33      392.96         109]\n",
      "[     182.46      347.59      222.48      387.42         103]\n",
      "[     275.48         283      319.97      309.64          91]\n",
      "[     301.11      356.82       358.8       419.6          87]\n"
     ]
    },
    {
     "name": "stderr",
     "output_type": "stream",
     "text": [
      "0: 384x640 8 cars, 153.9ms\n",
      "Speed: 1.7ms preprocess, 153.9ms inference, 15.6ms postprocess per image at shape (1, 3, 384, 640)\n",
      "\n",
      "0: 384x640 4 cars, 141.0ms\n",
      "Speed: 3.5ms preprocess, 141.0ms inference, 0.0ms postprocess per image at shape (1, 3, 384, 640)\n",
      "\n"
     ]
    },
    {
     "name": "stdout",
     "output_type": "stream",
     "text": [
      "[     258.92      368.75      303.85      406.58         109]\n",
      "[      267.7      286.46      311.14      313.69          91]\n",
      "[     247.21       377.9      293.16      412.24         109]\n",
      "[     260.68      297.05      293.25      320.16         100]\n",
      "[     341.17      276.95      365.59       294.7          90]\n"
     ]
    },
    {
     "name": "stderr",
     "output_type": "stream",
     "text": [
      "0: 384x640 5 cars, 152.9ms\n",
      "Speed: 3.2ms preprocess, 152.9ms inference, 0.0ms postprocess per image at shape (1, 3, 384, 640)\n",
      "\n",
      "0: 384x640 5 cars, 146.0ms\n",
      "Speed: 3.4ms preprocess, 146.0ms inference, 0.0ms postprocess per image at shape (1, 3, 384, 640)\n",
      "\n"
     ]
    },
    {
     "name": "stdout",
     "output_type": "stream",
     "text": [
      "[     254.38       299.4      287.45      324.17         100]\n",
      "[     338.74      279.11      364.16      298.78          90]\n",
      "[     293.04         284      317.76      300.41         114]\n",
      "[     247.22      303.15      281.14       329.2         100]\n",
      "[      336.4      283.24      361.83      302.83          90]\n"
     ]
    },
    {
     "name": "stderr",
     "output_type": "stream",
     "text": [
      "0: 384x640 5 cars, 159.7ms\n",
      "Speed: 3.7ms preprocess, 159.7ms inference, 0.0ms postprocess per image at shape (1, 3, 384, 640)\n",
      "\n",
      "0: 384x640 6 cars, 145.8ms\n",
      "Speed: 3.2ms preprocess, 145.8ms inference, 0.0ms postprocess per image at shape (1, 3, 384, 640)\n",
      "\n"
     ]
    },
    {
     "name": "stdout",
     "output_type": "stream",
     "text": [
      "[     288.15      284.54      314.87      303.68         114]\n",
      "[     376.23      274.22      404.14      305.16         101]\n",
      "[     239.86      307.66      274.53      335.69         100]\n",
      "[     333.56      284.49      359.06      304.59          90]\n",
      "[     283.77      286.57      310.57      307.05         114]\n",
      "[     374.53      276.49      403.05      307.78         101]\n",
      "[     230.67      312.76      266.95      342.41         100]\n",
      "[     260.23      299.72      292.55      323.52          91]\n",
      "[     331.22      285.48      356.74      305.94          90]\n"
     ]
    },
    {
     "name": "stderr",
     "output_type": "stream",
     "text": [
      "0: 384x640 5 cars, 137.4ms\n",
      "Speed: 4.0ms preprocess, 137.4ms inference, 0.0ms postprocess per image at shape (1, 3, 384, 640)\n",
      "\n",
      "0: 384x640 3 cars, 134.0ms\n",
      "Speed: 5.0ms preprocess, 134.0ms inference, 16.9ms postprocess per image at shape (1, 3, 384, 640)\n",
      "\n"
     ]
    },
    {
     "name": "stdout",
     "output_type": "stream",
     "text": [
      "[     371.36      279.15      401.94       312.1         101]\n",
      "[     220.69       317.5      258.48      349.14         100]\n",
      "[     254.59      303.75      286.39      327.43          91]\n",
      "[     327.95       286.2      353.75      306.65          90]\n",
      "[     210.05      322.74      249.39      355.86         100]\n",
      "[     248.53      308.03       279.7       331.9          91]\n"
     ]
    },
    {
     "name": "stderr",
     "output_type": "stream",
     "text": [
      "0: 384x640 6 cars, 161.5ms\n",
      "Speed: 3.4ms preprocess, 161.5ms inference, 0.0ms postprocess per image at shape (1, 3, 384, 640)\n",
      "\n",
      "0: 384x640 7 cars, 138.1ms\n",
      "Speed: 4.0ms preprocess, 138.1ms inference, 15.6ms postprocess per image at shape (1, 3, 384, 640)\n",
      "\n"
     ]
    },
    {
     "name": "stdout",
     "output_type": "stream",
     "text": [
      "[     241.11      312.97      272.71       337.3          91]\n",
      "[     263.86      299.75      295.41      322.01         114]\n",
      "[     232.15       318.3      264.68      343.56          91]\n"
     ]
    },
    {
     "name": "stderr",
     "output_type": "stream",
     "text": [
      "0: 384x640 6 cars, 140.3ms\n",
      "Speed: 3.1ms preprocess, 140.3ms inference, 0.0ms postprocess per image at shape (1, 3, 384, 640)\n",
      "\n",
      "0: 384x640 5 cars, 129.0ms\n",
      "Speed: 3.5ms preprocess, 129.0ms inference, 0.0ms postprocess per image at shape (1, 3, 384, 640)\n",
      "\n"
     ]
    },
    {
     "name": "stdout",
     "output_type": "stream",
     "text": [
      "[     257.16      302.39      289.75      326.86         114]\n",
      "[     223.24      324.45      256.96      350.11          91]\n",
      "[     313.22      299.99      342.03      323.23          90]\n",
      "[     359.76      311.25      393.59      339.01         116]\n",
      "[     250.44      306.37       284.2      332.78         114]\n",
      "[     213.86      330.63      248.57      357.68          91]\n",
      "[     309.28      302.66      339.04      327.17          90]\n"
     ]
    },
    {
     "name": "stderr",
     "output_type": "stream",
     "text": [
      "0: 384x640 6 cars, 157.9ms\n",
      "Speed: 3.5ms preprocess, 157.9ms inference, 0.0ms postprocess per image at shape (1, 3, 384, 640)\n",
      "\n",
      "0: 384x640 7 cars, 161.4ms\n"
     ]
    },
    {
     "name": "stdout",
     "output_type": "stream",
     "text": [
      "[     356.84      315.04      392.07      344.02         116]\n",
      "[      242.7       310.1      277.07      337.81         114]\n",
      "[     304.81      306.82      335.81      332.56          90]\n"
     ]
    },
    {
     "name": "stderr",
     "output_type": "stream",
     "text": [
      "Speed: 2.0ms preprocess, 161.4ms inference, 0.0ms postprocess per image at shape (1, 3, 384, 640)\n",
      "\n",
      "0: 384x640 7 cars, 165.9ms\n"
     ]
    },
    {
     "name": "stdout",
     "output_type": "stream",
     "text": [
      "[     354.34       319.2      390.47      349.54         116]\n",
      "[     233.98      314.59      269.97      343.65         114]\n",
      "[     300.35      310.47      332.28      337.61          90]\n"
     ]
    },
    {
     "name": "stderr",
     "output_type": "stream",
     "text": [
      "Speed: 2.8ms preprocess, 165.9ms inference, 0.0ms postprocess per image at shape (1, 3, 384, 640)\n",
      "\n",
      "0: 384x640 7 cars, 143.3ms\n",
      "Speed: 3.7ms preprocess, 143.3ms inference, 0.0ms postprocess per image at shape (1, 3, 384, 640)\n",
      "\n"
     ]
    },
    {
     "name": "stdout",
     "output_type": "stream",
     "text": [
      "[     351.71      324.59      389.09      356.23         116]\n",
      "[     343.16      252.44      375.93      282.31         115]\n",
      "[     224.91      320.57      262.24      350.54         114]\n",
      "[     360.24      296.35      392.08       321.1         101]\n",
      "[     295.07      314.11      328.16      342.32          90]\n",
      "[     348.49      329.61      386.94      363.37         116]\n",
      "[     214.52      326.37      253.51      357.89         114]\n",
      "[     358.31      300.28      390.34      324.61         101]\n",
      "[      290.5      318.87      324.76      348.39          90]\n"
     ]
    },
    {
     "name": "stderr",
     "output_type": "stream",
     "text": [
      "0: 384x640 6 cars, 160.0ms\n",
      "Speed: 1.0ms preprocess, 160.0ms inference, 15.6ms postprocess per image at shape (1, 3, 384, 640)\n",
      "\n",
      "0: 384x640 7 cars, 155.8ms\n",
      "Speed: 1.0ms preprocess, 155.8ms inference, 0.0ms postprocess per image at shape (1, 3, 384, 640)\n",
      "\n"
     ]
    },
    {
     "name": "stdout",
     "output_type": "stream",
     "text": [
      "[     344.47      336.96      384.43      372.28         116]\n",
      "[     356.47      305.04      388.91      329.08         101]\n",
      "[     284.47      324.44      320.12      355.23          90]\n",
      "[     300.12      278.71      321.06      293.31         119]\n",
      "[     339.42      343.68      381.87      381.22         116]\n",
      "[     354.43      309.62      387.18      333.76         101]\n",
      "[     277.84      329.68      315.06      361.68          90]\n"
     ]
    },
    {
     "name": "stderr",
     "output_type": "stream",
     "text": [
      "0: 384x640 8 cars, 147.3ms\n",
      "Speed: 3.6ms preprocess, 147.3ms inference, 0.0ms postprocess per image at shape (1, 3, 384, 640)\n",
      "\n",
      "0: 384x640 8 cars, 149.3ms\n",
      "Speed: 2.7ms preprocess, 149.3ms inference, 0.0ms postprocess per image at shape (1, 3, 384, 640)\n",
      "\n"
     ]
    },
    {
     "name": "stdout",
     "output_type": "stream",
     "text": [
      "[     370.92      275.36      398.93      297.59         120]\n",
      "[     295.58      281.52      318.55      297.88         119]\n",
      "[     334.28         352      379.03      391.65         116]\n",
      "[     351.06      314.39      385.28      339.54         101]\n",
      "[      270.9         336      309.93      370.01          90]\n",
      "[     291.75      283.07      315.35      300.56         119]\n",
      "[     328.77      361.13      375.11      403.03         116]\n",
      "[     348.72      318.96      383.76      345.34         101]\n",
      "[     262.51      343.11      304.17      378.67          90]\n"
     ]
    },
    {
     "name": "stderr",
     "output_type": "stream",
     "text": [
      "0: 384x640 6 cars, 1 bus, 158.6ms\n",
      "Speed: 1.0ms preprocess, 158.6ms inference, 8.0ms postprocess per image at shape (1, 3, 384, 640)\n",
      "\n",
      "0: 384x640 6 cars, 155.0ms\n",
      "Speed: 5.5ms preprocess, 155.0ms inference, 0.0ms postprocess per image at shape (1, 3, 384, 640)\n",
      "\n"
     ]
    },
    {
     "name": "stdout",
     "output_type": "stream",
     "text": [
      "[     364.47      281.17      396.51       312.5         121]\n",
      "[     322.41      370.99      371.52       414.3         116]\n",
      "[     345.74      324.57      382.11      351.32         101]\n",
      "[     254.88      351.06      298.18       388.2          90]\n",
      "[     303.86      269.69      330.18      291.58         122]\n",
      "[     362.56       285.6       394.6      317.45         121]\n",
      "[     314.86      380.18       366.3      421.11         116]\n",
      "[     343.05      329.91      380.52      358.03         101]\n",
      "[     244.88      360.23      290.87      399.74          90]\n"
     ]
    },
    {
     "name": "stderr",
     "output_type": "stream",
     "text": [
      "0: 384x640 6 cars, 145.2ms\n",
      "Speed: 1.0ms preprocess, 145.2ms inference, 0.0ms postprocess per image at shape (1, 3, 384, 640)\n",
      "\n",
      "0: 384x640 6 cars, 141.3ms\n",
      "Speed: 6.5ms preprocess, 141.3ms inference, 0.0ms postprocess per image at shape (1, 3, 384, 640)\n",
      "\n"
     ]
    },
    {
     "name": "stdout",
     "output_type": "stream",
     "text": [
      "[     299.24      273.19      328.01      298.16         122]\n",
      "[     359.24      287.86      392.46      321.47         121]\n",
      "[     339.89       336.6       378.9      365.49         101]\n",
      "[     234.52      367.33      282.54      406.72          90]\n",
      "[     293.68      274.43      323.63      300.68         122]\n",
      "[     334.88      343.36      375.68      373.67         101]\n",
      "[      225.2      375.73      275.28      410.49          90]\n"
     ]
    },
    {
     "name": "stderr",
     "output_type": "stream",
     "text": [
      "0: 384x640 5 cars, 146.3ms\n",
      "Speed: 8.6ms preprocess, 146.3ms inference, 0.0ms postprocess per image at shape (1, 3, 384, 640)\n",
      "\n",
      "0: 384x640 4 cars, 131.5ms\n",
      "Speed: 4.5ms preprocess, 131.5ms inference, 2.0ms postprocess per image at shape (1, 3, 384, 640)\n",
      "\n"
     ]
    },
    {
     "name": "stdout",
     "output_type": "stream",
     "text": [
      "[     289.83      277.31      320.19      303.85         122]\n",
      "[     354.71      307.07      385.32      330.09         120]\n",
      "[     269.76      297.62      296.92      315.13         119]\n",
      "[     330.29      351.16      372.69      383.04         101]\n",
      "[      284.6      280.27      315.54         307         122]\n",
      "[     352.72      312.11      383.87      335.98         120]\n",
      "[     263.98      300.96      293.03      320.57         119]\n",
      "[     326.03      359.68      370.28      393.82         101]\n"
     ]
    },
    {
     "name": "stderr",
     "output_type": "stream",
     "text": [
      "0: 384x640 5 cars, 143.1ms\n",
      "Speed: 3.6ms preprocess, 143.1ms inference, 16.7ms postprocess per image at shape (1, 3, 384, 640)\n",
      "\n",
      "0: 384x640 7 cars, 153.1ms\n",
      "Speed: 0.0ms preprocess, 153.1ms inference, 0.0ms postprocess per image at shape (1, 3, 384, 640)\n",
      "\n"
     ]
    },
    {
     "name": "stdout",
     "output_type": "stream",
     "text": [
      "[     279.22      282.25      312.22      310.44         122]\n",
      "[     350.23       317.5      381.92      341.64         120]\n",
      "[     257.24       304.8      287.82      326.42         119]\n",
      "[     319.72      369.05      366.36      405.19         101]\n",
      "[        274      285.26       308.5      313.95         122]\n",
      "[     347.12       323.4       380.2      348.15         120]\n",
      "[     250.48      308.91      282.44      331.67         119]\n",
      "[     314.01      379.05      362.47      415.13         101]\n"
     ]
    },
    {
     "name": "stderr",
     "output_type": "stream",
     "text": [
      "0: 384x640 5 cars, 150.1ms\n",
      "Speed: 3.7ms preprocess, 150.1ms inference, 0.0ms postprocess per image at shape (1, 3, 384, 640)\n",
      "\n",
      "0: 384x640 5 cars, 1 bus, 163.2ms\n"
     ]
    },
    {
     "name": "stdout",
     "output_type": "stream",
     "text": [
      "[     267.62      288.46      302.49      317.66         122]\n",
      "[      343.7      328.71         378      355.08         120]\n",
      "[     243.72       313.2      276.37      337.26         119]\n"
     ]
    },
    {
     "name": "stderr",
     "output_type": "stream",
     "text": [
      "Speed: 3.9ms preprocess, 163.2ms inference, 0.0ms postprocess per image at shape (1, 3, 384, 640)\n",
      "\n",
      "0: 384x640 7 cars, 160.5ms\n",
      "Speed: 1.5ms preprocess, 160.5ms inference, 0.0ms postprocess per image at shape (1, 3, 384, 640)\n"
     ]
    },
    {
     "name": "stdout",
     "output_type": "stream",
     "text": [
      "[     261.41      292.18      297.08      322.98         122]\n",
      "[     339.08      334.82      375.37      362.46         120]\n",
      "[     235.66      317.92      269.37      343.26         119]\n"
     ]
    },
    {
     "name": "stderr",
     "output_type": "stream",
     "text": [
      "\n"
     ]
    },
    {
     "name": "stdout",
     "output_type": "stream",
     "text": [
      "[     255.17      296.06      291.33      328.26         122]\n",
      "[      343.9      314.61      376.94      342.95         121]\n",
      "[      335.1      342.39      372.83      371.46         120]\n",
      "[     226.02      323.13      261.81      350.39         119]\n"
     ]
    },
    {
     "name": "stderr",
     "output_type": "stream",
     "text": [
      "0: 384x640 7 cars, 1 bus, 179.5ms\n",
      "Speed: 3.2ms preprocess, 179.5ms inference, 1.0ms postprocess per image at shape (1, 3, 384, 640)\n",
      "\n",
      "0: 384x640 9 cars, 1 bus, 145.1ms\n",
      "Speed: 4.0ms preprocess, 145.1ms inference, 0.0ms postprocess per image at shape (1, 3, 384, 640)\n",
      "\n"
     ]
    },
    {
     "name": "stdout",
     "output_type": "stream",
     "text": [
      "[     248.97      299.36      285.43       332.8         122]\n",
      "[     337.32      320.98      373.03      352.26         121]\n",
      "[     331.15      349.77      370.55      380.48         120]\n",
      "[     215.82      328.97      253.38      358.14         119]\n",
      "[     286.89      293.22      331.35      347.45         126]\n",
      "[     373.52      286.11      400.36      307.93         125]\n",
      "[     241.36      303.03      278.92      337.79         122]\n",
      "[     331.83      327.73      368.79      361.06         121]\n",
      "[     326.32      358.56      367.28      391.29         120]\n",
      "[     204.59      335.94      244.16      366.52         119]\n"
     ]
    },
    {
     "name": "stderr",
     "output_type": "stream",
     "text": [
      "0: 384x640 7 cars, 2 trucks, 122.9ms\n",
      "Speed: 4.1ms preprocess, 122.9ms inference, 17.9ms postprocess per image at shape (1, 3, 384, 640)\n",
      "\n",
      "0: 384x640 6 cars, 2 trucks, 136.4ms\n",
      "Speed: 4.0ms preprocess, 136.4ms inference, 15.6ms postprocess per image at shape (1, 3, 384, 640)\n",
      "\n"
     ]
    },
    {
     "name": "stdout",
     "output_type": "stream",
     "text": [
      "[     327.21      285.63      366.33      310.16         127]\n",
      "[     280.09      293.36      327.35      352.32         126]\n",
      "[     371.01      293.01      397.34      313.99         125]\n",
      "[     233.56      307.73      272.53      344.04         122]\n",
      "[     324.07       334.5      363.17      368.44         121]\n",
      "[     320.57      368.28      362.92      403.02         120]\n",
      "[     321.58       294.4      354.67      315.52         127]\n",
      "[     273.36      297.82      323.07      360.01         126]\n",
      "[     369.12      300.03      395.32      319.71         125]\n",
      "[     223.83      312.25      264.77      350.64         122]\n",
      "[     315.14      342.61      356.73      379.18         121]\n",
      "[     314.51      378.69      358.79      414.05         120]\n",
      "[     317.85      251.46      344.09      277.17         118]\n"
     ]
    },
    {
     "name": "stderr",
     "output_type": "stream",
     "text": [
      "0: 384x640 6 cars, 1 truck, 144.0ms\n",
      "Speed: 4.0ms preprocess, 144.0ms inference, 0.0ms postprocess per image at shape (1, 3, 384, 640)\n",
      "\n",
      "0: 384x640 4 cars, 1 truck, 137.7ms\n",
      "Speed: 3.5ms preprocess, 137.7ms inference, 0.0ms postprocess per image at shape (1, 3, 384, 640)\n",
      "\n"
     ]
    },
    {
     "name": "stdout",
     "output_type": "stream",
     "text": [
      "[     317.55      299.75      349.29      320.07         127]\n",
      "[     266.09      303.45      317.14         368         126]\n",
      "[     366.95      303.94      393.46      324.24         125]\n",
      "[     213.17      318.27      256.06      358.43         122]\n",
      "[     304.14      351.55      349.02      392.14         121]\n",
      "[     315.31      251.08      342.43      278.38         118]\n",
      "[     314.49         304      344.67      324.38         127]\n",
      "[     257.07       308.5      311.57      376.31         126]\n",
      "[     363.79      307.27      391.23      328.43         125]\n",
      "[     201.45      324.12      246.41      366.72         122]\n",
      "[      291.5      361.37      339.75      404.02         121]\n"
     ]
    },
    {
     "name": "stderr",
     "output_type": "stream",
     "text": [
      "0: 384x640 5 cars, 1 truck, 134.1ms\n",
      "Speed: 4.6ms preprocess, 134.1ms inference, 0.0ms postprocess per image at shape (1, 3, 384, 640)\n",
      "\n",
      "0: 384x640 5 cars, 1 truck, 156.5ms\n",
      "Speed: 3.0ms preprocess, 156.5ms inference, 0.0ms postprocess per image at shape (1, 3, 384, 640)\n",
      "\n"
     ]
    },
    {
     "name": "stdout",
     "output_type": "stream",
     "text": [
      "[     311.46      308.85       340.6      328.36         127]\n",
      "[     248.17      314.86      305.44       386.6         126]\n",
      "[     360.52      311.12      388.61      333.14         125]\n",
      "[      189.6      330.54      236.84      375.21         122]\n",
      "[        278      370.68      327.55      412.38         121]\n",
      "[     307.89      311.64      337.22      331.75         127]\n",
      "[     239.72      320.43      300.09      397.48         126]\n",
      "[      356.8      314.94      386.28      338.89         125]\n",
      "[      175.8      337.75      225.94      385.13         122]\n"
     ]
    },
    {
     "name": "stderr",
     "output_type": "stream",
     "text": [
      "0: 384x640 7 cars, 1 truck, 146.0ms\n",
      "Speed: 7.3ms preprocess, 146.0ms inference, 0.0ms postprocess per image at shape (1, 3, 384, 640)\n",
      "\n",
      "0: 384x640 (no detections), 114.9ms\n",
      "Speed: 4.8ms preprocess, 114.9ms inference, 0.0ms postprocess per image at shape (1, 3, 384, 640)\n",
      "\n"
     ]
    },
    {
     "name": "stdout",
     "output_type": "stream",
     "text": [
      "[     302.81      315.52      333.37      337.19         127]\n",
      "[     229.29      327.29      292.48      406.27         126]\n",
      "[     354.82      320.08      385.49      345.69         125]\n",
      "[     160.49      344.11      213.38      392.79         122]\n"
     ]
    },
    {
     "name": "stderr",
     "output_type": "stream",
     "text": [
      "0: 384x640 3 cars, 1 remote, 133.6ms\n",
      "Speed: 3.3ms preprocess, 133.6ms inference, 0.0ms postprocess per image at shape (1, 3, 384, 640)\n",
      "\n",
      "0: 384x640 6 cars, 2 trucks, 160.1ms\n",
      "Speed: 4.4ms preprocess, 160.1ms inference, 15.6ms postprocess per image at shape (1, 3, 384, 640)\n",
      "\n",
      "0: 384x640 7 cars, 2 buss, 2 trucks, 133.5ms\n",
      "Speed: 3.0ms preprocess, 133.5ms inference, 0.0ms postprocess per image at shape (1, 3, 384, 640)\n",
      "\n",
      "0: 384x640 7 cars, 1 bus, 2 trucks, 142.2ms\n",
      "Speed: 4.5ms preprocess, 142.2ms inference, 0.0ms postprocess per image at shape (1, 3, 384, 640)\n",
      "\n"
     ]
    },
    {
     "name": "stdout",
     "output_type": "stream",
     "text": [
      "[     305.43      315.11      337.41      338.54         132]\n",
      "[     231.07       319.9      265.35      345.03         131]\n",
      "[     280.98      336.09       316.4      363.63         127]\n",
      "[     299.84      319.87      333.59       344.1         132]\n",
      "[     221.17      325.62      257.38      352.14         131]\n",
      "[      308.2      282.38      355.07      319.43         129]\n",
      "[     272.84      343.56      310.64      372.97         127]\n",
      "[     333.99      355.37      372.36      389.03         125]\n"
     ]
    },
    {
     "name": "stderr",
     "output_type": "stream",
     "text": [
      "0: 384x640 9 cars, 1 truck, 134.1ms\n",
      "Speed: 3.5ms preprocess, 134.1ms inference, 15.6ms postprocess per image at shape (1, 3, 384, 640)\n",
      "\n",
      "0: 384x640 9 cars, 2 trucks, 128.1ms\n",
      "Speed: 2.7ms preprocess, 128.1ms inference, 0.0ms postprocess per image at shape (1, 3, 384, 640)\n",
      "\n"
     ]
    },
    {
     "name": "stdout",
     "output_type": "stream",
     "text": [
      "[     303.43      287.34      350.89      326.18         137]\n",
      "[        265      254.98       315.3      315.01         136]\n",
      "[     351.72       321.3      388.34      347.84         135]\n",
      "[     293.36      323.96      328.71       350.1         132]\n",
      "[     210.24      330.64      248.78       359.5         131]\n",
      "[     263.98      351.52      304.05      382.84         127]\n",
      "[     328.05      365.57      368.39      401.52         125]\n",
      "[     298.55      290.97      347.68       332.5         137]\n",
      "[     256.34      256.54      311.06      320.32         136]\n",
      "[     348.82      326.19      387.06      354.04         135]\n",
      "[     288.28      328.46      323.97      355.62         132]\n",
      "[     198.67       337.5      239.61      368.29         131]\n",
      "[     254.14      360.66      296.57      394.51         127]\n",
      "[     321.81      375.72      364.51      412.66         125]\n"
     ]
    },
    {
     "name": "stderr",
     "output_type": "stream",
     "text": [
      "0: 384x640 8 cars, 1 truck, 151.9ms\n",
      "Speed: 4.5ms preprocess, 151.9ms inference, 15.6ms postprocess per image at shape (1, 3, 384, 640)\n",
      "\n",
      "0: 384x640 7 cars, 2 trucks, 150.4ms\n"
     ]
    },
    {
     "name": "stdout",
     "output_type": "stream",
     "text": [
      "[     334.15      257.32      357.74      277.87         141]\n",
      "[     249.22      259.81      308.11      328.47         136]\n",
      "[     346.87      332.16      385.71      361.29         135]\n",
      "[     280.97       334.9      318.54      364.03         132]\n",
      "[     185.68      345.03      229.45      377.52         131]\n",
      "[     243.66      369.03      288.38       404.1         127]\n",
      "[     356.08      261.09      378.68      278.43         124]\n"
     ]
    },
    {
     "name": "stderr",
     "output_type": "stream",
     "text": [
      "Speed: 1.0ms preprocess, 150.4ms inference, 15.6ms postprocess per image at shape (1, 3, 384, 640)\n",
      "\n",
      "0: 384x640 4 cars, 2 trucks, 137.1ms\n",
      "Speed: 2.9ms preprocess, 137.1ms inference, 0.0ms postprocess per image at shape (1, 3, 384, 640)\n",
      "\n"
     ]
    },
    {
     "name": "stdout",
     "output_type": "stream",
     "text": [
      "[     330.15      254.99      356.41      278.04         141]\n",
      "[     240.87      261.62      302.94      333.01         136]\n",
      "[     341.99      338.38      383.99      370.34         135]\n",
      "[     368.91      309.82      398.08      333.15         133]\n",
      "[     273.52      340.89      313.61      371.82         132]\n",
      "[     172.73      353.11      218.41      387.25         131]\n",
      "[     289.87      297.26      343.37      341.15         129]\n",
      "[     354.39      262.41      377.35      279.77         124]\n",
      "[     232.01      264.21      297.86      339.94         136]\n",
      "[     337.46       345.7      381.53      379.63         135]\n",
      "[     366.94      318.37      396.47      340.62         133]\n",
      "[     267.37      348.68      308.22      381.45         132]\n",
      "[     158.97      361.15      205.92      395.33         131]\n"
     ]
    },
    {
     "name": "stderr",
     "output_type": "stream",
     "text": [
      "0: 384x640 3 cars, 2 trucks, 166.6ms\n",
      "Speed: 4.8ms preprocess, 166.6ms inference, 0.0ms postprocess per image at shape (1, 3, 384, 640)\n",
      "\n",
      "0: 384x640 4 cars, 2 trucks, 134.4ms\n",
      "Speed: 4.8ms preprocess, 134.4ms inference, 0.0ms postprocess per image at shape (1, 3, 384, 640)\n",
      "\n"
     ]
    },
    {
     "name": "stdout",
     "output_type": "stream",
     "text": [
      "[     273.17      308.26      332.35      361.99         137]\n",
      "[     221.75      266.24      291.31      345.78         136]\n",
      "[      332.4      354.31      378.12      390.13         135]\n",
      "[     364.19       323.5      394.52      346.54         133]\n",
      "[     258.67      355.96      301.66      390.88         132]\n",
      "[     264.56      314.22      326.79      371.46         137]\n",
      "[     209.63      268.91       283.6      353.78         136]\n",
      "[     327.06      364.73      373.82      402.36         135]\n",
      "[     359.97      326.43         393      352.76         133]\n",
      "[     247.51      365.69      293.55      402.89         132]\n"
     ]
    },
    {
     "name": "stderr",
     "output_type": "stream",
     "text": [
      "0: 384x640 2 cars, 2 trucks, 136.9ms\n",
      "Speed: 3.7ms preprocess, 136.9ms inference, 0.0ms postprocess per image at shape (1, 3, 384, 640)\n",
      "\n",
      "0: 384x640 6 cars, 2 trucks, 144.8ms\n",
      "Speed: 6.9ms preprocess, 144.8ms inference, 0.0ms postprocess per image at shape (1, 3, 384, 640)\n",
      "\n"
     ]
    },
    {
     "name": "stdout",
     "output_type": "stream",
     "text": [
      "[     257.84      319.17      325.32      381.18         137]\n",
      "[     197.22      272.55      276.46      363.15         136]\n",
      "[     320.12      375.27      369.38      414.36         135]\n",
      "[     356.87      332.26      391.37      360.77         133]\n",
      "[     183.27      276.52      268.35      373.04         136]\n",
      "[      353.7      338.28      389.52      368.93         133]\n"
     ]
    },
    {
     "name": "stderr",
     "output_type": "stream",
     "text": [
      "0: 384x640 5 cars, 3 trucks, 132.3ms\n",
      "Speed: 2.2ms preprocess, 132.3ms inference, 0.0ms postprocess per image at shape (1, 3, 384, 640)\n",
      "\n",
      "0: 384x640 3 cars, 1 truck, 163.8ms\n"
     ]
    },
    {
     "name": "stdout",
     "output_type": "stream",
     "text": [
      "[     167.83      280.14      258.84      382.89         136]\n",
      "[      349.7      345.78      387.76      379.02         133]\n"
     ]
    },
    {
     "name": "stderr",
     "output_type": "stream",
     "text": [
      "Speed: 3.8ms preprocess, 163.8ms inference, 0.0ms postprocess per image at shape (1, 3, 384, 640)\n",
      "\n",
      "0: 384x640 5 cars, 1 truck, 148.9ms\n",
      "Speed: 4.3ms preprocess, 148.9ms inference, 3.2ms postprocess per image at shape (1, 3, 384, 640)\n",
      "\n"
     ]
    },
    {
     "name": "stdout",
     "output_type": "stream",
     "text": [
      "[     299.06      279.14      323.47      295.39         141]\n",
      "[        152      283.22      248.69      390.46         136]\n",
      "[     323.92      299.64      356.25      321.22         144]\n",
      "[     293.96      283.27      318.53      299.26         141]\n",
      "[     133.42      287.61      236.98      398.29         136]\n"
     ]
    },
    {
     "name": "stderr",
     "output_type": "stream",
     "text": [
      "0: 384x640 3 cars, 1 truck, 136.7ms\n",
      "Speed: 4.5ms preprocess, 136.7ms inference, 0.0ms postprocess per image at shape (1, 3, 384, 640)\n",
      "\n",
      "0: 384x640 6 cars, 1 truck, 162.2ms\n"
     ]
    },
    {
     "name": "stdout",
     "output_type": "stream",
     "text": [
      "[     317.24      302.98       351.2      326.01         144]\n",
      "[     288.85       283.1      314.92      300.91         141]\n",
      "[     112.54      292.01      222.73      402.08         136]\n"
     ]
    },
    {
     "name": "stderr",
     "output_type": "stream",
     "text": [
      "Speed: 3.4ms preprocess, 162.2ms inference, 0.0ms postprocess per image at shape (1, 3, 384, 640)\n",
      "\n",
      "0: 384x640 3 cars, 119.9ms\n",
      "Speed: 1.0ms preprocess, 119.9ms inference, 0.0ms postprocess per image at shape (1, 3, 384, 640)\n",
      "\n"
     ]
    },
    {
     "name": "stdout",
     "output_type": "stream",
     "text": [
      "[     311.29      306.96      345.88       331.4         144]\n",
      "[     284.12      284.81      310.09      302.87         141]\n",
      "[     76.374      296.64      203.57      403.48         136]\n",
      "[     256.17      341.77      298.66      380.86         129]\n",
      "[     303.71      310.28      340.95      337.14         144]\n",
      "[      246.1      349.33      291.12      389.33         129]\n"
     ]
    },
    {
     "name": "stderr",
     "output_type": "stream",
     "text": [
      "0: 384x640 6 cars, 209.1ms\n",
      "Speed: 3.2ms preprocess, 209.1ms inference, 15.6ms postprocess per image at shape (1, 3, 384, 640)\n",
      "\n",
      "0: 384x640 2 cars, 1 remote, 142.0ms\n",
      "Speed: 4.7ms preprocess, 142.0ms inference, 0.0ms postprocess per image at shape (1, 3, 384, 640)\n",
      "\n"
     ]
    },
    {
     "name": "stdout",
     "output_type": "stream",
     "text": [
      "[     295.48      315.31      334.16      343.88         144]\n",
      "[     358.06      307.19      388.77      326.39         143]\n",
      "[     235.59       358.7       282.8      400.82         129]\n",
      "[     287.26      321.11      327.21      351.45         144]\n",
      "[     224.59      366.47      272.57      406.54         129]\n"
     ]
    },
    {
     "name": "stderr",
     "output_type": "stream",
     "text": [
      "0: 384x640 7 cars, 143.6ms\n",
      "Speed: 2.7ms preprocess, 143.6ms inference, 0.0ms postprocess per image at shape (1, 3, 384, 640)\n",
      "\n",
      "0: 384x640 7 cars, 134.0ms\n",
      "Speed: 3.4ms preprocess, 134.0ms inference, 0.0ms postprocess per image at shape (1, 3, 384, 640)\n",
      "\n"
     ]
    },
    {
     "name": "stdout",
     "output_type": "stream",
     "text": [
      "[     277.99      327.27      319.93       359.9         144]\n",
      "[     268.19      333.17      312.72      369.03         144]\n"
     ]
    },
    {
     "name": "stderr",
     "output_type": "stream",
     "text": [
      "0: 384x640 8 cars, 144.7ms\n",
      "Speed: 2.9ms preprocess, 144.7ms inference, 1.0ms postprocess per image at shape (1, 3, 384, 640)\n",
      "\n",
      "0: 384x640 8 cars, 135.9ms\n",
      "Speed: 3.8ms preprocess, 135.9ms inference, 0.0ms postprocess per image at shape (1, 3, 384, 640)\n",
      "\n"
     ]
    },
    {
     "name": "stdout",
     "output_type": "stream",
     "text": [
      "[     314.04      376.25       362.5      414.67         148]\n",
      "[      256.5      340.26      303.93      379.09         144]\n",
      "[     344.65       329.6      381.41      355.79         143]\n",
      "[     242.54      310.26      276.64      337.57         141]\n",
      "[     324.46      297.86      346.09      315.87         139]\n",
      "[     289.36      318.67      321.91      343.94         150]\n",
      "[      244.5      348.72      294.84      390.54         144]\n",
      "[     341.17      337.03      379.12      364.32         143]\n",
      "[     232.92      316.42      268.65      345.18         141]\n"
     ]
    },
    {
     "name": "stderr",
     "output_type": "stream",
     "text": [
      "0: 384x640 8 cars, 146.3ms\n",
      "Speed: 1.0ms preprocess, 146.3ms inference, 15.6ms postprocess per image at shape (1, 3, 384, 640)\n",
      "\n",
      "0: 384x640 12 cars, 135.6ms\n",
      "Speed: 4.9ms preprocess, 135.6ms inference, 0.0ms postprocess per image at shape (1, 3, 384, 640)\n",
      "\n"
     ]
    },
    {
     "name": "stdout",
     "output_type": "stream",
     "text": [
      "[     282.25      323.88      315.69      349.96         150]\n",
      "[     231.61      358.17      284.47      402.64         144]\n",
      "[      336.9      345.89      376.77      374.95         143]\n",
      "[     222.28      323.03       259.9         354         141]\n",
      "[     359.39      324.29      392.85      350.24         152]\n",
      "[     274.22       329.6      309.76      358.28         150]\n",
      "[     218.45      366.57      272.94      409.12         144]\n",
      "[     331.84      356.26       373.6         388         143]\n",
      "[     210.73      328.55      250.75      362.56         141]\n"
     ]
    },
    {
     "name": "stderr",
     "output_type": "stream",
     "text": [
      "0: 384x640 10 cars, 1 truck, 136.1ms\n",
      "Speed: 3.2ms preprocess, 136.1ms inference, 0.0ms postprocess per image at shape (1, 3, 384, 640)\n",
      "\n",
      "0: 384x640 10 cars, 136.8ms\n",
      "Speed: 1.0ms preprocess, 136.8ms inference, 0.0ms postprocess per image at shape (1, 3, 384, 640)\n",
      "\n"
     ]
    },
    {
     "name": "stdout",
     "output_type": "stream",
     "text": [
      "[     263.09      300.03       296.2      322.89         155]\n",
      "[     288.33      318.25      321.48      344.86         154]\n",
      "[     354.99      330.15      391.23      359.11         152]\n",
      "[     266.19      335.91      302.97      366.12         150]\n",
      "[     304.37       275.3       330.6      295.29         149]\n",
      "[     326.26      366.13      370.34         401         143]\n",
      "[     197.17      337.12      239.88      373.43         141]\n",
      "[     256.13      303.63      290.35      328.36         155]\n",
      "[     274.61      325.35      309.96      353.46         154]\n",
      "[      350.2      338.03       388.5      369.09         152]\n",
      "[     256.58       343.8      295.41      375.18         150]\n",
      "[     319.52      377.88      366.05       414.5         143]\n",
      "[     182.02      345.76       227.9      384.92         141]\n"
     ]
    },
    {
     "name": "stderr",
     "output_type": "stream",
     "text": [
      "0: 384x640 10 cars, 141.3ms\n",
      "Speed: 5.2ms preprocess, 141.3ms inference, 0.0ms postprocess per image at shape (1, 3, 384, 640)\n",
      "\n"
     ]
    },
    {
     "name": "stdout",
     "output_type": "stream",
     "text": [
      "[     312.64      273.14      330.38      287.48         158]\n",
      "[     365.31      287.01      397.42      310.24         157]\n",
      "[     248.13      307.87      283.84      333.88         155]\n",
      "[     258.04      332.26      296.66      361.91         154]\n",
      "[     345.01      346.98      385.04      380.34         152]\n",
      "[      245.3      352.82       286.7      386.08         150]\n",
      "[     164.91      356.03      213.63      395.66         141]\n"
     ]
    },
    {
     "name": "stderr",
     "output_type": "stream",
     "text": [
      "0: 384x640 7 cars, 1 truck, 178.1ms\n",
      "Speed: 5.0ms preprocess, 178.1ms inference, 5.9ms postprocess per image at shape (1, 3, 384, 640)\n",
      "\n",
      "0: 384x640 6 cars, 1 bus, 1 truck, 146.3ms\n",
      "Speed: 2.0ms preprocess, 146.3ms inference, 0.0ms postprocess per image at shape (1, 3, 384, 640)\n",
      "\n"
     ]
    },
    {
     "name": "stdout",
     "output_type": "stream",
     "text": [
      "[     289.25      286.24      315.66      305.55         159]\n",
      "[     362.08      290.73      394.47      314.62         157]\n",
      "[        241      312.39      277.42      340.04         155]\n",
      "[     338.08      356.95      380.86      393.41         152]\n",
      "[     233.02      360.16      277.35      396.96         150]\n",
      "[     285.55      288.69      311.39       307.5         159]\n",
      "[     358.12      294.06      390.68      318.68         157]\n",
      "[     231.83      318.27       269.9      347.21         155]\n",
      "[     341.85      256.38      376.95      285.11         153]\n",
      "[     331.29      367.74      376.43      405.89         152]\n",
      "[     219.29      371.07      264.22      406.29         150]\n"
     ]
    },
    {
     "name": "stderr",
     "output_type": "stream",
     "text": [
      "0: 384x640 6 cars, 138.9ms\n",
      "Speed: 4.8ms preprocess, 138.9ms inference, 0.0ms postprocess per image at shape (1, 3, 384, 640)\n",
      "\n",
      "0: 384x640 4 cars, 162.2ms\n",
      "Speed: 4.9ms preprocess, 162.2ms inference, 2.3ms postprocess per image at shape (1, 3, 384, 640)\n"
     ]
    },
    {
     "name": "stdout",
     "output_type": "stream",
     "text": [
      "[     281.87       292.3      307.82      310.92         159]\n",
      "[     356.66      299.12      388.27      323.61         157]\n",
      "[     221.87      324.46       261.4      354.88         155]\n",
      "[      324.6      380.01      370.53       417.6         152]\n"
     ]
    },
    {
     "name": "stderr",
     "output_type": "stream",
     "text": [
      "\n",
      "0: 384x640 4 cars, 1 bus, 155.9ms\n"
     ]
    },
    {
     "name": "stdout",
     "output_type": "stream",
     "text": [
      "[     276.21      297.49      302.87       315.7         159]\n",
      "[     353.35      305.93      384.84      329.73         157]\n",
      "[     210.06      331.63      252.16      364.51         155]\n",
      "[     297.44       281.6      321.15      298.89         149]\n"
     ]
    },
    {
     "name": "stderr",
     "output_type": "stream",
     "text": [
      "Speed: 0.0ms preprocess, 155.9ms inference, 0.0ms postprocess per image at shape (1, 3, 384, 640)\n",
      "\n",
      "0: 384x640 5 cars, 139.5ms\n",
      "Speed: 3.1ms preprocess, 139.5ms inference, 0.0ms postprocess per image at shape (1, 3, 384, 640)\n",
      "\n"
     ]
    },
    {
     "name": "stdout",
     "output_type": "stream",
     "text": [
      "[     269.83      299.89      297.56       319.3         159]\n",
      "[     350.96      312.03      382.94      336.15         157]\n",
      "[     197.42      338.72      242.16      373.94         155]\n",
      "[     294.37      282.44      318.51      300.25         149]\n",
      "[     263.63      303.33       292.4       323.9         159]\n",
      "[      347.2      317.52      380.58      342.32         157]\n",
      "[     183.16      346.44       230.6       383.9         155]\n",
      "[        290      283.64      314.87      302.44         149]\n"
     ]
    },
    {
     "name": "stderr",
     "output_type": "stream",
     "text": [
      "0: 384x640 5 cars, 1 remote, 159.7ms\n",
      "Speed: 3.3ms preprocess, 159.7ms inference, 0.0ms postprocess per image at shape (1, 3, 384, 640)\n",
      "\n",
      "0: 384x640 5 cars, 1 remote, 142.9ms\n",
      "Speed: 2.9ms preprocess, 142.9ms inference, 0.0ms postprocess per image at shape (1, 3, 384, 640)\n",
      "\n"
     ]
    },
    {
     "name": "stdout",
     "output_type": "stream",
     "text": [
      "[      256.9      307.65      286.57      329.02         159]\n",
      "[      343.7      324.66      377.98      349.85         157]\n",
      "[     167.27      355.06      217.52      393.38         155]\n",
      "[     286.24      285.37       311.1      303.91         149]\n",
      "[     249.21      311.35      279.94       333.9         159]\n",
      "[     339.24      330.88      375.01      357.38         157]\n",
      "[     281.38      287.83      307.31       307.2         149]\n"
     ]
    },
    {
     "name": "stderr",
     "output_type": "stream",
     "text": [
      "0: 384x640 7 cars, 140.9ms\n",
      "Speed: 6.3ms preprocess, 140.9ms inference, 0.0ms postprocess per image at shape (1, 3, 384, 640)\n",
      "\n",
      "0: 384x640 7 cars, 137.8ms\n",
      "Speed: 3.2ms preprocess, 137.8ms inference, 1.0ms postprocess per image at shape (1, 3, 384, 640)\n",
      "\n"
     ]
    },
    {
     "name": "stdout",
     "output_type": "stream",
     "text": [
      "[     362.01      313.93      394.05      336.59         163]\n",
      "[     241.17      316.08      273.03      340.09         159]\n",
      "[     333.71      338.63      371.31         367         157]\n",
      "[     276.19      291.05      302.79      310.67         149]\n",
      "[      357.5      316.98      393.59      343.01         163]\n",
      "[     232.86      321.19      265.53      346.76         159]\n",
      "[      329.1      346.85      368.69      377.47         157]\n",
      "[     271.25      295.62      298.96      315.77         149]\n"
     ]
    },
    {
     "name": "stderr",
     "output_type": "stream",
     "text": [
      "0: 384x640 7 cars, 140.7ms\n",
      "Speed: 3.3ms preprocess, 140.7ms inference, 0.0ms postprocess per image at shape (1, 3, 384, 640)\n",
      "\n",
      "0: 384x640 8 cars, 159.3ms\n",
      "Speed: 5.3ms preprocess, 159.3ms inference, 0.0ms postprocess per image at shape (1, 3, 384, 640)\n",
      "\n"
     ]
    },
    {
     "name": "stdout",
     "output_type": "stream",
     "text": [
      "[     354.37      322.22      392.46      350.59         163]\n",
      "[     223.31      326.59      257.66      353.43         159]\n",
      "[     321.72      357.01      364.96      390.42         157]\n",
      "[     266.35      298.64       294.8      320.24         149]\n",
      "[      350.2      327.78      389.71      358.84         163]\n",
      "[     213.06       333.1      248.56      361.07         159]\n",
      "[     313.67      368.79      360.49      405.35         157]\n",
      "[     259.51      302.62       289.2      326.17         149]\n"
     ]
    },
    {
     "name": "stderr",
     "output_type": "stream",
     "text": [
      "0: 384x640 7 cars, 142.6ms\n",
      "Speed: 1.0ms preprocess, 142.6ms inference, 15.6ms postprocess per image at shape (1, 3, 384, 640)\n",
      "\n",
      "0: 384x640 4 cars, 1 truck, 162.9ms\n"
     ]
    },
    {
     "name": "stdout",
     "output_type": "stream",
     "text": [
      "[     345.95       334.4      386.89      367.01         163]\n",
      "[     202.16      340.27      240.12      370.11         159]\n",
      "[     306.98      380.26      355.44      415.97         157]\n",
      "[      308.3      281.89      355.17      322.59         153]\n",
      "[     253.06      306.05      283.93       331.6         149]\n"
     ]
    },
    {
     "name": "stderr",
     "output_type": "stream",
     "text": [
      "Speed: 4.1ms preprocess, 162.9ms inference, 0.0ms postprocess per image at shape (1, 3, 384, 640)\n",
      "\n",
      "0: 384x640 3 cars, 140.7ms\n",
      "Speed: 3.7ms preprocess, 140.7ms inference, 0.0ms postprocess per image at shape (1, 3, 384, 640)\n",
      "\n"
     ]
    },
    {
     "name": "stdout",
     "output_type": "stream",
     "text": [
      "[     342.56      342.98      385.24      377.64         163]\n",
      "[     188.98      348.32      229.35      380.35         159]\n",
      "[      302.9      284.14      350.76      327.75         153]\n",
      "[     246.19      310.18      278.07      337.22         149]\n",
      "[     337.57      351.64      381.84      387.67         163]\n",
      "[     174.23      357.03       217.8      391.33         159]\n",
      "[     237.88      315.14      270.66      342.99         149]\n"
     ]
    },
    {
     "name": "stderr",
     "output_type": "stream",
     "text": [
      "0: 384x640 5 cars, 1 truck, 145.1ms\n",
      "Speed: 3.4ms preprocess, 145.1ms inference, 0.0ms postprocess per image at shape (1, 3, 384, 640)\n",
      "\n",
      "0: 384x640 3 cars, 132.2ms\n",
      "Speed: 3.3ms preprocess, 132.2ms inference, 15.7ms postprocess per image at shape (1, 3, 384, 640)\n",
      "\n"
     ]
    },
    {
     "name": "stdout",
     "output_type": "stream",
     "text": [
      "[     331.12      362.46      378.03      402.03         163]\n",
      "[     228.63      322.07      263.08      351.71         149]\n",
      "[      325.5       372.5      373.39      412.13         163]\n",
      "[     218.27      327.61      254.91      359.75         149]\n"
     ]
    },
    {
     "name": "stderr",
     "output_type": "stream",
     "text": [
      "0: 384x640 6 cars, 1 truck, 137.7ms\n",
      "Speed: 3.9ms preprocess, 137.7ms inference, 6.0ms postprocess per image at shape (1, 3, 384, 640)\n",
      "\n",
      "0: 384x640 4 cars, 1 truck, 152.9ms\n",
      "Speed: 2.4ms preprocess, 152.9ms inference, 0.0ms postprocess per image at shape (1, 3, 384, 640)\n",
      "\n"
     ]
    },
    {
     "name": "stdout",
     "output_type": "stream",
     "text": [
      "[     207.05      329.19      248.94      367.01         149]\n",
      "[     333.93      360.35      378.73      394.26         169]\n"
     ]
    },
    {
     "name": "stderr",
     "output_type": "stream",
     "text": [
      "0: 384x640 5 cars, 1 truck, 144.0ms\n",
      "Speed: 3.9ms preprocess, 144.0ms inference, 0.0ms postprocess per image at shape (1, 3, 384, 640)\n",
      "\n",
      "0: 384x640 7 cars, 1 truck, 138.0ms\n",
      "Speed: 4.5ms preprocess, 138.0ms inference, 0.0ms postprocess per image at shape (1, 3, 384, 640)\n",
      "\n"
     ]
    },
    {
     "name": "stdout",
     "output_type": "stream",
     "text": [
      "[     327.28      371.45      374.38      408.51         169]\n",
      "[     348.66      316.35      388.73      362.86         165]\n",
      "[     260.81      309.63      316.07      367.76         153]\n",
      "[     301.95      307.86      334.16      335.74         172]\n",
      "[     321.86       383.2      369.45      419.05         169]\n",
      "[     344.48       323.7      385.98      373.31         165]\n",
      "[     252.29      314.25      310.57      376.76         153]\n"
     ]
    },
    {
     "name": "stderr",
     "output_type": "stream",
     "text": [
      "0: 384x640 7 cars, 1 truck, 155.0ms\n",
      "Speed: 5.5ms preprocess, 155.0ms inference, 0.0ms postprocess per image at shape (1, 3, 384, 640)\n",
      "\n",
      "0: 384x640 9 cars, 1 bus, 2 trucks, 130.5ms\n",
      "Speed: 3.5ms preprocess, 130.5ms inference, 0.0ms postprocess per image at shape (1, 3, 384, 640)\n",
      "\n"
     ]
    },
    {
     "name": "stdout",
     "output_type": "stream",
     "text": [
      "[      295.3      312.94      329.48      342.68         172]\n",
      "[     338.47      331.62      382.91      384.94         165]\n",
      "[     242.13      320.75      303.28      386.92         153]\n",
      "[     370.63      276.99      402.83      307.89         173]\n",
      "[     288.86      317.51      324.72      349.43         172]\n",
      "[     333.94      277.45      363.65      301.94         168]\n",
      "[     331.91      337.22      379.63      397.51         165]\n",
      "[     231.05      327.36      295.63      396.79         153]\n"
     ]
    },
    {
     "name": "stderr",
     "output_type": "stream",
     "text": [
      "0: 384x640 7 cars, 178.2ms\n",
      "Speed: 2.9ms preprocess, 178.2ms inference, 0.0ms postprocess per image at shape (1, 3, 384, 640)\n",
      "\n",
      "0: 384x640 7 cars, 1 truck, 152.2ms\n",
      "Speed: 3.4ms preprocess, 152.2ms inference, 1.0ms postprocess per image at shape (1, 3, 384, 640)\n"
     ]
    },
    {
     "name": "stdout",
     "output_type": "stream",
     "text": [
      "[     323.36      285.28      362.49      313.84         175]\n",
      "[     301.22      274.94      330.87      296.43         174]\n",
      "[      282.2      324.18      319.54      357.43         172]\n",
      "[     330.01       280.8      360.69       305.4         168]\n",
      "[     325.49      344.41      375.27      409.26         165]\n",
      "[     296.25      274.95       327.7      298.45         174]\n",
      "[     274.68      330.15      314.32      365.81         172]\n",
      "[     318.78      351.01      370.22      417.25         165]\n"
     ]
    }
   ],
   "source": [
    "# for video 2 - \n",
    "cap = cv2.VideoCapture(r\"C:\\Users\\Dell\\Downloads\\Analysis\\project9-Object_detection\\vid1.mp4\") # path\n",
    "model = YOLO(r'C:\\Users\\Dell\\Downloads\\Analysis\\project9-Object_detection\\yolov8n.pt')\n",
    "mask = cv2.imread('xx.png')\n",
    "# resize mask -\n",
    "mask = cv2.resize(mask, (int(cap.get(3)), int(cap.get(4))))\n",
    "tracker = Sort(max_age=20,min_hits=3,iou_threshold=0.3)\n",
    "limits = [170,360,400,360]\n",
    "totalCount = []\n",
    "while True:\n",
    "    success, img = cap.read()\n",
    "    imgRegion = cv2.bitwise_and(img, mask)\n",
    "    results = model(imgRegion, stream=True)\n",
    " \n",
    "    detections = np.empty((0, 5))\n",
    " \n",
    "    for r in results:\n",
    "        boxes = r.boxes\n",
    "        for box in boxes:\n",
    "            # Bounding Box\n",
    "            x1, y1, x2, y2 = box.xyxy[0]\n",
    "            x1, y1, x2, y2 = int(x1), int(y1), int(x2), int(y2)\n",
    "            # cv2.rectangle(img,(x1,y1),(x2,y2),(255,0,255),3)\n",
    "            w, h = x2 - x1, y2 - y1\n",
    " \n",
    "            # Confidence\n",
    "            conf = math.ceil((box.conf[0] * 100)) / 100\n",
    "            # Class Name\n",
    "            cls = int(box.cls[0])\n",
    "            currentClass = classNames[cls]\n",
    " \n",
    "            if currentClass == \"car\" or currentClass == \"truck\" or currentClass == \"bus\" \\\n",
    "                    or currentClass == \"motorbike\" and conf > 0.3:\n",
    "                # cvzone.putTextRect(img, f'{currentClass} {conf}', (max(0, x1), max(35, y1)),\n",
    "                #                    scale=0.6, thickness=1, offset=3)\n",
    "                # cvzone.cornerRect(img, (x1, y1, w, h), l=9, rt=5)\n",
    "                currentArray = np.array([x1, y1, x2, y2, conf])\n",
    "                detections = np.vstack((detections, currentArray))\n",
    " \n",
    "    resultsTracker = tracker.update(detections)\n",
    " \n",
    "    cv2.line(img, (limits[0], limits[1]), (limits[2], limits[3]), (0, 0, 255), 5)\n",
    "    for result in resultsTracker:\n",
    "        x1, y1, x2, y2, id = result\n",
    "        x1, y1, x2, y2 = int(x1), int(y1), int(x2), int(y2)\n",
    "        print(result)\n",
    "        w, h = x2 - x1, y2 - y1\n",
    "        cvzone.cornerRect(img, (x1, y1, w, h), l=9, rt=2, colorR=(255, 0, 255))\n",
    "        cvzone.putTextRect(img, f' {int(id)}', (max(0, x1), max(35, y1)),\n",
    "                           scale=2, thickness=3, offset=10)\n",
    "        # circle denoting centre point , when these touch the line then only count\n",
    "        cx, cy = x1 + w // 2, y1 + h // 2\n",
    "        cv2.circle(img, (cx, cy), 5, (255, 0, 255), cv2.FILLED)\n",
    "        # if point detected in this region , count\n",
    "        if limits[0] < cx < limits[2] and limits[1] - 15 < cy < limits[1] + 15:\n",
    "            if totalCount.count(id) == 0:\n",
    "                totalCount.append(id)\n",
    "                cv2.line(img, (limits[0], limits[1]), (limits[2], limits[3]), (0, 255, 0), 5)\n",
    " \n",
    "    # cvzone.putTextRect(img, f' Count: {len(totalCount)}', (50, 50))\n",
    "    cv2.putText(img,f'count : {str(len(totalCount))}',(255,100),cv2.FONT_HERSHEY_PLAIN,4,(50,50,255),8)\n",
    " \n",
    "    cv2.imshow(\"Image\", img)\n",
    "    # cv2.imshow(\"ImageRegion\", imgRegion)\n",
    "    key = cv2.waitKey(1) & 0xFF\n",
    "    if key != 255:  # Check if any key is pressed (not equal to 255)\n",
    "        break\n",
    "\n",
    "# Release the camera and close all OpenCV windows\n",
    "cap.release()\n",
    "cv2.destroyAllWindows()"
   ]
  },
  {
   "cell_type": "code",
   "execution_count": null,
   "id": "c669c7b6",
   "metadata": {},
   "outputs": [],
   "source": []
  },
  {
   "cell_type": "markdown",
   "id": "d11a8be5",
   "metadata": {},
   "source": [
    "# people counter -"
   ]
  },
  {
   "cell_type": "code",
   "execution_count": null,
   "id": "04ae5ea1",
   "metadata": {},
   "outputs": [],
   "source": [
    "# here we will create counter for two lanes -"
   ]
  },
  {
   "cell_type": "code",
   "execution_count": null,
   "id": "d4a47804",
   "metadata": {},
   "outputs": [],
   "source": [
    "cap = cv2.VideoCapture(r\"C:\\Users\\Dell\\Downloads\\Analysis\\project9-Object_detection\\vid1.mp4\") # path\n",
    "model = YOLO(r'C:\\Users\\Dell\\Downloads\\Analysis\\project9-Object_detection\\yolov8n.pt')\n",
    "mask = cv2.imread('xx.png')\n",
    "# resize mask -\n",
    "mask = cv2.resize(mask, (int(cap.get(3)), int(cap.get(4))))\n",
    "tracker = Sort(max_age=20,min_hits=3,iou_threshold=0.3)\n",
    "limitsUp = [103, 161, 296, 161]\n",
    "limitsDown = [527, 489, 735, 489]\n",
    " \n",
    "totalCountUp = []\n",
    "totalCountDown = []\n",
    " \n",
    "while True:\n",
    "    success, img = cap.read()\n",
    "    imgRegion = cv2.bitwise_and(img, mask)\n",
    " \n",
    "    imgGraphics = cv2.imread(\"graphics.png\", cv2.IMREAD_UNCHANGED)\n",
    "    img = cvzone.overlayPNG(img, imgGraphics, (730, 260))\n",
    "    results = model(imgRegion, stream=True)\n",
    " \n",
    "    detections = np.empty((0, 5))\n",
    " \n",
    "    for r in results:\n",
    "        boxes = r.boxes\n",
    "        for box in boxes:\n",
    "            # Bounding Box\n",
    "            x1, y1, x2, y2 = box.xyxy[0]\n",
    "            x1, y1, x2, y2 = int(x1), int(y1), int(x2), int(y2)\n",
    "            # cv2.rectangle(img,(x1,y1),(x2,y2),(255,0,255),3)\n",
    "            w, h = x2 - x1, y2 - y1\n",
    " \n",
    "            # Confidence\n",
    "            conf = math.ceil((box.conf[0] * 100)) / 100\n",
    "            # Class Name\n",
    "            cls = int(box.cls[0])\n",
    "            currentClass = classNames[cls]\n",
    " \n",
    "            if currentClass == \"person\" and conf > 0.3:\n",
    "                currentArray = np.array([x1, y1, x2, y2, conf])\n",
    "                detections = np.vstack((detections, currentArray))\n",
    " \n",
    "    resultsTracker = tracker.update(detections)\n",
    " \n",
    "    cv2.line(img, (limitsUp[0], limitsUp[1]), (limitsUp[2], limitsUp[3]), (0, 0, 255), 5)\n",
    "    cv2.line(img, (limitsDown[0], limitsDown[1]), (limitsDown[2], limitsDown[3]), (0, 0, 255), 5)\n",
    " \n",
    "    for result in resultsTracker:\n",
    "        x1, y1, x2, y2, id = result\n",
    "        x1, y1, x2, y2 = int(x1), int(y1), int(x2), int(y2)\n",
    "        print(result)\n",
    "        w, h = x2 - x1, y2 - y1\n",
    "        cvzone.cornerRect(img, (x1, y1, w, h), l=9, rt=2, colorR=(255, 0, 255))\n",
    "        cvzone.putTextRect(img, f' {int(id)}', (max(0, x1), max(35, y1)),\n",
    "                           scale=2, thickness=3, offset=10)\n",
    " \n",
    "        cx, cy = x1 + w // 2, y1 + h // 2\n",
    "        cv2.circle(img, (cx, cy), 5, (255, 0, 255), cv2.FILLED)\n",
    " \n",
    "        if limitsUp[0] < cx < limitsUp[2] and limitsUp[1] - 15 < cy < limitsUp[1] + 15:\n",
    "            if totalCountUp.count(id) == 0:\n",
    "                totalCountUp.append(id)\n",
    "                cv2.line(img, (limitsUp[0], limitsUp[1]), (limitsUp[2], limitsUp[3]), (0, 255, 0), 5)\n",
    " \n",
    "        if limitsDown[0] < cx < limitsDown[2] and limitsDown[1] - 15 < cy < limitsDown[1] + 15:\n",
    "            if totalCountDown.count(id) == 0:\n",
    "                totalCountDown.append(id)\n",
    "                cv2.line(img, (limitsDown[0], limitsDown[1]), (limitsDown[2], limitsDown[3]), (0, 255, 0), 5)\n",
    "    # # cvzone.putTextRect(img, f' Count: {len(totalCount)}', (50, 50))\n",
    "    cv2.putText(img,str(len(totalCountUp)),(929,345),cv2.FONT_HERSHEY_PLAIN,5,(139,195,75),7)\n",
    "    cv2.putText(img,str(len(totalCountDown)),(1191,345),cv2.FONT_HERSHEY_PLAIN,5,(50,50,230),7)\n",
    " \n",
    "    cv2.imshow(\"Image\", img)\n",
    "    # cv2.imshow(\"ImageRegion\", imgRegion)\n",
    "    key = cv2.waitKey(1) & 0xFF\n",
    "    if key != 255:  # Check if any key is pressed (not equal to 255)\n",
    "        break\n",
    "\n",
    "# Release the camera and close all OpenCV windows\n",
    "cap.release()\n",
    "cv2.destroyAllWindows()"
   ]
  },
  {
   "cell_type": "code",
   "execution_count": null,
   "id": "773b6a28",
   "metadata": {},
   "outputs": [],
   "source": []
  },
  {
   "cell_type": "code",
   "execution_count": null,
   "id": "5c2091ef",
   "metadata": {},
   "outputs": [],
   "source": []
  }
 ],
 "metadata": {
  "kernelspec": {
   "display_name": "Python 3 (ipykernel)",
   "language": "python",
   "name": "python3"
  },
  "language_info": {
   "codemirror_mode": {
    "name": "ipython",
    "version": 3
   },
   "file_extension": ".py",
   "mimetype": "text/x-python",
   "name": "python",
   "nbconvert_exporter": "python",
   "pygments_lexer": "ipython3",
   "version": "3.11.5"
  }
 },
 "nbformat": 4,
 "nbformat_minor": 5
}
